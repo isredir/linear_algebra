{
 "cells": [
  {
   "cell_type": "markdown",
   "metadata": {},
   "source": [
    "# Линейная алгебра. Лабораторная работа 1, зима 2021, пилотный поток"
   ]
  },
  {
   "cell_type": "markdown",
   "metadata": {},
   "source": [
    "В этой лабораторной работе вы познакомитесь со средой Jupyter Notebook и библиотеками numpy и scipy."
   ]
  },
  {
   "cell_type": "markdown",
   "metadata": {},
   "source": [
    "## Часть 1. Библиотеки"
   ]
  },
  {
   "cell_type": "markdown",
   "metadata": {},
   "source": [
    "В этой лабораторной работе вам понадобятся три библиотеки:\n",
    "\n",
    "- `numpy` - основная библиотека для работы с матрицами;\n",
    "- `scipy`, а точнее модуль `scipy.linalg`, содержащий множество функций линейной алгебры;\n",
    "- `matplotlib` - графическая библиотека\n",
    "\n",
    "Подключить их можно следующим образом:"
   ]
  },
  {
   "cell_type": "code",
   "execution_count": 2,
   "metadata": {},
   "outputs": [],
   "source": [
    "# Запустите этот код\n",
    "import numpy as np\n",
    "\n",
    "import scipy.linalg as sla\n",
    "\n",
    "import matplotlib.pyplot as plt\n",
    "%matplotlib inline"
   ]
  },
  {
   "cell_type": "markdown",
   "metadata": {},
   "source": [
    "Теперь вы можете позвать, скажем, функцию `scipy.linalg.det()` с помощью кода `sla.det()`, а функцию `numpy.exp()` - с помощью кода `np.exp()`."
   ]
  },
  {
   "cell_type": "markdown",
   "metadata": {},
   "source": [
    "**Основные объекты и операции линейной алгебры в NumPy и SciPy:**"
   ]
  },
  {
   "cell_type": "markdown",
   "metadata": {},
   "source": [
    "Основной объект, с которым вам придётся работать и в этой, и в следующих лабораторных &mdash; это, безусловно, матрицы. В библиотеке `numpy` они представлены классом `numpy.ndarray`. Матрицу можно создать из двумерного (а на самом деле и не только двумерного) массива следующим образом:"
   ]
  },
  {
   "cell_type": "code",
   "execution_count": 18,
   "metadata": {},
   "outputs": [
    {
     "name": "stdout",
     "output_type": "stream",
     "text": [
      "[[1 2 3]\n",
      " [4 5 6]]\n",
      "(2, 3)\n"
     ]
    }
   ],
   "source": [
    "# Запустите этот код\n",
    "A = np.array([[1, 2, 3], [4, 5, 6]])\n",
    "\n",
    "print(A)\n",
    "print(A.shape) # пара (число строк, число столбцов)"
   ]
  },
  {
   "cell_type": "markdown",
   "metadata": {},
   "source": [
    "Обратите внимание, что матрица заполняется *по строкам*.\n",
    "\n",
    "Есть и много других конструкторов матриц. Например, единичная матрица размера $n\\times n$ создаётся с помощью функции `numpy.eye(n)`. Со всем многообразием конструкторов можно ознакомиться [на этой странице](https://docs.scipy.org/doc/numpy-1.10.1/reference/routines.array-creation.html)."
   ]
  },
  {
   "cell_type": "markdown",
   "metadata": {},
   "source": [
    "Зачастую бывает нужно получить доступ к подматрицам данной матрицы, и numpy предоставляет множество удобных средств, как это сделать (называется slicing):\n",
    "- элемент с номером `(i,j)`: `A[i,j]`\n",
    "- i-я строка матрицы: `A[i,:]`\n",
    "- j-й столбец матрицы: `A[:,j]`\n",
    "\n",
    "**Внимание!** Оба варианта, и `A[i,:]`, и `A[:,j]` дают не строку или столбец, а одномерный вектор. Если вы хотите получить вектор-строку или вектор-столбец соответственно, используйте вот такой синтаксис: `A[i:i+1,:]`, и `A[:,j:j+1]`\n",
    "- строки с нулевой по i-ю: `A[:i+1,:]`\n",
    "- столбцы с j-го по последний: `A[:,j:]`\n",
    "- строки с i-й по k-ю: `A[i:k,:]`\n",
    "\n",
    "В некоторых случаях нужно получить доступ к (прямоугольной) подматрице, элементы которой находятся на пересечении строк из списка `rows` и столбцов `columns`. В этом случае `A[rows, columns]` даст не то, что вы ожидаете (можете попробовать это сделать сами и увидеть, что получится; только возьмите `rows` и `columns` одного размера). Справиться с этой задачей позволяет код `A[np.ix_(rows, columns)]`."
   ]
  },
  {
   "cell_type": "markdown",
   "metadata": {},
   "source": [
    "*Умножение матриц* производится с помощью оператора `np.dot()`. Есть два варианта написания: `A.dot(B)` и `np.dot(A, B)`.\n",
    "\n",
    "Обычные знаки арифметических действий (`+`, `-`, `*`) зарезервированы для поэлементных операций. Например, `A * B` &mdash; это матрица, элементами которой являются произведения $A_{ij}B_{ij}$. Помимо этих есть и множество других поэлементных операций. Например, `numpy.exp(A)` &mdash; это матрица, элементами которой являются экспоненты элементов матрицы `A`."
   ]
  },
  {
   "cell_type": "markdown",
   "metadata": {},
   "source": [
    "Чтобы получить матрицу, *транспонированную* к матрице `A`, напишите просто `A.T`. "
   ]
  },
  {
   "cell_type": "markdown",
   "metadata": {},
   "source": [
    "В некоторых случаях бывает нужно создавать *случайные матрицы*: например, при проведении экспериментов или для инициализации итеративных методов. Средства для этого предоставляет пакет [numpy.random](https://docs.scipy.org/doc/numpy/reference/routines.random.html). Так, `np.random.rand(m,n)` &mdash; это матрица $m\\times n$, элементы которой независимо выбраны из равномерного распределения на интервале `[0;1)`."
   ]
  },
  {
   "cell_type": "markdown",
   "metadata": {},
   "source": [
    "Для *решения систем линейных уравнений* в пакете `scipy.linalg` есть множество методов, рассмотрение которых выходит за пределы курса линейной алгебры. Мы вам пока предлагаем пользоваться функцией `scipy.linalg.solve`, основанной на методе Гаусса. Отметим, что `scipy.linalg.solve(A, B)` выдаёт решение уравнения $AX = B$ (или ошибку), где $B$ может быть как вектором, так и матрицей.\n",
    "\n",
    "Найти обратную матрицу для матрицы $A$ можно с помощью функции `sla.inv(A)`."
   ]
  },
  {
   "cell_type": "markdown",
   "metadata": {},
   "source": [
    "**Копирование сложных объектов в Python**"
   ]
  },
  {
   "cell_type": "markdown",
   "metadata": {},
   "source": [
    "Когда вы делаете присваивание каких-то сложных объектов, как правило оно происходит по ссылке. Например, код\n",
    "```\n",
    "B = A\n",
    "B[0,0] = 10\n",
    "```\n",
    "приведёт к изменению матрицы `A`.\n",
    "\n",
    "Не попадайтесь в эту ловушку! Если вы хотите работать с копией как с независимой матрицей, используйте метод `copy()`:\n",
    "```\n",
    "B = A.copy()\n",
    "```"
   ]
  },
  {
   "cell_type": "markdown",
   "metadata": {},
   "source": [
    "**Где искать помощь**"
   ]
  },
  {
   "cell_type": "markdown",
   "metadata": {},
   "source": [
    "Библиотеки `numpy` и `scipy` снабжены прекрасной документацией. Если у вас возникают вопросы о том, как работает та или иная функция (или даже как называется функция, выполняющая то, что вам нужно), вы почти всегда можете найти там ответы.\n",
    "\n",
    "[Ссылка на документацию пакета scipy.linalg](https://docs.scipy.org/doc/scipy-0.18.1/reference/linalg.html)"
   ]
  },
  {
   "cell_type": "markdown",
   "metadata": {},
   "source": [
    "**И всё-таки задание**"
   ]
  },
  {
   "cell_type": "markdown",
   "metadata": {},
   "source": [
    "В качестве первого задания мы попросим вас отыскать соответствующие функции в библиотеке и сделать следующее:\n",
    "\n",
    "- создайте нулевую матрицу $Z$ размера $3\\times4$;\n",
    "\n",
    "- создайте диагональную матрицу $5\\times5$ с диагональными элементами 1, 2, 3, 4 и 5;\n",
    "\n",
    "- найдите её след (не силою мысли, а с помощью библиотечных функций, конечно);\n",
    "\n",
    "- найдите обратную к ней матрицу;\n",
    "\n",
    "- сгенерируйте случайную матрицу $X$ размера $4\\times5$;\n",
    "\n",
    "- найдите определитель подматрицы матрицы $X$, расположенной на пересечении 2 и 3 строки и 1 и 2 столбца; считаем, что строки и столбцы нумеруются с единицы (используйте slicing!). Такой определитель называется **минором** матрицы $X$;\n",
    "\n",
    "- найдите произведение $X^TX$.\n",
    "\n",
    "Пожалуйста, каждый пункт делайте в новом блоке и не забывайте распечатывать результаты."
   ]
  },
  {
   "cell_type": "markdown",
   "metadata": {},
   "source": [
    "А сейчас мы в качестве примера создадим единичную матрицу:"
   ]
  },
  {
   "cell_type": "code",
   "execution_count": 2,
   "metadata": {},
   "outputs": [
    {
     "data": {
      "text/plain": [
       "array([[1., 0., 0.],\n",
       "       [0., 1., 0.],\n",
       "       [0., 0., 1.]])"
      ]
     },
     "execution_count": 2,
     "metadata": {},
     "output_type": "execute_result"
    }
   ],
   "source": [
    "np.eye(3)"
   ]
  },
  {
   "cell_type": "code",
   "execution_count": 8,
   "metadata": {},
   "outputs": [
    {
     "name": "stdout",
     "output_type": "stream",
     "text": [
      "[[0. 0. 0. 0.]\n",
      " [0. 0. 0. 0.]\n",
      " [0. 0. 0. 0.]]\n"
     ]
    }
   ],
   "source": [
    "Z = np.zeros((3, 4))\n",
    "print(Z)"
   ]
  },
  {
   "cell_type": "code",
   "execution_count": 6,
   "metadata": {},
   "outputs": [
    {
     "name": "stdout",
     "output_type": "stream",
     "text": [
      "[[1 0 0 0 0]\n",
      " [0 2 0 0 0]\n",
      " [0 0 3 0 0]\n",
      " [0 0 0 4 0]\n",
      " [0 0 0 0 5]]\n"
     ]
    }
   ],
   "source": [
    "B = np.diagflat([1, 2, 3, 4, 5])\n",
    "print(B)"
   ]
  },
  {
   "cell_type": "code",
   "execution_count": 9,
   "metadata": {},
   "outputs": [
    {
     "name": "stdout",
     "output_type": "stream",
     "text": [
      "15\n"
     ]
    }
   ],
   "source": [
    "print(np.trace(B))"
   ]
  },
  {
   "cell_type": "code",
   "execution_count": 10,
   "metadata": {},
   "outputs": [
    {
     "name": "stdout",
     "output_type": "stream",
     "text": [
      "[[ 1.          0.          0.          0.         -0.        ]\n",
      " [ 0.          0.5         0.          0.         -0.        ]\n",
      " [ 0.          0.          0.33333333  0.         -0.        ]\n",
      " [ 0.          0.          0.          0.25       -0.        ]\n",
      " [ 0.          0.          0.          0.          0.2       ]]\n"
     ]
    }
   ],
   "source": [
    "invB = sla.inv(B)\n",
    "print(invB)"
   ]
  },
  {
   "cell_type": "code",
   "execution_count": 11,
   "metadata": {},
   "outputs": [
    {
     "name": "stdout",
     "output_type": "stream",
     "text": [
      "[[0.47514069 0.02596408 0.58702351 0.96643728 0.53262721]\n",
      " [0.21549434 0.18578081 0.78086982 0.27523774 0.59377294]\n",
      " [0.51627228 0.18568761 0.81584093 0.810203   0.54363884]\n",
      " [0.47556505 0.93297136 0.55783389 0.61610301 0.2994644 ]]\n"
     ]
    }
   ],
   "source": [
    "X = np.random.rand(4, 5)\n",
    "print(X)"
   ]
  },
  {
   "cell_type": "code",
   "execution_count": 15,
   "metadata": {},
   "outputs": [
    {
     "name": "stdout",
     "output_type": "stream",
     "text": [
      "[[0.21549434 0.18578081]\n",
      " [0.51627228 0.18568761]]\n",
      "-0.05589885202680776\n"
     ]
    }
   ],
   "source": [
    "Y = np.array([[X[1, 0], X[1, 1]], [X[2, 0], X[2, 1]]])\n",
    "print(Y)\n",
    "print(sla.det(Y))"
   ]
  },
  {
   "cell_type": "code",
   "execution_count": 16,
   "metadata": {},
   "outputs": [
    {
     "name": "stdout",
     "output_type": "stream",
     "text": [
      "[[0.76489568 0.59192525 1.13367415 1.22978827 0.80410804]\n",
      " [0.59192525 0.94010409 0.83224675 0.80147767 0.5044795 ]\n",
      " [1.13367415 0.83224675 1.93112935 1.78692617 1.38689828]\n",
      " [1.22978827 0.80147767 1.78692617 2.04576866 1.30313826]\n",
      " [0.80410804 0.5044795  1.38689828 1.30313826 1.02148017]]\n"
     ]
    }
   ],
   "source": [
    "print(np.dot(X.T, X))"
   ]
  },
  {
   "cell_type": "markdown",
   "metadata": {},
   "source": [
    "## Часть 2. Время\n",
    "\n",
    "Питон мотивирует пользоваться библиотечными функциями, когда они доступны, а не писать собственные. Библиотечные функции основаны на современных алгоритмах, обычно пишутся на более эффективных языках, таких как C++ или Fortran, а кроме того, оптимизированы для работы на многопроцессорных устройствах, так что обогнать эти решения просто так вы не сможете.\n",
    "\n",
    "Мы предлагаем вам убедиться в этом самим. Напишите функцию `my_det`, которая вычисляла бы определитель матрицы с помощью элементарных преобразований над строками. Функция должна выкидывать `ValueError` в случаях, если матрица не является квадратной."
   ]
  },
  {
   "cell_type": "code",
   "execution_count": 13,
   "metadata": {
    "jupyter": {
     "outputs_hidden": true
    }
   },
   "outputs": [],
   "source": [
    "def my_det(X):\n",
    "    '''\n",
    "    Parameters\n",
    "    ----------\n",
    "    X : array_like\n",
    "    \n",
    "    Returns\n",
    "    -------\n",
    "    det : float\n",
    "        Determinant of `a`.\n",
    "    '''\n",
    "    \n",
    "    det = 1\n",
    "    if len(X) != len(X[0]):\n",
    "        raise ValueError\n",
    "    n = len(X)\n",
    "    X = np.dot(X, np.eye(n))\n",
    "    for i in range(n):\n",
    "        k = i + 1\n",
    "        while k < n and X[i][i] == 0:\n",
    "            if X[k][i] != 0:\n",
    "                det *= -1\n",
    "                t = X[i,:].copy()\n",
    "                X[i,:] = X[k,:]\n",
    "                X[k,:] = t\n",
    "                break\n",
    "            k += 1\n",
    "            if k == n:\n",
    "                return 0\n",
    "        for j in range(i + 1, n):\n",
    "            d = X[j][i] / X[i][i]\n",
    "            X[j,:] -= X[i,:] * d\n",
    "    for i in range(n):\n",
    "        det *= X[i][i]\n",
    "    \n",
    "    return det"
   ]
  },
  {
   "cell_type": "markdown",
   "metadata": {},
   "source": [
    "Простая проверка:"
   ]
  },
  {
   "cell_type": "code",
   "execution_count": 14,
   "metadata": {
    "jupyter": {
     "outputs_hidden": true
    }
   },
   "outputs": [
    {
     "name": "stdout",
     "output_type": "stream",
     "text": [
      "[[0 0 1]\n",
      " [0 1 0]\n",
      " [1 0 0]]\n",
      "-1.0\n"
     ]
    }
   ],
   "source": [
    "# Запустите этот блок кода\n",
    "X = np.array([[0,0,1], [0,1,0], [1,0,0]])\n",
    "print(X)\n",
    "print(my_det(X))"
   ]
  },
  {
   "cell_type": "markdown",
   "metadata": {},
   "source": [
    "На случай, если нам просто повезло с этой матрицей, имеет смысл написать чуть более хитрые тесты. Мы сгенерируем несколько случайных матриц $8\\times8$ с помощью функции `numpy.random.rand` и сравним ответ, выдаваемый нашей функцией, с настоящим определителем (результатом работы библиотечной функции `scipy.linalg.det`):"
   ]
  },
  {
   "cell_type": "code",
   "execution_count": 15,
   "metadata": {
    "jupyter": {
     "outputs_hidden": true
    }
   },
   "outputs": [],
   "source": [
    "# Запустите этот блок кода\n",
    "for _ in range(10):\n",
    "    X = np.random.rand(8,8)\n",
    "    if np.abs(my_det(X) - sla.det(X)) > 1e-6:\n",
    "        print('FAILED')"
   ]
  },
  {
   "cell_type": "markdown",
   "metadata": {},
   "source": [
    "Если вы ни разу не получили `FAILED`, то ваша функция работает правильно."
   ]
  },
  {
   "cell_type": "markdown",
   "metadata": {},
   "source": [
    "Теперь давайте сравним скорость работы вашей функции и библиотечной функции `scipy.linalg.det`. В Питоне есть несколько способов измерения времени; мы воспользуемся декоратором `%timeit`. Будучи написан перед функцией, он запускает её некоторое количество раз, выбирает три случайных запуска и возвращает длительность самого быстрого из них. Модификатор `-o` между декоратором и функцией позволяет сохранять результаты работы декоратора в переменную.\n",
    "\n",
    "Приготовьтесь, что следующий блок может работать сравнительно долго."
   ]
  },
  {
   "cell_type": "code",
   "execution_count": 16,
   "metadata": {
    "jupyter": {
     "outputs_hidden": true
    }
   },
   "outputs": [
    {
     "name": "stdout",
     "output_type": "stream",
     "text": [
      "33 µs ± 5.18 µs per loop (mean ± std. dev. of 7 runs, 10000 loops each)\n",
      "398 µs ± 176 µs per loop (mean ± std. dev. of 7 runs, 1000 loops each)\n",
      "138 µs ± 55.2 µs per loop (mean ± std. dev. of 7 runs, 10000 loops each)\n",
      "28.6 ms ± 6.53 ms per loop (mean ± std. dev. of 7 runs, 10 loops each)\n",
      "20.4 ms ± 628 µs per loop (mean ± std. dev. of 7 runs, 10 loops each)\n"
     ]
    },
    {
     "name": "stderr",
     "output_type": "stream",
     "text": [
      "<ipython-input-13-f5908c5b3084>:34: RuntimeWarning: overflow encountered in double_scalars\n",
      "  det *= X[i][i]\n"
     ]
    },
    {
     "name": "stdout",
     "output_type": "stream",
     "text": [
      "7.43 s ± 1.48 s per loop (mean ± std. dev. of 7 runs, 1 loop each)\n"
     ]
    },
    {
     "data": {
      "text/plain": [
       "<matplotlib.legend.Legend at 0x2725c0a4160>"
      ]
     },
     "execution_count": 16,
     "metadata": {},
     "output_type": "execute_result"
    },
    {
     "data": {
      "image/png": "[encoded data removed]",
      "text/plain": [
       "<Figure size 432x288 with 1 Axes>"
      ]
     },
     "metadata": {
      "needs_background": "light"
     },
     "output_type": "display_data"
    }
   ],
   "source": [
    "# Запустите этот блок кода\n",
    "lib_times = []\n",
    "my_times = []\n",
    "dimensions = [10, 100, 1000]\n",
    "for dim in dimensions:\n",
    "    A = np.random.rand(dim, dim)\n",
    "    res_lib = %timeit -o sla.det(A)\n",
    "    lib_times.append(res_lib.best)\n",
    "    res_my = %timeit -o my_det(A)\n",
    "    my_times.append(res_my.best)    \n",
    "\n",
    "plt.plot(dimensions, lib_times, color='blue', label='Library function')\n",
    "plt.plot(dimensions, my_times, color='red', label='My function')\n",
    "plt.title('My function vs library function, log y scale')\n",
    "plt.ylabel('Time')\n",
    "plt.xlabel('Matrix dimension')\n",
    "plt.legend()"
   ]
  },
  {
   "cell_type": "markdown",
   "metadata": {},
   "source": [
    "У вас должны были получиться графики, показывающие, как растёт с ростом размерности матрицы время вычисления определителя. Поскольку они вышли не больно-то красивыми, мы нарисуем их в *логарифмическом масштабе* по оси у:"
   ]
  },
  {
   "cell_type": "code",
   "execution_count": 17,
   "metadata": {
    "jupyter": {
     "outputs_hidden": true
    }
   },
   "outputs": [
    {
     "data": {
      "text/plain": [
       "<matplotlib.legend.Legend at 0x2725c0f1340>"
      ]
     },
     "execution_count": 17,
     "metadata": {},
     "output_type": "execute_result"
    },
    {
     "data": {
      "image/png": "[encoded data removed]",
      "text/plain": [
       "<Figure size 432x288 with 1 Axes>"
      ]
     },
     "metadata": {
      "needs_background": "light"
     },
     "output_type": "display_data"
    }
   ],
   "source": [
    "# Запустите этот блок кода\n",
    "plt.semilogy(dimensions, lib_times, color='blue', label='Library function')\n",
    "plt.semilogy(dimensions, my_times, color='red', label='My function')\n",
    "plt.title('My function vs library function, log y scale')\n",
    "plt.ylabel('Time')\n",
    "plt.xlabel('Matrix dimension')\n",
    "plt.legend()"
   ]
  },
  {
   "cell_type": "markdown",
   "metadata": {},
   "source": [
    "Вы можете убедиться, что библиотечная функция работает *гораздо* быстрее."
   ]
  },
  {
   "cell_type": "markdown",
   "metadata": {},
   "source": [
    "## Часть 3. Точность\n",
    "\n",
    "Наверняка вы уже что-то знаете про floating point arithmetics и связанные с этим трудности и понимаете, что на компьютере вычисления с вещественными числами производятся лишь с ограниченной точностью. "
   ]
  },
  {
   "cell_type": "markdown",
   "metadata": {},
   "source": [
    "В качестве первого примера, показывающего различие между длинной арифметикой целых чисел и floating point arithmetics, предлагаем вам перемножить две пары матриц:\n",
    "\n",
    "$$\n",
    "\\begin{pmatrix}\n",
    "1 & 0\\\\\n",
    "10^{20} & 1\n",
    "\\end{pmatrix}\n",
    "\\cdot\n",
    "\\begin{pmatrix}\n",
    "10^{-20} & 1\\\\\n",
    "0 & 1 - 10^{20}\n",
    "\\end{pmatrix}\n",
    "$$\n",
    "и\n",
    "$$\n",
    "\\begin{pmatrix}\n",
    "1. & 0.\\\\\n",
    "10.^{20} & 1.\n",
    "\\end{pmatrix}\n",
    "\\cdot\n",
    "\\begin{pmatrix}\n",
    "10.^{-20} & 1.\\\\\n",
    "0. & 1. - 10.^{20}\n",
    "\\end{pmatrix}\n",
    "$$\n",
    "Во втором случае мы специально указали Питону (поставив везде десятичные точки), что хотим работать не с целыми числами, а с числами с плавающей точкой. Посмотрим, получатся ли одинаковые ответы:"
   ]
  },
  {
   "cell_type": "code",
   "execution_count": 3,
   "metadata": {
    "jupyter": {
     "outputs_hidden": true
    }
   },
   "outputs": [
    {
     "name": "stdout",
     "output_type": "stream",
     "text": [
      "без десятичных точек: \n",
      "[[1e-20 1]\n",
      " [1.0 1]]\n",
      "с десятичными точками: \n",
      "[[1.e-20 1.e+00]\n",
      " [1.e+00 0.e+00]]\n"
     ]
    }
   ],
   "source": [
    "A = np.array([[1, 0], [10**20, 1]])\n",
    "B = np.array([[10**(-20), 1], [0, 1 - 10**20]])\n",
    "print('без десятичных точек: ')\n",
    "print(np.dot(A, B))\n",
    "A1 = np.array([[1., 0.], [(10.)**20, 1.]])\n",
    "B1 = np.array([[(10.)**(-20), 1.], [0., 1. - (10.)**20]])\n",
    "print('с десятичными точками: ')\n",
    "print(np.dot(A1, B1))"
   ]
  },
  {
   "cell_type": "markdown",
   "metadata": {},
   "source": [
    "И какой из них правильный?\n",
    "\n",
    "---\n",
    "Правильный ответ - первый"
   ]
  },
  {
   "cell_type": "markdown",
   "metadata": {},
   "source": [
    "Впрочем, и с целыми числами тоже не всегда всё хорошо. Напишите функцию, генерирующую *матрицу Паскаля* заданной размерности $n$, то есть матрицу $P$, в которой $P_{ij} = C_{i+j}^i$. В этом задании нельзя пользоваться библиотечной функцией `scipy.linalg.pascal` или её аналогами из других библиотек. Обратите внимание, что использование факториалов крайне нежелательно, так как быстро приведёт к переполнению.\n",
    "\n",
    "В этом задании вы можете использовать цикл ``for``."
   ]
  },
  {
   "cell_type": "code",
   "execution_count": 2,
   "metadata": {
    "jupyter": {
     "outputs_hidden": true
    }
   },
   "outputs": [],
   "source": [
    "def my_pascal(dim):\n",
    "    '''\n",
    "    Мы создали для вас матрицу из нулей размера dim x dim,\n",
    "    но вы можете ей не пользоваться, если не хотите\n",
    "    '''\n",
    "    P = np.zeros((dim, dim))\n",
    "    \n",
    "    for i in range(dim):\n",
    "        for j in range(dim):\n",
    "            P[i][j] = 1\n",
    "    \n",
    "    for i in range(1, dim):\n",
    "        for j in range(1, dim):\n",
    "            P[i][j] = P[i - 1][j] + P[i][j - 1]\n",
    "    \n",
    "    return P"
   ]
  },
  {
   "cell_type": "markdown",
   "metadata": {},
   "source": [
    "Чему равен её определитель? Обязательно объясните свой ответ.\n",
    "\n",
    "----\n",
    "Будем вычитать из строки предыдущую, начиная с самой нижней и заканчивая второй. После первого прохода на позиции $P_{ij}$ будет находиться число $C_{i+j}^i - C_{i+j-1}^{i-1} = C_{i+j-1}^i = P_{i,j-1}$. Таким образом, все элементы матрицы, кроме первой строки, сдвинутся на 1 позицию влево, а в первом столбце будут стоять нули, начиная со второй строки. Повторим ту же операцию для строк от последней до третьей. Теперь элементы этих строк сдвинуты на две позиции. Повторим эти действия $dim$ раз, после чего элемены второй строки будут сдвинуты на 1 влево, третьей на 2 влево, ... последней на $dim - 1$ влево, а под главной диагональю будут стоять нули. Все строки начинаются с единиц, поэтому мы получили верхнетреугольную матрицу с единицами на диагонали, определитель которой равен 1.  "
   ]
  },
  {
   "cell_type": "markdown",
   "metadata": {},
   "source": [
    "А теперь вычислите определитель матрицы Паскаля $30\\times30$ с помощью библиотечной функции `scipy.linalg.det`:"
   ]
  },
  {
   "cell_type": "code",
   "execution_count": 3,
   "metadata": {
    "jupyter": {
     "outputs_hidden": true
    }
   },
   "outputs": [
    {
     "name": "stdout",
     "output_type": "stream",
     "text": [
      "7.223813481546793e+47\n"
     ]
    }
   ],
   "source": [
    "A = my_pascal(30)\n",
    "print(sla.det(A))"
   ]
  },
  {
   "cell_type": "markdown",
   "metadata": {},
   "source": [
    "Разница заметна невооружённым взглядом!"
   ]
  },
  {
   "cell_type": "markdown",
   "metadata": {},
   "source": [
    "## Часть 4. Матричные вычисления"
   ]
  },
  {
   "cell_type": "markdown",
   "metadata": {},
   "source": [
    "Вы уже видели, что использования циклов (и самописных вычислений в целом) в Питоне лучше по возможности избегать и важно уметь находить способы делать всё библиотечными средствами.\n",
    "\n",
    "В качестве примера рассмотрим две задачи:\n",
    "\n",
    "**1.** Предположим, нужно вычислить суммы элементов в каждой строке матрицы `A`. Ясно, что можно написать простую функцию с двумя циклами, которая это посчитает, но так лучше не делать. Правильный способ такой:\n",
    "```\n",
    "A.sum(axis=1)\n",
    "```\n",
    "Параметр `axis=1` означает, что суммы берутся по строкам. Если вы хотите просуммировать по столбцам, укажите `axis=0`. Если вообще пропустить параметр `axis` (вызвать `A.sum()`), то функция вернёт сумму *всех* элементов матрицы.\n",
    "\n",
    "**2.** Теперь допустим, что нам нужно каждый столбец матрицы `A` умножить на некоторое число. Более точно, пусть у нас есть (одномерный) вектор `w = np.array([w_1,...,w_n])`, и мы должны `i`-й столбец `A` умножить на число `w_i`. Опять же, это можно сделать в пару циклов, но лучше использовать операцию поэлементного умножения:\n",
    "```\n",
    "A * w.reshape((1,n))\n",
    "```\n",
    "Оператор `reshape` нужен для того, чтобы из одномерного вектора сделать вектор-строку.\n",
    "\n",
    "Аналогично, если на числа `w_1,...,w_n` умножаются *строки* матрицы, нужно превратить `w` в вектор-столбец:\n",
    "```\n",
    "A * w.reshape((n,1))\n",
    "```"
   ]
  },
  {
   "cell_type": "markdown",
   "metadata": {},
   "source": [
    "Дальше вам будет предложено попрактиковаться в матричных вычислениях. В следующих трёх заданиях нельзя пользоваться циклами, а также конструкциями `map` и `reduce` и им подобными; вместо этого постарайтесь свести всё к матричным операциям из `numpy` (но, опять же, не `np.vectorize` или чему-то подобному). Чтобы убедиться, что получилось именно то, что нужно, пишите собственные тесты со случайными матрицами."
   ]
  },
  {
   "cell_type": "markdown",
   "metadata": {},
   "source": [
    "**Задание 4.1** Напишите функцию `prod_and_sq_sum(A)`, вычисляющую произведение и сумму квадратов диагональных элементов квадратной матрицы `A`."
   ]
  },
  {
   "cell_type": "code",
   "execution_count": 11,
   "metadata": {
    "jupyter": {
     "outputs_hidden": true
    }
   },
   "outputs": [
    {
     "name": "stdout",
     "output_type": "stream",
     "text": [
      "18 46\n"
     ]
    }
   ],
   "source": [
    "def prod_and_sq_sum(A):\n",
    "    pr = np.prod(np.diag(A))\n",
    "    sq_sum = sum(np.square(np.diag(A)))\n",
    "    return pr, sq_sum\n",
    "\n",
    "\n",
    "a = np.array([[1, 3, 5], [4, 6, 6], [7, 5, 3]])\n",
    "print(*prod_and_sq_sum(a))"
   ]
  },
  {
   "cell_type": "markdown",
   "metadata": {},
   "source": [
    "**Задание 4.2** Для матриц `A` и `B` размера $m\\times n$ обозначим через $a_1,\\ldots,a_n$ и $b_1,\\ldots,b_n$ соответственно их столбцы. Напишите функцию `f(A, B, k)`, вычисляющую\n",
    "\n",
    "$$\\sum_{i=1}^{\\min(k,m)}a_ib_i^T$$"
   ]
  },
  {
   "cell_type": "code",
   "execution_count": 12,
   "metadata": {
    "jupyter": {
     "outputs_hidden": true
    }
   },
   "outputs": [
    {
     "name": "stdout",
     "output_type": "stream",
     "text": [
      "[[ 2  7  0  7]\n",
      " [ 8 28  0 28]\n",
      " [14 49  0 49]\n",
      " [10 35  0 35]]\n",
      "[[ 35  32  44  63]\n",
      " [ 62  70  60 100]\n",
      " [ 53  80  36  89]\n",
      " [ 40  60  15  45]]\n"
     ]
    }
   ],
   "source": [
    "def f(A, B, k):\n",
    "    m, n = A.shape\n",
    "    k = min(n, k) #наверное в условии опечатка, и должно быть min(k, n)\n",
    "    A = A[:, :k]\n",
    "    B = B[:, :k]\n",
    "    B = B.T\n",
    "    A_cols = np.hsplit(A, k)\n",
    "    B_cols_t = np.vsplit(B, k)\n",
    "    res = sum(np.multiply(A_cols, B_cols_t))\n",
    "    return res\n",
    "\n",
    "\n",
    "a = np.array([[1, 3, 5], \n",
    "              [4, 6, 6], \n",
    "              [7, 5, 3],\n",
    "              [5, 5, 0]])\n",
    "b = np.array([[2, 6, 3], \n",
    "              [7, 5, 2], \n",
    "              [0, 3, 7],\n",
    "              [7, 2, 10]])\n",
    "print(f(a, b, 1))\n",
    "print(f(a, b, 3))"
   ]
  },
  {
   "cell_type": "markdown",
   "metadata": {},
   "source": [
    "**Задание 4.3** Напишите функцию `get_diag(A,B)`, принимающую две квадратных матрицы `A` и `B` одного размера и возвращающую вектор диагональных элементов произведения `AB`, не вычисляя произведение целиком. "
   ]
  },
  {
   "cell_type": "code",
   "execution_count": 13,
   "metadata": {
    "jupyter": {
     "outputs_hidden": true
    }
   },
   "outputs": [
    {
     "name": "stdout",
     "output_type": "stream",
     "text": [
      "192\n",
      "192\n"
     ]
    }
   ],
   "source": [
    "def get_diag(A, B):\n",
    "    m, k = A.shape\n",
    "    k, n = B.shape\n",
    "    B = B.T\n",
    "    A_rows = np.vsplit(A, m)\n",
    "    B_cols = np.vsplit(B, n)\n",
    "    res = np.multiply(A_rows, B_cols).sum()\n",
    "    return res\n",
    "\n",
    "\n",
    "a = np.array([[2, 6, 3, 7], \n",
    "              [7, 5, 2, 2], \n",
    "              [0, 3, 7, 10]])\n",
    "b = np.array([[1, 3, 5], \n",
    "              [4, 6, 6], \n",
    "              [7, 5, 3],\n",
    "              [5, 5, 0]])\n",
    "print(np.trace(np.dot(a, b)))\n",
    "print(get_diag(a, b))"
   ]
  },
  {
   "cell_type": "markdown",
   "metadata": {},
   "source": [
    "## Часть 5. Комплексные числа и геометрия"
   ]
  },
  {
   "cell_type": "markdown",
   "metadata": {},
   "source": [
    "У вас уже была возможность убедиться, что многие операции над комплексными числами имеют наглядную геометрическую интерпретацию. В этом задании вам будет предложено этим воспользоваться.\n",
    "\n",
    "В Python число $i$ (мнимая единица) обозначено через `1j`. Так, число $0,5 + 1,2i$ будет иметь вид `0.5 + 1.2 * 1j`.\n",
    "\n",
    "**Внимание!** При выполнении задания вы должны работать с точками плоскости как с комплексными числами. Решения, в которых в какой-либо момент работа происходит не с комплексным числом как таковым, а с парой вещественных, будут оцениваться нулём баллов. Любые преобразования должны быть реализованы с помощью операций над комплексными числами: сложения, вычитания, умножения, деления, возведения в степень и комплексного сопряжения.\n",
    "\n",
    "**Задание 5.1** Напишите функцию `shrink_rotate`, которая принимает на вход:\n",
    "- заданную в виде комплексного числа точку $X$, которую мы подвергаем преобразованию,\n",
    "- заданную в виде комплексного числа точку $A$, \n",
    "- действительный коэффициент `coef`,\n",
    "- угол `alpha`, заданный в радианах\n",
    "\n",
    "и осуществляет следующее преобразование: мы берём вектор $AX$, умножаем его на `coef`, поворачиваем вокруг точки $A$ на угол `alpha` против часовой стрелки, после чего возвращаем конец полученного вектора. Ниже (левая картинка) мы приводим иллюстрацию действия этого преобразования:\n",
    "\n",
    "<img src=\"ShrinkRotate.png\">\n",
    "\n",
    "**Задание 5.2** Напишите функцию `shrink_rotate_conj`, которая сначала делает то же самое, что и `shrink_rotate`, а после этого отражает вектор $AY$ относительно горизонтальной прямой, проходящей через точку $A$, и возвращает точку $Y'$ (см. правую часть рисунка).\n",
    "\n",
    "**Задание 5.3** Напишите функцию `geometric_inverse`, которая принимает на вход:\n",
    "- заданную в виде комплексного числа точку $X$, которую мы подвергаем преобразованию,\n",
    "- заданную в виде комплексного числа точку $A$, \n",
    "- положительное действительное число $r$\n",
    "\n",
    "и осуществляет инверсию точки $X$ относительно окружности с центром $A$ радиуса $r$. [Определение инверсии вы можете посмотреть здесь](https://ru.wikipedia.org/wiki/%D0%98%D0%BD%D0%B2%D0%B5%D1%80%D1%81%D0%B8%D1%8F_(%D0%B3%D0%B5%D0%BE%D0%BC%D0%B5%D1%82%D1%80%D0%B8%D1%8F))."
   ]
  },
  {
   "cell_type": "code",
   "execution_count": 14,
   "metadata": {
    "jupyter": {
     "outputs_hidden": true
    }
   },
   "outputs": [],
   "source": [
    "def shrink_rotate(x, a, coef=1., angle=0.):\n",
    "    x -= a\n",
    "    x *= coef\n",
    "    y = x * (np.cos(angle) + np.sin(angle) * 1j)\n",
    "    return y\n",
    "    raise NotImplementedError()\n",
    "    \n",
    "def shrink_rotate_conj(x, a, coef=1., angle=0.):\n",
    "    x -= a\n",
    "    x *= coef\n",
    "    y = x * (np.cos(angle) + np.sin(angle) * 1j)\n",
    "    return y.conjugate()\n",
    "    raise NotImplementedError()\n",
    "    \n",
    "def geometric_inverse(x, a, r):\n",
    "    y = x - a\n",
    "    y1 = r**2 / y.conjugate()\n",
    "    return y1\n",
    "    raise NotImplementedError()"
   ]
  },
  {
   "cell_type": "markdown",
   "metadata": {},
   "source": [
    "**Задание 5.4** Рассмотрим следующий процесс:\n",
    "\n",
    "```\n",
    "z = 0.5 + 0.*1j\n",
    "max_iter = 100000\n",
    "funcs = [\n",
    "    (lambda t: shrink_rotate(t, 0. + 1.*1j, coef=0.5, angle=0.)),\n",
    "    (lambda t: shrink_rotate(t, 1. + 0.*1j, coef=0.5, angle=0.)),\n",
    "    (lambda t: shrink_rotate(t, -1. + 0.*1j, coef=0.5, angle=0.))\n",
    "]\n",
    "\n",
    "for n_iter in range(max_iter):\n",
    "    n_func = np.random.choice(len(funcs))\n",
    "    z = funcs[n_func](z)\n",
    "```\n",
    "\n",
    "Запустите его и нарисуйте множество точек, получающихся на итерациях начиняя с десятой.\n",
    "\n",
    "*Указание*. Представьте квадрат $[-1,1]\\times[-1,1]$ матрицей пикселей 1000x1000. Сначала все элементы матрицы положим нулями, а на каждой итерации начиная с десятой будем присваивать единицу соответствующему пикселю этой матрицы. То, что получилось, можно нарисовать с помощью функции `plt.imshow(..., cmap='gray')`. Картинку лучше сделать побольше, предварив `imshow` вызовом `plt.figure(figsize=(20, 20))`."
   ]
  },
  {
   "cell_type": "code",
   "execution_count": 56,
   "metadata": {
    "jupyter": {
     "outputs_hidden": true
    }
   },
   "outputs": [
    {
     "data": {
      "text/plain": [
       "<Figure size 1440x1440 with 0 Axes>"
      ]
     },
     "execution_count": 56,
     "metadata": {},
     "output_type": "execute_result"
    },
    {
     "data": {
      "image/png": "[encoded data removed]",
      "text/plain": [
       "<Figure size 432x288 with 1 Axes>"
      ]
     },
     "metadata": {
      "needs_background": "light"
     },
     "output_type": "display_data"
    },
    {
     "data": {
      "text/plain": [
       "<Figure size 1440x1440 with 0 Axes>"
      ]
     },
     "metadata": {},
     "output_type": "display_data"
    }
   ],
   "source": [
    "z = 0.5 + 0.*1j\n",
    "max_iter = 100000\n",
    "funcs = [\n",
    "    (lambda t: shrink_rotate(t, 0. + 1.*1j, coef=0.5, angle=0.)),\n",
    "    (lambda t: shrink_rotate(t, 1. + 0.*1j, coef=0.5, angle=0.)),\n",
    "    (lambda t: shrink_rotate(t, -1. + 0.*1j, coef=0.5, angle=0.))\n",
    "]\n",
    "\n",
    "M = np.zeros((1000, 1000))\n",
    "for n_iter in range(max_iter):\n",
    "    n_func = np.random.choice(len(funcs))\n",
    "    z = funcs[n_func](z)\n",
    "    if n_iter >= 10:\n",
    "        M[int(500 + z.imag * 500)][int(500 + z.real * 500)] = 1\n",
    "plt.imshow(M, cmap='gray')\n",
    "plt.figure(figsize=(20, 20))"
   ]
  },
  {
   "cell_type": "markdown",
   "metadata": {},
   "source": [
    "**Задание 5.5 (со звёздочкой)** Попробуйте объяснить, почему получается именно эта фигура."
   ]
  },
  {
   "attachments": {
    "image-3.png": {
     "image/png": "[encoded data removed]"
    }
   },
   "cell_type": "markdown",
   "metadata": {},
   "source": [
    "Код приводит в действие алгоритм \"Игры хаоса\". Случайно выбирается одна из трех вершин треугольника, и точка приближается к ней на расстояние, равное половине начального расстояния от точки до вершины.\n",
    "\n",
    "Теперь докажем, почему в результате алгоритма получается треугольник Серпинского.\n",
    "\n",
    "1. Почему точка на треугольнике Серпинского после итерации остается на треугольнике Серпинского?\n",
    "\n",
    "Ведем обозначения: 1 - верхний подтреугольник, 2 - левый подтреугольник, 3 - правый подтреугольник. Тогда запись (3,1,1) обозначает, что точка находится в верхнем подтреугольнике верхнего подтреугольника правого подтреугольника главного треугольника Серпинского (на графике примерно на координате (600, 400), чтобы было попонятнее). Назовем количество чисел в такой записи \"порядком треугольника\". Все подтреугольники подобны друг другу, а значит для любого подтреугольника найдется другой треугольник, который в 2 раза меньше первого и находится в 2 раза ближе к вершине (выполняется для всех трех вершин). Эти два треугольника можно подстроить, дописав в начало 1, 2 или 3 к данному треугольнику. Например для теугольника (1, 3) такими будут треугольники (1, 1, 3), (2, 1, 3), (3, 1, 3). Таким образом, если точка лежит на стороне некого подтреугольника $(i_1, i_2, \\dots i_k)$, то после итерации она будет лежать на стороне одного из треугольников $(1, i_1, i_2, \\dots i_k)$, $(2, i_1, i_2, \\dots i_k)$, $(3, i_1, i_2, \\dots i_k)$. Если вдруг картинку видно не будет, скину ее отдельно. ![image-3.png](attachment:image-3.png)\n",
    "\n",
    "Вообще, можно еще доказать, что точка, находящаяся вне треугольника, через некоторое число шагов приблизится к нему настолько, что не будет отличима от точки на треугольнике, но у нас начальная точка лежит на стороне, и мне не очень хочется много писать.\n",
    "\n",
    "2. Почему алгоритм покрывает все точки треугольника Серпинского?\n",
    "\n",
    "Вообще, во фрактале бесконечное множество точек, поэтому переформулируем вопрос: можем ли мы приблизиться в любую $\\epsilon$ окрестность любой точки за конечное число шагов?\n",
    "\n",
    "Рассмотрим подтреугольник $n$-го порядка. С добавлением числа к порядку сторона подтреугольника уменьшается вдвое, значит можно считать, что расстояние между любыми двумя точками этого подтреугольника не больше $2^{-n}$, и если $n = \\lceil -\\log_2\\epsilon \\rceil$, то соседние точки подтреугольника порядка $n$ находятся на расстоянии не больше $\\epsilon$.\n",
    "\n",
    "Пусть игра хаоса началась в точке $q_0 \\in (i_1, \\dots i_k), k = \\lceil -\\log_2\\epsilon \\rceil$. Через $n$ шагов она перейдет в точку подтреугольника $(j_1, \\dots j_n, i_1, \\dots i_k)$. Найдем вероятность того, что за эти $n$ шагов точка побывала в $\\epsilon$ окрестностях всех точек треугольника Серпинского.\n",
    "\n",
    "Вероятность того, что в процессе алгоритма был посещен какой-то конкретный подтреугольник порядка $k$ равна вероятности того, что подстрока длины $k$, соответствующая этому треугольнику принадлежит строке $(j_1, \\dots j_n, i_1, \\dots i_k)$. Рассмотрим подстроки $(j_1, \\dots j_k), (j_{k + 1}, \\dots j_{2k}), \\dots$ - непересекающиеся подстроки длины $k$, начиная с первого символа. Такие строки независят друг от друга, их количество равно $\\left\\lfloor \\dfrac{n}{k} \\right\\rfloor$, а вероятность, что такая подстрока совпвдет с подстрокой, соответсвующей выбранному треугольнику, равна $3^{-k}$. Тогда вероятность того, что хотя бы одна из подстрок совпадает со строкой выбранного треугольника равна $1 - (1 - 3^{-k})^{\\left\\lfloor \\frac{n}{k} \\right\\rfloor} = 1 - (1 - 3^{\\lceil \\log_2\\epsilon \\rceil})^{\\left\\lfloor \\frac{n}{\\lceil -\\log_2\\epsilon \\rceil} \\right\\rfloor} \\to 1$ при $n \\to \\infty$. \n",
    "\n",
    "Получаем, что при большом количестве итераций вероятность побывать в $\\epsilon$ окрестности произвольной точки стремится к единице, значит при большом количестве итераций алгоритм покроет $\\epsilon$ окрестности всех точек треугольника Серпинского."
   ]
  },
  {
   "cell_type": "markdown",
   "metadata": {},
   "source": [
    "**Задание 5.6** Поэкспериментируйте с другими преобразованиями. Попробуйте найти какой-нибудь другой красиво выглядящий фрактал."
   ]
  },
  {
   "cell_type": "code",
   "execution_count": 13,
   "metadata": {},
   "outputs": [
    {
     "data": {
      "text/plain": [
       "<Figure size 1440x1440 with 0 Axes>"
      ]
     },
     "execution_count": 13,
     "metadata": {},
     "output_type": "execute_result"
    },
    {
     "data": {
      "image/png": "[encoded data removed]",
      "text/plain": [
       "<Figure size 432x288 with 1 Axes>"
      ]
     },
     "metadata": {
      "needs_background": "light"
     },
     "output_type": "display_data"
    },
    {
     "data": {
      "text/plain": [
       "<Figure size 1440x1440 with 0 Axes>"
      ]
     },
     "metadata": {},
     "output_type": "display_data"
    }
   ],
   "source": [
    "def cool_transformation(x, a, b, c, d, f):\n",
    "    return (a * (x.real) + b * (x.imag)) + (c * (x.real) + d * (x.imag) + f) * 1j\n",
    "    raise NotImplementedError()\n",
    "\n",
    "\n",
    "z = 0.5 + 0.*1j\n",
    "max_iter = 100000\n",
    "funcs = [(lambda t: cool_transformation(t, 0, 0, 0, 0.16, 0))]\n",
    "funcs += [(lambda t: cool_transformation(t, 0.85, 0.04, -0.04, 0.85, 1.60))] * 85\n",
    "funcs += [(lambda t: cool_transformation(t, 0.20, -0.26, 0.23, 0.22, 1.60))] * 7\n",
    "funcs += [(lambda t: cool_transformation(t, -0.15, 0.28, 0.26, 0.24, 0.44))] * 7\n",
    "\n",
    "M = np.zeros((1000, 1000))\n",
    "for n_iter in range(max_iter):\n",
    "    n_func = np.random.choice(len(funcs))\n",
    "    z = funcs[n_func](z)\n",
    "    if n_iter >= 10:\n",
    "        M[1000 - int(z.imag * 100)][int((z.real + 3) * (1000/6))] = 1\n",
    "plt.imshow(M, cmap='Greens')\n",
    "plt.figure(figsize=(20, 20))\n",
    "\n"
   ]
  },
  {
   "cell_type": "markdown",
   "metadata": {},
   "source": [
    "Получается лист папоротника. Это известный фрактал, но мне всегда хотелось реализовать его самому и поделиться с другими! Я вдохновлялся этим видео: https://www.youtube.com/watch?v=kbKtFN71Lfs. И вообще, если вы не знакомы с каналом numberfile, то это очень крутой канал по математике, советую посмотреть на досуге)"
   ]
  },
  {
   "cell_type": "markdown",
   "metadata": {},
   "source": [
    "## Часть 6. Функции от матриц"
   ]
  },
  {
   "cell_type": "markdown",
   "metadata": {},
   "source": [
    "Пусть $A$ -- некоторая квадратная матрица. В некоторых приложениях возникает необходимость вычислить какую-нибудь сложную функцию от матрицы. Например, экспоненту или синус. Это можно делать с помощью разложения в ряд, но мы пойдем другим путем. В этой задаче мы продемонстрируем другой метод:\n",
    "\n",
    "1) Посчитаем какой-нибудь аннулирующий многочлен для матрицы $A$. Пусть это будет $f(x)$.\n",
    "\n",
    "2) Разложим многочлен $f$ на множители следующим образом $f(x) = (x-\\lambda_1)^{k_1}\\ldots (x-\\lambda_r)^{k_r}$.\n",
    "\n",
    "3) Пусть $\\phi$ -- гладкая функция, значение которой мы хотим посчитать на матрице $A$. Найдем какой-нибудь многочлен $g_\\phi$ степени меньше, чем степень $f$ со следующими свойствами: $g_\\phi(\\lambda_i)^{(d)} = \\phi^{(d)}(\\lambda_i)$ для всех $0 \\leqslant d < k_i$. То есть во всех корнях $f$ все производные $g_\\phi$ до кратности корня должны совпасть с производными $\\phi$.\n",
    "\n",
    "4) Утверждается, что $\\phi(A) = g_\\phi(A)$ (и в частности не зависит от выбора многочлена $g_\\phi$ с указанными свойствами).\n",
    "\n",
    "**А теперь задание**\n",
    "\n",
    "Каждая группа будет работать со своей матрицей:\n",
    "\n",
    "- у группы 211:\n",
    "\n",
    "`A = np.array([[-1,1,2,-2],[-5,4,3,-4],[0,0,2,-1],[1,0,-1,1]])`\n",
    "\n",
    "- у группы 212:\n",
    "\n",
    "`A = np.array([[-3,5,-5,-7],[-10,12,-9,-15],[5,-2,-2,1],[-9,7,-2,-7]])`\n",
    "\n",
    "- у группы 214:\n",
    "\n",
    "`A = np.array([[-6,-4,3,6],[1,-3,0,-1],[-1,-1,-5,0],[1,1,1,-4]])`\n",
    "\n",
    " \n",
    "\n",
    "Посчитайте указанным способом:\n",
    " \n",
    "\n",
    "1) $B = e^A$.\n",
    " \n",
    "2) $S = \\sin A$.\n",
    "\n",
    "3) $T = \\cos A$.\n",
    "\n",
    "4) Проверьте равенство $S^2 + T^2 = E$, то есть $\\sin^2 A + \\cos^2 A = E$.\n",
    "\n",
    "5) $\\ln (B)$ и проверьте, что полученная матрица совпадает с $A$.\n",
    "\n",
    " "
   ]
  },
  {
   "cell_type": "code",
   "execution_count": 161,
   "metadata": {},
   "outputs": [
    {
     "name": "stdout",
     "output_type": "stream",
     "text": [
      "собственные значения:  (-5.00000003202468+0j) (-4.99999996797532+0j) (-4+2.2644868065464278e-08j) (-4-2.2644868065464278e-08j)\n",
      "без погрешности:  -5 -5 -4 -4\n",
      "характеристический многочлен:  X = (x + 4)^2 * (x + 5)^2\n",
      "проверка: (A + 4)^2 * (A + 5)^2 = \n",
      "[[0. 0. 0. 0.]\n",
      " [0. 0. 0. 0.]\n",
      " [0. 0. 0. 0.]\n",
      " [0. 0. 0. 0.]]\n",
      "g_f = a_0 * x^3 + a_1 * x^2 + a_2 * x + a_3\n",
      "g'_f = 3 * a_0 * x^2 + 2 * a_1 * x + a_2\n"
     ]
    }
   ],
   "source": [
    "A = np.array([[-6, -4, 3, 6], [1, -3, 0, -1], [-1, -1, -5, 0], [1, 1, 1, -4]])\n",
    "E = np.eye(4)\n",
    "print('собственные значения: ', *sla.eig(A)[0])\n",
    "print('без погрешности: ', -5, -5, -4, -4)\n",
    "print('характеристический многочлен: ', 'X = (x + 4)^2 * (x + 5)^2')\n",
    "print('проверка: (A + 4)^2 * (A + 5)^2 = ')\n",
    "print(np.dot(np.dot(A + 4 * E, A + 4 * E), np.dot(A + 5 * E, A + 5 * E)))\n",
    "lmbd1, lmbd2, k1, k2 = -5, -4, -2, -2\n",
    "print('g_f = a_0 * x^3 + a_1 * x^2 + a_2 * x + a_3')\n",
    "print('g\\'_f = 3 * a_0 * x^2 + 2 * a_1 * x + a_2')\n",
    "\n",
    "coefs = np.array([[lmbd1**3, lmbd1**2, lmbd1, 1],\n",
    "                  [3 * lmbd1**2, 2 * lmbd1, 1, 0],\n",
    "                  [lmbd2**3, lmbd2**2, lmbd2, 1],\n",
    "                  [3 * lmbd2**2, 2 * lmbd2, 1, 0]])"
   ]
  },
  {
   "cell_type": "code",
   "execution_count": 162,
   "metadata": {},
   "outputs": [
    {
     "name": "stdout",
     "output_type": "stream",
     "text": [
      "коэффициенты многочлена g:  0.0018982021085222004 0.031414574409874066 0.17851853295866105 0.3512415151108142\n",
      "B = e^A = \n",
      "[[ 2.77555756e-16 -3.17915329e-02  3.66312778e-02  6.16848637e-02]\n",
      " [ 6.73794700e-03  1.53740961e-02  1.15776919e-02  9.67948978e-03]\n",
      " [-6.73794700e-03  2.94154278e-03 -1.15776919e-02 -2.79951287e-02]\n",
      " [ 6.73794700e-03 -2.94154278e-03  2.98933308e-02  4.63107676e-02]]\n"
     ]
    }
   ],
   "source": [
    "def exp(x):\n",
    "    return np.e**x\n",
    "\n",
    "def expD1(x):\n",
    "    return np.e**x\n",
    "\n",
    "F_exp = [exp(lmbd1), expD1(lmbd1), exp(lmbd2), expD1(lmbd2),]\n",
    "\n",
    "g_exp = sla.solve(coefs, F_exp)\n",
    "\n",
    "print('коэффициенты многочлена g: ', *g_exp)\n",
    "\n",
    "B = np.linalg.matrix_power(A, 3) * g_exp[0] + np.linalg.matrix_power(A, 2) * g_exp[1] + A * g_exp[2] + E * g_exp[3]\n",
    "\n",
    "print('B = e^A = ')\n",
    "print(B)"
   ]
  },
  {
   "cell_type": "code",
   "execution_count": 163,
   "metadata": {},
   "outputs": [
    {
     "name": "stdout",
     "output_type": "stream",
     "text": [
      "коэффициенты многочлена g:  0.03426212331003483 -0.006114238477948675 -2.347139447568873 -6.341151587478156\n",
      "S = sin(A) = \n",
      "[[ 0.67526209 -0.64886478 -0.57210321 -0.20690062]\n",
      " [ 0.28366219  2.01203261 -0.93730581 -1.70675196]\n",
      " [-0.28366219 -1.25523012  2.34775192  2.36039558]\n",
      " [ 0.28366219  1.25523012 -1.59094943 -1.60359308]]\n"
     ]
    }
   ],
   "source": [
    "def sin(x):\n",
    "    return np.sin(x)\n",
    "\n",
    "def sinD1(x):\n",
    "    return np.cos(x)\n",
    "\n",
    "F_sin = [sin(lmbd1), sinD1(lmbd1), sin(lmbd2), sinD1(lmbd2)]\n",
    "\n",
    "g_sin = sla.solve(coefs, F_sin)\n",
    "\n",
    "print('коэффициенты многочлена g: ', *g_sin)\n",
    "\n",
    "S = np.linalg.matrix_power(A, 3) * g_sin[0] + np.linalg.matrix_power(A, 2) * g_sin[1] + A * g_sin[2] + E * g_sin[3]\n",
    "\n",
    "print('S = sin(A) = ')\n",
    "print(S)"
   ]
  },
  {
   "cell_type": "code",
   "execution_count": 164,
   "metadata": {},
   "outputs": [
    {
     "name": "stdout",
     "output_type": "stream",
     "text": [
      "коэффициенты многочлена g:  0.15888484268260816 2.246006265892815 9.5847751830694 11.917986788815872\n",
      "T = cos(A) = \n",
      "[[ 1.24258646  3.81407863 -2.65303258 -5.50818693]\n",
      " [-0.95892427 -1.65580483  0.20212178  1.18266452]\n",
      " [ 0.95892427  1.00216121 -0.0989629  -0.42586203]\n",
      " [-0.95892427 -1.00216121 -0.55468072 -0.22778159]]\n"
     ]
    }
   ],
   "source": [
    "def cos(x):\n",
    "    return np.cos(x)\n",
    "\n",
    "def cosD1(x):\n",
    "    return -np.sin(x)\n",
    "\n",
    "F_cos = [cos(lmbd1), cosD1(lmbd1), cos(lmbd2), cosD1(lmbd2)]\n",
    "\n",
    "g_cos = sla.solve(coefs, F_cos)\n",
    "\n",
    "print('коэффициенты многочлена g: ', *g_cos)\n",
    "\n",
    "T = np.linalg.matrix_power(A, 3) * g_cos[0] + np.linalg.matrix_power(A, 2) * g_cos[1] + A * g_cos[2] + E * g_cos[3]\n",
    "\n",
    "print('T = cos(A) = ')\n",
    "print(T)"
   ]
  },
  {
   "cell_type": "code",
   "execution_count": 165,
   "metadata": {},
   "outputs": [
    {
     "name": "stdout",
     "output_type": "stream",
     "text": [
      "S^2 + T^2 = \n",
      "[[ 1.00000000e+00 -3.50830476e-14  2.18713936e-14  2.82551760e-14]\n",
      " [ 8.99280650e-15  1.00000000e+00 -1.15463195e-14 -2.48689958e-14]\n",
      " [-1.04360964e-14 -2.44249065e-14  1.00000000e+00  2.30926389e-14]\n",
      " [ 7.10542736e-15  1.90958360e-14 -5.77315973e-15  1.00000000e+00]]\n",
      "на диагонали полученной матрицы стоят единицы, а остальные элементы отличаются от нуля не более чем на 10^-13.\n",
      "С малой погрешностью, мы получили единичную матрицу.\n"
     ]
    }
   ],
   "source": [
    "print('S^2 + T^2 = ')\n",
    "print(np.dot(S, S) + np.dot(T, T))\n",
    "print('на диагонали полученной матрицы стоят единицы, а остальные элементы отличаются от нуля не более чем на 10^-13.') \n",
    "print('С малой погрешностью, мы получили единичную матрицу.')"
   ]
  },
  {
   "cell_type": "code",
   "execution_count": 168,
   "metadata": {},
   "outputs": [
    {
     "name": "stdout",
     "output_type": "stream",
     "text": [
      "собственные значения:  0.006737946999085536 0.006737946999085536 0.018315637849343126 0.01831563992812555\n",
      "[-4.999999999999989, 148.41315910257507, -4.0000000567488305, 54.59815313152548]\n",
      "коэффициенты многочлена g:  225788.14399908684 -12536.745828883451 286.6047193383401 -6.4310291456991875\n",
      "C = ln(B) = \n",
      "[[-6.00000000e+00 -4.00000000e+00  3.00000005e+00  6.00000005e+00]\n",
      " [ 1.00000000e+00 -3.00000000e+00  5.17845788e-08 -9.99999948e-01]\n",
      " [-1.00000000e+00 -1.00000000e+00 -5.00000010e+00 -1.03569194e-07]\n",
      " [ 1.00000000e+00  1.00000000e+00  1.00000010e+00 -3.99999990e+00]]\n",
      "[[-6 -4  3  6]\n",
      " [ 1 -3  0 -1]\n",
      " [-1 -1 -5  0]\n",
      " [ 1  1  1 -4]]\n",
      "Элементы полученной матрицы отличаются от соответствующих элементов А не более чем на 10^-7.\n",
      "С малой погрешностью, мы получили матрицу A.\n"
     ]
    }
   ],
   "source": [
    "arr = [i.real for i in sla.eig(B)[0]]\n",
    "print('собственные значения: ', *arr)\n",
    "lmbd_B1, lmbd_B2 = arr[0], arr[2]\n",
    "\n",
    "coefs_B = np.array([[lmbd_B1**3, lmbd_B1**2, lmbd_B1, 1],\n",
    "                  [3 * lmbd_B1**2, 2 * lmbd_B1, 1, 0],\n",
    "                  [lmbd_B2**3, lmbd_B2**2, lmbd_B2, 1],\n",
    "                  [3 * lmbd_B2**2, 2 * lmbd_B2, 1, 0]])\n",
    "\n",
    "def ln(x):\n",
    "    return np.log(x)\n",
    "\n",
    "def lnD1(x):\n",
    "    return 1 / x\n",
    "\n",
    "F_ln = [ln(lmbd_B1), lnD1(lmbd_B1), ln(lmbd_B2), lnD1(lmbd_B2)]\n",
    "\n",
    "print(F_ln)\n",
    "\n",
    "g_ln = sla.solve(coefs_B, F_ln)\n",
    "\n",
    "print('коэффициенты многочлена g: ', *g_ln)\n",
    "\n",
    "C = np.linalg.matrix_power(B, 3) * g_ln[0] + np.linalg.matrix_power(B, 2) * g_ln[1] + B * g_ln[2] + E * g_ln[3]\n",
    "\n",
    "print('C = ln(B) = ')\n",
    "print(C)\n",
    "print(A)\n",
    "print('Элементы полученной матрицы отличаются от соответствующих элементов А не более чем на 10^-7.')\n",
    "print('С малой погрешностью, мы получили матрицу A.')"
   ]
  },
  {
   "cell_type": "markdown",
   "metadata": {},
   "source": [
    "Теперь попробуем поиграться с матрицами по-другому.\n",
    "\n",
    "1) Возьмите матрицу $A$ из предыдущего задания и посчитайте $e^A$ с помощью подстановки в следующий ряд $e^x = \\sum_{k = 0}^\\infty \\frac{x^k}{k!}$. Вычисление надо проводить так, надо считать сумму $\\sum_{k = 0}^n \\frac{A^k}{k!}$ до тех пор, пока максимум коэффициентов $A^{k+1} / (k+1)!$ не будет меньше заданной точности. Подумайте, как лучше организовать вычисления для подсчета частичной суммы.\n",
    "\n",
    "2) Возьмите случайную матрицу $A$ размером $10$ на $10$ и найдите $\\sin^2 A + \\cos^2 A$ воспользовавшись рядами $\\sin x = \\sum_{k=0}^\\infty \\frac{(-1)^k x^{2k + 1}}{(2k + 1)!}$ и $\\cos x = \\sum_{k=0}^\\infty \\frac{(-1)^kx^{2k}}{(2k)!}$. Проверьте, получилась ли единичная матрица."
   ]
  },
  {
   "cell_type": "code",
   "execution_count": 55,
   "metadata": {},
   "outputs": [
    {
     "name": "stdout",
     "output_type": "stream",
     "text": [
      "матрица e^A, посчитанная с точностью до 10^(-15) :\n",
      "[[ 6.12996588e-15 -3.17915329e-02  3.66312778e-02  6.16848637e-02]\n",
      " [ 6.73794700e-03  1.53740961e-02  1.15776919e-02  9.67948978e-03]\n",
      " [-6.73794700e-03  2.94154278e-03 -1.15776919e-02 -2.79951287e-02]\n",
      " [ 6.73794700e-03 -2.94154278e-03  2.98933308e-02  4.63107676e-02]]\n",
      "матрица В, посчитанная ранее :\n",
      "[[ 2.77555756e-16 -3.17915329e-02  3.66312778e-02  6.16848637e-02]\n",
      " [ 6.73794700e-03  1.53740961e-02  1.15776919e-02  9.67948978e-03]\n",
      " [-6.73794700e-03  2.94154278e-03 -1.15776919e-02 -2.79951287e-02]\n",
      " [ 6.73794700e-03 -2.94154278e-03  2.98933308e-02  4.63107676e-02]]\n",
      "С малой погрешностью получен одинаковый результат\n"
     ]
    }
   ],
   "source": [
    "A = np.array([[-6, -4, 3, 6], [1, -3, 0, -1], [-1, -1, -5, 0], [1, 1, 1, -4]])\n",
    "\n",
    "def CheckDeviation(b, delta):\n",
    "    for i in range(4):\n",
    "        for j in range(4):\n",
    "            if abs(b[i][j]) > delta:\n",
    "                return False\n",
    "    return True\n",
    "\n",
    "def TaylorExp(a):\n",
    "    summ = np.eye(4)\n",
    "    k = 1\n",
    "    b = np.eye(4)\n",
    "    while True:\n",
    "        b = np.dot(b, (a / k))\n",
    "        summ += b\n",
    "        if CheckDeviation(b, 10**(-15)):\n",
    "            break\n",
    "        k += 1\n",
    "    return summ\n",
    "\n",
    "print('матрица e^A, посчитанная с точностью до 10^(-15) :')\n",
    "print(TeylorExp(A))\n",
    "print('матрица В, посчитанная ранее :')\n",
    "print(B)\n",
    "print('С малой погрешностью получен одинаковый результат')"
   ]
  },
  {
   "cell_type": "code",
   "execution_count": 212,
   "metadata": {
    "scrolled": false
   },
   "outputs": [
    {
     "name": "stdout",
     "output_type": "stream",
     "text": [
      "[[ 9.71923073e-01  5.68315044e-02  9.28487398e-03  3.77883722e-02\n",
      "   1.74077754e-02 -1.22405363e-02  4.80985861e-02 -1.91993288e-02\n",
      "  -1.73129060e-02  5.28120622e-02]\n",
      " [ 8.17904529e-03  9.78854519e-01  6.15333088e-02  4.96274769e-02\n",
      "  -5.70571349e-04  2.94421987e-02  7.18957252e-03  8.31159568e-03\n",
      "  -5.64193625e-03 -2.77271770e-02]\n",
      " [ 6.96963767e-02 -3.70952198e-02  9.85408545e-01  5.95970236e-04\n",
      "   1.75972331e-02 -5.16761475e-03 -1.12047565e-02  2.33485325e-02\n",
      "   4.97317011e-02  5.78196017e-02]\n",
      " [ 1.98816642e-03  8.87522376e-02 -2.45813059e-02  9.56281673e-01\n",
      "   3.86580429e-02  5.19941805e-02 -2.20320916e-02  7.41063539e-02\n",
      "   1.23072966e-03  2.35885885e-02]\n",
      " [ 5.55777463e-02 -1.82835211e-02 -2.24773634e-02 -6.27640872e-03\n",
      "   1.00691017e+00  1.82303462e-02  1.46348282e-02  4.72667141e-03\n",
      "   4.36385204e-02  2.25625026e-02]\n",
      " [ 3.07918109e-02  2.36229138e-02  4.17149849e-03 -7.11495744e-02\n",
      "   5.24591268e-02  9.76342308e-01 -6.02428520e-02  3.30193030e-02\n",
      "   3.09854823e-02  7.16113517e-02]\n",
      " [-2.46384881e-02  1.10873749e-03  7.86173586e-02  1.19468854e-01\n",
      "  -1.92424961e-02  7.09293446e-02  1.07028219e+00 -5.05930211e-04\n",
      "  -5.71309223e-02 -6.56990688e-02]\n",
      " [ 5.43298142e-02 -4.64002059e-02  1.34242398e-02  1.35351264e-03\n",
      "  -3.61494622e-02  3.65241208e-03  5.99299730e-02  1.00928159e+00\n",
      "   8.41684643e-02 -3.65800117e-02]\n",
      " [ 3.83113924e-02  3.23715356e-02 -2.08609227e-02 -3.96340901e-02\n",
      "   1.85411623e-02  1.91766809e-02  1.86820763e-02 -2.43797888e-02\n",
      "   1.03691392e+00  8.93489408e-02]\n",
      " [-5.03359851e-02  5.81843272e-02  5.08591908e-02  5.73800235e-02\n",
      "   3.16088086e-02 -1.37446859e-02  9.62461299e-03  4.37560871e-02\n",
      "  -2.07835565e-02  9.76031829e-01]]\n",
      "Максимальное отклонение от единичной матрицы: \n",
      "0.11946885427334748\n",
      "Среднее отклонение от единичной матрицы: \n",
      "0.01397414769950069\n"
     ]
    }
   ],
   "source": [
    "A = np.random.rand(10, 10)\n",
    "\n",
    "def CheckDeviation(b, delta):\n",
    "    for i in range(10):\n",
    "        for j in range(10):\n",
    "            if abs(b[i][j]) > delta:\n",
    "                return False\n",
    "    return True\n",
    "\n",
    "def TaylorSin(a):\n",
    "    a2 = np.dot(a, a)\n",
    "    summ = a\n",
    "    k = 1\n",
    "    b = a\n",
    "    while True:\n",
    "        k += 2\n",
    "        b = (-1) * np.dot(b, a2) / (k * (k - 1))\n",
    "        summ += b\n",
    "        if CheckDeviation(b, 10**(-100)):\n",
    "            break\n",
    "    return summ\n",
    "\n",
    "def TaylorCos(a):\n",
    "    a2 = np.dot(a, a)\n",
    "    summ = np.eye(10)\n",
    "    k = 0\n",
    "    b = np.eye(10)\n",
    "    while True:\n",
    "        k += 2\n",
    "        b = (-1) * np.dot(b, a2) / (k * (k - 1))\n",
    "        summ += b\n",
    "        if CheckDeviation(b, 10**(-100)):\n",
    "            break\n",
    "    return summ\n",
    "\n",
    "sin_A = TaylorSin(A)\n",
    "cos_A = TaylorCos(A)\n",
    "res = np.dot(sin_A, sin_A) + np.dot(cos_A, cos_A)\n",
    "print(res)\n",
    "print('Максимальное отклонение от единичной матрицы: ')\n",
    "print(max(abs(np.max(res - np.eye(10))), abs(np.min(res - np.eye(10)))))\n",
    "print('Среднее отклонение от единичной матрицы: ')\n",
    "print(np.average(res - np.eye(10)))"
   ]
  },
  {
   "cell_type": "markdown",
   "metadata": {},
   "source": [
    "## Часть 7 (бонус). Метод Гаусса или обратные матрицы?"
   ]
  },
  {
   "cell_type": "markdown",
   "metadata": {},
   "source": [
    "Пусть нам дано матричное уравнение $Ax = B$, где $A$ &mdash; матрица размера $n\\times n$, а $B$ &mdash; матрица размера $n\\times m$ (отметим, что это уравнение можно интерпретировать как $m$ систем с векторными правыми частями и одинаковыми левыми). Вообще говоря, методов решения таких уравнений очень много, но мы пока рассмотрим два из них, с которыми вы уже хорошо знакомы.\n",
    "1. Метод Гаусса;\n",
    "2. Умножение на обратную матрицу: $x = A^{-1}B$.\n",
    "\n",
    "В этом задании вы попробуете ответить на вопрос о том, какой из этих методов эффективнее. Проведите два эксперимента:\n",
    "- сравните скорости решения системы при фиксированном `m = 10` и `n`, изменяющемся в пределах от 10 до 1000; например, для `n=10, 50, 100, 200, 500, 1000` (рост числа неизвестных при фиксированном количестве правых частей);\n",
    "- сравните скорости решения системы при фиксированном `n = 100` и `m`, меняющемся от 10 до 10000; например, для `m = 10, 100, 500, 1000, 2000, 5000, 10000` (рост числа правых частей при фиксированном числе неизвестных).\n",
    "\n",
    "При проведении экспериментов не возбраняется использовать циклы `for`.\n",
    "\n",
    "Эксперименты проведите на случайных матрицах, созданных с помощью функции `numpy.random.rand`. Постройте графики времени выполнения функции от размерности (лучше в логарифмическом масштабе). Сделайте выводы (в письменном виде!) о том, какой их методов оказывается лучше в каких обстоятельствах.\n",
    "\n",
    "Чтобы всё это не казалось вам чёрной магией, найдите число операций (суммарно сложения, умножения и деления), необходимых для решения системы каждым из методов. Обратите внимание на члены суммарной степени 3 (суммарной по $m$ и $n$; члены меньшего порядка можете даже не считать). Постарайтесь объяснить полученные ранее результаты."
   ]
  },
  {
   "cell_type": "code",
   "execution_count": 27,
   "metadata": {
    "jupyter": {
     "outputs_hidden": true
    }
   },
   "outputs": [],
   "source": [
    "def Gauss(A, B):\n",
    "    n, m = B.shape\n",
    "    a, b = A.copy(), B.copy()\n",
    "    X = np.zeros((n, m))\n",
    "    for i in range(n):\n",
    "        k = i + 1\n",
    "        while a[i][i] == 0:\n",
    "            if a[k][i] != 0:\n",
    "                t = a[i,:].copy()\n",
    "                a[i,:] = a[k,:]\n",
    "                a[k,:] = t\n",
    "                t = b[i,:].copy()\n",
    "                b[i,:] = b[k,:]\n",
    "                b[k,:] = t\n",
    "                break\n",
    "            k += 1\n",
    "        for j in range(i + 1, n):\n",
    "            d = a[j][i] / a[i][i]\n",
    "            a[j,:] -= a[i,:] * d\n",
    "            b[j,:] -= b[i,:] * d\n",
    "    for col in range(m): \n",
    "        X[n - 1][col] = b[n - 1][col] / a[n - 1][n - 1]\n",
    "        for i in range(n - 2, -1, -1):\n",
    "            X[i][col] = b[i][col]\n",
    "            for j in range(i + 1, n):\n",
    "                X[i][col] -= a[i][j] * X[j][col]\n",
    "            X[i][col] /= a[i][i]\n",
    "    return X"
   ]
  },
  {
   "cell_type": "code",
   "execution_count": 28,
   "metadata": {},
   "outputs": [],
   "source": [
    "def Stairs(a, a_inv):\n",
    "    A = a.copy()\n",
    "    A_inv = a_inv.copy()\n",
    "    n = len(A)\n",
    "    for i in range(n):\n",
    "        k = i + 1\n",
    "        while A[i][i] == 0:\n",
    "            if A[k][i] != 0:\n",
    "                t = A[i,:].copy()\n",
    "                A[i,:] = A[k,:]\n",
    "                A[k,:] = t\n",
    "                t = A_inv[i,:].copy()\n",
    "                A_inv[i,:] = A_inv[k,:]\n",
    "                A_inv[k,:] = t\n",
    "                break\n",
    "            k += 1\n",
    "        for j in range(i + 1, n):\n",
    "            d = A[j][i] / A[i][i]\n",
    "            A[j,:] -= A[i,:] * d\n",
    "            A_inv[j,:] -= A_inv[i,:] * d\n",
    "\n",
    "    return A, A_inv\n",
    "\n",
    "\n",
    "def StairsInv(a, a_inv):\n",
    "    A = a.copy()\n",
    "    A_inv = a_inv.copy()\n",
    "    n = len(A)\n",
    "    for i in range(n - 1, -1, -1):\n",
    "        k = i - 1\n",
    "        while A[i][i] == 0:\n",
    "            if A[k][i] != 0:\n",
    "                t = A[i,:].copy()\n",
    "                A[i,:] = A[k,:]\n",
    "                A[k,:] = t\n",
    "                t = A_inv[i,:].copy()\n",
    "                A_inv[i,:] = A_inv[k,:]\n",
    "                A_inv[k,:] = t\n",
    "                break\n",
    "            k -= 1\n",
    "        for j in range(i - 1, -1, -1):\n",
    "            d = A[j][i] / A[i][i]\n",
    "            A[j,:] -= A[i,:] * d\n",
    "            A_inv[j,:] -= A_inv[i,:] * d\n",
    "\n",
    "    return A, A_inv\n",
    "\n",
    "def SolveInv(a, b):\n",
    "    A, B = a.copy(), b.copy()\n",
    "    n, m = B.shape\n",
    "    A_inv = np.eye(n)\n",
    "    A, A_inv = Stairs(A, A_inv)\n",
    "    A, A_inv = StairsInv(A, A_inv)\n",
    "\n",
    "    for i in range(n):\n",
    "        for p in range(n):\n",
    "            A_inv[i][p] *= 1 / A[i][i]\n",
    "        A[i][i] = 1\n",
    "\n",
    "    X = np.zeros((n, m))\n",
    "    for i in range(n):\n",
    "        for j in range(m):\n",
    "            X[i][j] = np.sum(A_inv[i,:] * B[:,j])\n",
    "\n",
    "    return X"
   ]
  },
  {
   "cell_type": "code",
   "execution_count": 29,
   "metadata": {},
   "outputs": [
    {
     "name": "stdout",
     "output_type": "stream",
     "text": [
      "3.05 ms ± 619 µs per loop (mean ± std. dev. of 7 runs, 100 loops each)\n",
      "5.09 ms ± 665 µs per loop (mean ± std. dev. of 7 runs, 100 loops each)\n",
      "38.9 ms ± 16.3 ms per loop (mean ± std. dev. of 7 runs, 10 loops each)\n",
      "34.8 ms ± 10.8 ms per loop (mean ± std. dev. of 7 runs, 10 loops each)\n",
      "261 ms ± 12.7 ms per loop (mean ± std. dev. of 7 runs, 1 loop each)\n",
      "211 ms ± 54.8 ms per loop (mean ± std. dev. of 7 runs, 1 loop each)\n",
      "901 ms ± 226 ms per loop (mean ± std. dev. of 7 runs, 1 loop each)\n",
      "920 ms ± 215 ms per loop (mean ± std. dev. of 7 runs, 1 loop each)\n",
      "5.37 s ± 1.64 s per loop (mean ± std. dev. of 7 runs, 1 loop each)\n",
      "6.87 s ± 606 ms per loop (mean ± std. dev. of 7 runs, 1 loop each)\n",
      "27.1 s ± 2.64 s per loop (mean ± std. dev. of 7 runs, 1 loop each)\n",
      "30.6 s ± 2.24 s per loop (mean ± std. dev. of 7 runs, 1 loop each)\n"
     ]
    },
    {
     "data": {
      "text/plain": [
       "<matplotlib.legend.Legend at 0x2725c3b1790>"
      ]
     },
     "execution_count": 29,
     "metadata": {},
     "output_type": "execute_result"
    },
    {
     "data": {
      "image/png": "[encoded data removed]",
      "text/plain": [
       "<Figure size 432x288 with 1 Axes>"
      ]
     },
     "metadata": {
      "needs_background": "light"
     },
     "output_type": "display_data"
    }
   ],
   "source": [
    "gauss_times = []\n",
    "inv_times = []\n",
    "dimensions = [10, 50, 100, 200, 500, 1000]\n",
    "m = 10\n",
    "for n in dimensions:\n",
    "    A = np.random.rand(n, n)\n",
    "    B = np.random.rand(n, m)\n",
    "    res_gauss = %timeit -o Gauss(A, B)\n",
    "    gauss_times.append(res_gauss.best)\n",
    "    res_inv = %timeit -o SolveInv(A, B)\n",
    "    inv_times.append(res_inv.best)\n",
    "\n",
    "plt.semilogy(dimensions, gauss_times, color='blue', label='Gauss Method')\n",
    "plt.semilogy(dimensions, inv_times, color='red', label='Inverse Matrix')\n",
    "plt.title('Gauss Method vs Inverse Matrix, log y scale. m is fixed')\n",
    "plt.ylabel('Time')\n",
    "plt.xlabel('n dimension')\n",
    "plt.legend()"
   ]
  },
  {
   "cell_type": "code",
   "execution_count": 30,
   "metadata": {},
   "outputs": [
    {
     "name": "stdout",
     "output_type": "stream",
     "text": [
      "266 ms ± 28.8 ms per loop (mean ± std. dev. of 7 runs, 1 loop each)\n",
      "289 ms ± 27.8 ms per loop (mean ± std. dev. of 7 runs, 1 loop each)\n",
      "1.4 s ± 273 ms per loop (mean ± std. dev. of 7 runs, 1 loop each)\n",
      "435 ms ± 75.8 ms per loop (mean ± std. dev. of 7 runs, 1 loop each)\n",
      "6.42 s ± 918 ms per loop (mean ± std. dev. of 7 runs, 1 loop each)\n",
      "1.47 s ± 146 ms per loop (mean ± std. dev. of 7 runs, 1 loop each)\n",
      "12.1 s ± 2.46 s per loop (mean ± std. dev. of 7 runs, 1 loop each)\n",
      "1.6 s ± 486 ms per loop (mean ± std. dev. of 7 runs, 1 loop each)\n",
      "29 s ± 2.48 s per loop (mean ± std. dev. of 7 runs, 1 loop each)\n",
      "4.27 s ± 263 ms per loop (mean ± std. dev. of 7 runs, 1 loop each)\n",
      "1min 19s ± 2.51 s per loop (mean ± std. dev. of 7 runs, 1 loop each)\n",
      "11.7 s ± 382 ms per loop (mean ± std. dev. of 7 runs, 1 loop each)\n",
      "2min 51s ± 3.79 s per loop (mean ± std. dev. of 7 runs, 1 loop each)\n",
      "22.3 s ± 1.21 s per loop (mean ± std. dev. of 7 runs, 1 loop each)\n"
     ]
    },
    {
     "data": {
      "text/plain": [
       "<matplotlib.legend.Legend at 0x2725b9bceb0>"
      ]
     },
     "execution_count": 30,
     "metadata": {},
     "output_type": "execute_result"
    },
    {
     "data": {
      "image/png": "[encoded data removed]",
      "text/plain": [
       "<Figure size 432x288 with 1 Axes>"
      ]
     },
     "metadata": {
      "needs_background": "light"
     },
     "output_type": "display_data"
    }
   ],
   "source": [
    "gauss_times = []\n",
    "inv_times = []\n",
    "dimensions = [10, 100, 500, 1000, 2000, 5000, 10000]\n",
    "n = 100\n",
    "for m in dimensions:\n",
    "    A = np.random.rand(n, n)\n",
    "    B = np.random.rand(n, m)\n",
    "    res_gauss = %timeit -o Gauss(A, B)\n",
    "    gauss_times.append(res_gauss.best)\n",
    "    res_inv = %timeit -o SolveInv(A, B)\n",
    "    inv_times.append(res_inv.best)\n",
    "\n",
    "plt.semilogy(dimensions, gauss_times, color='blue', label='Gauss Method')\n",
    "plt.semilogy(dimensions, inv_times, color='red', label='Inverse Matrix')\n",
    "plt.title('Gauss Method vs Inverse Matrix, log y scale. n is fixed')\n",
    "plt.ylabel('Time')\n",
    "plt.xlabel('m dimension')\n",
    "plt.legend()"
   ]
  },
  {
   "cell_type": "markdown",
   "metadata": {},
   "source": [
    "Вывод: по построенным графикам видно, что метод Гаусса работает немного быстрее при фиксированном m и n от 10 до 1000, а при фиксированном n и m от 10 до 10000 заметно быстрее метод поиска обратной матрицы. "
   ]
  },
  {
   "cell_type": "markdown",
   "metadata": {},
   "source": [
    "Надем количество оперераций (будем рассматривать только операции суммарной степени 3):\n",
    "\n",
    "В методе Гаусса имеем:\n",
    "\n",
    "    for i in range(n):\n",
    "        for j in range(i + 1, n): \n",
    "            fa[j,:] -= a[i,:] * d     # 2n операций\n",
    "            b[j,:] -= b[i,:] * d      # 2m операций\n",
    "\n",
    "    for col in range(m):\n",
    "        for i in range(n - 2, -1, -1):\n",
    "            for j in range(i + 1, n):\n",
    "                X[i, col] -= a[i, j] * X[j, col]  #две операции\n",
    "\n",
    "\n",
    "Для остальных операций степень при их числе в общей сумме меньше 3, значит их число мало.\n",
    "Цикл j от i + 1 до n - 1 выполняется $1 + 2 + \\dots + n - 1 = \\dfrac{n(n - 1)}{2}$ раз.\n",
    "Тогда общее число равно: $\\dfrac{n(n - 1)}{2} \\cdot 2(n + m) + m \\cdot 2\\dfrac{n(n - 1)}{2} = n(n - 1)(n + 2m)$\n",
    "\n",
    "В методе с поиском обратной матрицы имеем:\n",
    "\n",
    "    for i in range(n):                          #весь этот цикл выполняется два раза\n",
    "        for j in range(i + 1, n):                 \n",
    "            A[j,:] -= A[i,:] * d             # 2n операций\n",
    "            A_inv[j,:] -= A_inv[i,:] * d     # 2n операций\n",
    "    \n",
    "    for i in range(n):\n",
    "        for j in range(m):\n",
    "            X[i][j] = np.sum(A_inv[i,:] * B[:,j])    # 2n операций (n умножений и n сложений)\n",
    "\n",
    "Общее число равно: $2\\cdot4\\cdot\\dfrac{n(n - 1)}{2} + 2n^2m = 4n^2(n - 1) + 2n^2m$\n",
    "\n",
    "1. При фиксированном $m = 10$\n",
    "\n",
    "Метод Гаусса: $n(n - 1)(n + 20) = n^3 + 19n^2 - 20n$\n",
    "\n",
    "Метод поиска обратной матрицы: $4n^2(n - 1) + 20n^2 = 4n^3 + 14n^2$\n",
    "\n",
    "При $n > m$ число операций в методе Гаусса меньше.\n",
    "\n",
    "2. При фиксированном $n = 100$\n",
    "\n",
    "Метод Гаусса: $100(100 - 1)(100 + 2m) = 99\\cdot10^4 + 19800m$\n",
    "\n",
    "Метод поиска обратной матрицы: $4\\cdot100^2(100 - 1) + 100^2m = 396\\cdot10^4 + 10000m$\n",
    "\n",
    "При $m >> n$ число операций в методе поиска обратной матрицы меньше."
   ]
  },
  {
   "cell_type": "markdown",
   "metadata": {},
   "source": [
    "Из подсчета числа операций можно сделать вывод, что метод Гаусса более чувствителен к росту m, а метод поиска обратной матрицы -- к росту n.\n",
    "\n",
    "Таким образом при n >> m эффективнее будет метод Гаусса, а при m >> n эффективнее будет метод поиска обратной матрицы."
   ]
  }
 ],
 "metadata": {
  "kernelspec": {
   "display_name": "Python 3",
   "language": "python",
   "name": "python3"
  },
  "language_info": {
   "codemirror_mode": {
    "name": "ipython",
    "version": 3
   },
   "file_extension": ".py",
   "mimetype": "text/x-python",
   "name": "python",
   "nbconvert_exporter": "python",
   "pygments_lexer": "ipython3",
   "version": "3.8.8"
  }
 },
 "nbformat": 4,
 "nbformat_minor": 4
}
