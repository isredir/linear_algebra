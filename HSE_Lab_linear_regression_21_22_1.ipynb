{
 "cells": [
  {
   "cell_type": "markdown",
   "metadata": {
    "id": "VJEZ8P61An7I"
   },
   "source": [
    "# Лабораторная работа 2\n",
    "\n",
    "## Линейная регрессия"
   ]
  },
  {
   "cell_type": "markdown",
   "metadata": {
    "id": "5kOKUEqSSU5j"
   },
   "source": [
    "## Часть 1: Приближаем функции\n"
   ]
  },
  {
   "cell_type": "markdown",
   "metadata": {
    "id": "y3OmO16EAn7M"
   },
   "source": [
    "### Метод наименьших квадратов: постановка задачи\n",
    "\n",
    "Рассмотрим систему уравнений $Xa = y$, в которой $a$ — столбец неизвестных. Её можно переписать в векторном виде\n",
    "$$x_1 a_1 + x_2 a_2 + \\ldots + x_k a_k = y,$$\n",
    "где $x_1,\\ldots,x_k$ — столбцы матрицы $X$. Таким образом, решить исходную систему означает найти линейную комбинацию векторов $x_1,\\ldots,x_k$, равную правой части. Но что делать, если такой линейной комбинации не существует? Геометрически это означает, что вектор $y$ не лежит в подпространстве $U = \\langle x_1,\\ldots, x_k\\rangle$. В этом случае мы можем найти *псевдорешение*: вектор коэффициентов $\\hat{a}$, для которого линейная комбинация $x_1 \\hat{a}_1 + x_2 \\hat{a}_2 + \\ldots + x_k \\hat{a}_k$ хоть и не равна в точности $y$, но является наилучшим приближением — то есть ближайшей к $y$ точкой $\\hat{y}$ подпространства $U$ (иными словами, ортогональной проекцией $y$ на это подпростанство). Итак, цель наших исканий можно сформулировать двумя эквивалентными способами:\n",
    "\n",
    "1. Найти вектор $\\hat{a}$, для которого длина разности $|X\\hat{a} - y|$ минимальна;\n",
    "2. Найти ортогональную проекцию $\\hat{y}$ вектора $y$ на подпространство $U$ и представить её в виде $X\\hat{a}$.\n",
    "\n",
    "Далее мы будем предполагать, что векторы $x_1,\\ldots,x_k$ линейно независимы (если нет, то сначала имеет смысл выделить максимальную линейно независимую подсистему).\n",
    "\n",
    "На лекциях было показано, что проекция вектора $y$ на подпространство $U = \\langle x_1,\\ldots, x_k\\rangle$, записывается в виде\n",
    "$$\\hat{y} = X\\left(X^TX\\right)^{-1}X^Ty,$$\n",
    "и, соответственно, искомый вектор $\\hat{a}$ равен\n",
    "$$\\hat{a} = \\left(X^TX\\right)^{-1}X^Ty.$$"
   ]
  },
  {
   "cell_type": "markdown",
   "metadata": {
    "id": "Wbh4XI_BAn7P"
   },
   "source": [
    "### Задача линейной регрессии\n",
    "\n",
    "Начнём с примера. Допустим, вы хотите найти зависимость среднего балла S студента ФКН от его роста H, веса W, длины волос L и N — количества часов, которые он ежедневно посвящает учёбе. Представьте, что мы измерили все эти параметры для $n$ студентов и получили наборы значений: $S_1,\\ldots, S_n$, $H_1,\\ldots, H_n$ и так далее.\n",
    "\n",
    "Теперь мы хотим построить **модель**, т.е. определить алгоритм, который будет принимать на вход некоторый набор параметров (в данном случае это измеренные нами $H, W, L$ и $N$), и выдавать значение некоторой **целевой переменной** (в данном примере это $S$). Тут можно подбирать много разных умных моделей, но начать имеет смысл с самой простой, линейной:\n",
    "\n",
    "$$S = a_0 + a_1H + a_2W + a_3L + a_4N.$$\n",
    "\n",
    "Конечно, строгой линейной зависимости нет (иначе можно было бы радостно упразднить экзамены), но мы можем попробовать подобрать коэффициенты $a_0, a_1, a_2, a_3, a_4$, удовлетворяющие вот такому требованию:\n",
    "$$\\sum_{i=1}^n\\left(S_i - ( a_0 + a_1H_i + a_2W_i + a_3L_i + a_4N_i)\\right)^2 \\longrightarrow \\min$$\n",
    "Т.е. мы хотим, чтобы квадрат отклонения правой части от левой был поменьше для всех $n$ студентов. Введём несколько обозначений:\n",
    "$$X =\n",
    "\\begin{pmatrix}\n",
    "1 & H_1 & W_1 & L_1 & N_1\\\\\n",
    "1 & H_2 & W_2 & L_2 & N_2\\\\\n",
    "\\vdots & \\vdots & \\vdots & \\vdots & \\vdots \\\\\n",
    "1 & H_n & W_n & L_n & N_n\n",
    "\\end{pmatrix}, \\qquad a=\n",
    "\\begin{pmatrix}\n",
    "a_0\\\\ a_1\\\\ \\vdots\\\\ a_4\n",
    "\\end{pmatrix},\\qquad y=\n",
    "\\begin{pmatrix}\n",
    "S_1\\\\ S_2\\\\ \\vdots \\\\ S_n\n",
    "\\end{pmatrix}.$$\n",
    "\n",
    "Теперь наше требование выше можно переписать в таком виде:\n",
    "$$\n",
    "\\sum_{i=1}^n\\left(S_i - ( a_0 + a_1H_i + a_2W_i + a_3L_i + a_4N_i)\\right)^2 = |y - Xa|^2 \\longrightarrow \\min\n",
    "$$\n",
    "\n",
    "И теперь видно, что мы получили задачу на метод наименьших квадратов!\n",
    "Решая эту задачу с помощью уже известных формул, получаем оценки коэффициентов $\\hat{a}_i$ ($i = 1\\ldots,5$)."
   ]
  },
  {
   "cell_type": "markdown",
   "metadata": {
    "id": "v76yazhJAn7R"
   },
   "source": [
    "Теперь проговорим общую постановку задачи линейной регрессии. У нас есть $k$ переменных $x_1,\\ldots,x_k$ (\"регрессоров\"), через которые мы хотим выразить \"объясняемую переменную\" $y$:\n",
    "$$y = a_1x_1 + a_2x_2 + \\ldots + a_kx_k$$\n",
    "Значения всех переменных мы измерили $n$ раз (у $n$ различных объектов,  в $n$ различных моментов времени - это зависит от задачи). Подставим эти данные в предыдущее равенство:\n",
    "$$\\begin{pmatrix}\n",
    "y_1\\\\ y_2 \\\\ \\vdots \\\\ y_n\n",
    "\\end{pmatrix} = \n",
    "a_1\\begin{pmatrix}\n",
    "x_{11} \\\\ x_{21} \\\\ \\vdots \\\\ x_{n1} \\end{pmatrix} + a_2\\begin{pmatrix}\n",
    "x_{12} \\\\ x_{22} \\\\ \\vdots \\\\ x_{n2} \\end{pmatrix} + \\ldots + a_k\\begin{pmatrix}\n",
    "x_{1k} \\\\ x_{2k} \\\\ \\vdots \\\\ x_{nk} \\end{pmatrix}$$\n",
    "(здесь $x_{ij}$ - это значение $j$-го признака на $i$-м измерении). Это удобно переписать в матричном виде:\n",
    "$$\\begin{pmatrix}\n",
    "x_{11} & x_{12} & \\ldots & x_{1k}\\\\\n",
    "x_{21} & x_{22} & \\ldots & x_{2k}\\\\\n",
    "\\dots & \\dots & \\dots & \\dots\\\\\n",
    "x_{n1} & x_{n2} & \\ldots & x_{nk}\n",
    "\\end{pmatrix} \\cdot\n",
    "\\begin{pmatrix}\n",
    "a_1 \\\\ a_2 \\\\ \\vdots \\\\ a_k\n",
    "\\end{pmatrix} = \n",
    "\\begin{pmatrix}\n",
    "y_1 \\\\ y_2 \\\\ \\vdots \\\\ y_n\n",
    "\\end{pmatrix}$$\n",
    "или коротко $Xa = y$. Поскольку на практике эта система уравнений зачастую не имеет решения (ибо зависимости в жизни редко бывают действительно линейными), методом наименьших квадратов ищется псевдорешение."
   ]
  },
  {
   "cell_type": "markdown",
   "metadata": {
    "id": "kDX5t_BxAn7T"
   },
   "source": [
    "### Оценка качества. Обучение и тест \n",
    "\n",
    "После того, как вы построили регрессию и получили какую-то зависимость объясняемой переменной от регрессоров, настаёт время оценить качество регрессии. Есть много разных функционалов качества; мы пока будем говорить только о самом простом и очевидном из них: о среднеквадратичной ошибке (mean square error). Она равна\n",
    "$$\\frac1{n}|X\\hat{a} - y|^2 = \\frac1{n}\\sum_{i=1}^n\\left(\\hat{a}_1x_{i1} + \\hat{a}_2x_{i2} + \\ldots + \\hat{a}_kx_{ik} - y_i\\right)^2$$\n",
    "\n",
    "В целом, хочется искать модели с наименьшей mean square error на имеющихся данных. Однако слишком фанатичная гонка за минимизацией ошибки может привести к печальным последствиям, в чём Вам предстоит убедиться в ходе выполнения этой лабораторной.\n",
    "\n",
    "Чтобы не попадать в эту ловушку, данные обычно делят на обучающие (по которым строят модель и оценивают коэффициенты) и тестовые. Лучшей стоит счесть ту модель, для которой значение функционала качества будет меньше."
   ]
  },
  {
   "cell_type": "markdown",
   "metadata": {
    "id": "CMrD0HArAn7T"
   },
   "source": [
    "### Правила оформления графиков\n",
    "При работе с данными часто неудобно делать какие-то выводы, если смотреть на таблицу и числа в частности, поэтому важно уметь визуализировать данные. \n",
    "\n",
    "У matplotlib, конечно же, есть [документация](https://matplotlib.org/users/index.html) с большим количеством [примеров](https://matplotlib.org/examples/), но для начала достаточно знать про несколько основных типов графиков:\n",
    "- plot — обычный поточечный график, которым можно изображать кривые или отдельные точки;\n",
    "- hist — гистограмма, показывающая распределение некоторой величины;\n",
    "- scatter — график, показывающий взаимосвязь двух величин;\n",
    "- bar — столбцовый график, показывающий взаимосвязь количественной величины от категориальной.\n",
    "\n",
    "Ещё одна билиотека для визуализации: [seaborn](https://jakevdp.github.io/PythonDataScienceHandbook/04.14-visualization-with-seaborn.html). Это надстройка над matplotlib, иногда удобнее и красивее делать визуализации через неё. \n",
    "\n",
    "При выполнении этой лабораторной Вы столкнётесь с необходимостью рисовать большое количество графиков. Не забывайте про базовые принципы построения приличных графиков:\n",
    "- оси должны быть подписаны, причём не слишком мелко;\n",
    "- у графика должно быть название;\n",
    "- если изображено несколько графиков, то необходима поясняющая легенда;\n",
    "- для точек из разных выборок необходимо использовать разные цвета;\n",
    "- все линии на графиках должны быть чётко видны (нет похожих цветов или цветов, сливающихся с фоном);\n",
    "- если отображена величина, имеющая очевидный диапазон значений (например, проценты могут быть от 0 до 100), то желательно масштабировать ось на весь диапазон значений (исключением является случай, когда вам необходимо показать малое отличие, которое незаметно в таких масштабах).\n",
    "\n",
    "Помните, что проверяющий имеет право снизить оценку за неопрятные графики."
   ]
  },
  {
   "cell_type": "markdown",
   "metadata": {
    "id": "3Ivj-lm0An7U"
   },
   "source": [
    "### Формат сдачи\n",
    "Задания сдаются через систему Anytask. Инвайт можно найти на странице курса. Присылать необходимо ноутбук с выполненным заданием. Сам ноутбук называйте в формате homework-practice-02-linregr-Username.ipynb, где Username — Ваша фамилия."
   ]
  },
  {
   "cell_type": "markdown",
   "metadata": {
    "id": "sgYTlfJlAn7W"
   },
   "source": [
    "### Задание 1. Метод наименьших квадратов (3.1 баллов)\n",
    "\n",
    "**ВАЖНО! В этом задании вам нельзя использовать циклы (в том числе рекурсии, генераторы и конструкции вида map/reduce), кроме цикла в задании 1.5, который мы вам оставили. За наличие цикла в вашем коде мы поставим вам не более половины от стоимости задания.**"
   ]
  },
  {
   "cell_type": "markdown",
   "metadata": {
    "id": "h_HVV2__An7W"
   },
   "source": [
    "Скачайте файлы ``train.txt`` и ``test.txt``. Каждый из файлов содержит два столбца чисел, разделённых пробелами: в первом — некоторое число точек (значения аргумента $x$), во втором — значения некоторой функции $y = f(x)$ в этих точках, искажённые случайным шумом. Функцию $f$ мы вам не скажем. Ваша задача — по данным из файла ``train.txt`` (будем называть их обучающей выборкой) подобрать функцию $y = g(x)$, пристойно приближающую неизвестную вам зависимость."
   ]
  },
  {
   "cell_type": "markdown",
   "metadata": {
    "id": "qhI6CxL0An7Y"
   },
   "source": [
    "Загрузим обучающие и тестовые данные (из файла ``test.txt``)."
   ]
  },
  {
   "cell_type": "code",
   "execution_count": 4,
   "metadata": {
    "collapsed": true,
    "id": "ca7tXdbiAn7Z"
   },
   "outputs": [],
   "source": [
    "import numpy as np\n",
    "from os.path import join\n",
    "import matplotlib.pyplot as plt\n",
    "%matplotlib inline\n"
   ]
  },
  {
   "cell_type": "code",
   "execution_count": null,
   "metadata": {
    "id": "fe2qRYsCQKL6"
   },
   "outputs": [],
   "source": [
    "\n",
    "PATH = \"./\" ### Вставить заглушку (не забудьте ввести правильный путь!)\n",
    "\n",
    "data_train = np.loadtxt(join(PATH, \"train.txt\"), delimiter=',')\n",
    "data_test = np.loadtxt(join(PATH, \"test.txt\"), delimiter=',')"
   ]
  },
  {
   "cell_type": "markdown",
   "metadata": {
    "id": "k3GshOvnAn7b"
   },
   "source": [
    "**0. [0 баллов]** Разделим значения $x$ и $y$"
   ]
  },
  {
   "cell_type": "code",
   "execution_count": null,
   "metadata": {
    "collapsed": true,
    "id": "1BIIDVGjAn7b"
   },
   "outputs": [],
   "source": [
    "X_train = data_train[:,0]\n",
    "y_train = data_train[:,1]\n",
    "\n",
    "# Сделайте то же для тестовой выборки\n",
    "#╰( ͡° ͜ʖ ͡° )つ──☆*:・ﾟ\n",
    "X_test = data_test[:,0]\n",
    "y_test = data_test[:,1]"
   ]
  },
  {
   "cell_type": "markdown",
   "metadata": {
    "id": "PRLl0nkWAn7c"
   },
   "source": [
    "**1. [0,15 балла]** Найдите с помощью метода наименьших квадратов линейную функцию $y = kx + b$, наилучшим образом приближающую неизвестную зависимость. Полезные функции: ``numpy.ones(n)`` для создания массива из единиц длины $n$ и ``numpy.concatenate((А, В), axis=1)`` для слияния двух матриц по столбцам (пара ``А`` и ``В`` превращается в матрицу ``[A B]``). Напечатайте этот многочлен в виде $kx+b$."
   ]
  },
  {
   "cell_type": "code",
   "execution_count": null,
   "metadata": {
    "colab": {
     "base_uri": "https://localhost:8080/"
    },
    "id": "qTMuTy7IAn7d",
    "outputId": "415abd75-eafa-420d-e2bd-1effad6f1324"
   },
   "outputs": [
    {
     "name": "stdout",
     "output_type": "stream",
     "text": [
      "train:\n",
      "4.048356078106742x + 2.453932233062655\n"
     ]
    }
   ],
   "source": [
    "X = np.vander(X_train, N=2, increasing=True)\n",
    "Y = np.array([y_train]).T\n",
    "coefs = np.dot(np.dot(np.linalg.inv(np.dot(X.T, X)), X.T), Y)\n",
    "print(\"train:\")\n",
    "print(coefs[1][0], \"x + \", coefs[0][0], sep='')"
   ]
  },
  {
   "cell_type": "markdown",
   "metadata": {
    "id": "Bnburua6An7e"
   },
   "source": [
    "**2. [0,15 балла]** Нарисуйте на плоскости точки $(x_i, y_i)$ из обеих выборок и полученную линейную функцию."
   ]
  },
  {
   "cell_type": "code",
   "execution_count": null,
   "metadata": {
    "colab": {
     "base_uri": "https://localhost:8080/",
     "height": 312
    },
    "id": "Um_XtCIRAn7e",
    "outputId": "fc16d258-adfc-4778-f9d1-99a5a363b41c"
   },
   "outputs": [
    {
     "data": {
      "text/plain": [
       "<matplotlib.legend.Legend at 0x7fa4e3af8bd0>"
      ]
     },
     "execution_count": 6,
     "metadata": {},
     "output_type": "execute_result"
    },
    {
     "data": {
      "image/png": "[encoded data removed]",
      "text/plain": [
       "<Figure size 432x288 with 1 Axes>"
      ]
     },
     "metadata": {
      "needs_background": "light"
     },
     "output_type": "display_data"
    }
   ],
   "source": [
    "new_y = np.dot(X, coefs)\n",
    "\n",
    "plt.scatter(X_train, y_train, color='blue', label='Обучающая выборка')\n",
    "plt.scatter(X_test, y_test, color='black', label='Тестовая выборка')\n",
    "plt.plot(X_train, new_y, color='red', label='Линейная функция')\n",
    "plt.title('Линейная аппроксимация')\n",
    "plt.ylabel('y')\n",
    "plt.xlabel('x')\n",
    "plt.legend()"
   ]
  },
  {
   "cell_type": "markdown",
   "metadata": {
    "id": "crzpARViAn7f"
   },
   "source": [
    "**3. [0,4 балла]** Глядя на данные, подумайте, многочленом какой степени можно было бы лучше всего приблизить эту функцию с точки зрения минимизации среднеквадратичной ошибки на обучающей выборке. Найдите этот многочлен и сохраните его коэффициенты в массив `poly_coef` (от младшего члена к старшему). Обязательно обоснуйте выбор степени многочлена."
   ]
  },
  {
   "cell_type": "markdown",
   "metadata": {
    "id": "YOKD5v54R7Wb"
   },
   "source": [
    "В обучающей выборке 23 значения, значит гарантированно подойдет многочлен 22-й степени, имеющий вид $L(x)=\\sum \\limits_{i=0}^{22}y_{i}l_{i}(x)$, где $ l_{i}(x)=\\prod\\limits _{j=0,j\\neq i}^{23}{\\frac {x-x_{j}}{x_{i}-x_{j}}}={\\frac {x-x_{0}}{x_{i}-x_{0}}}\\cdots {\\frac {x-x_{i-1}}{x_{i}-x_{i-1}}}\\cdot {\\frac {x-x_{i+1}}{x_{i}-x_{i+1}}}\\cdots {\\frac {x-x_{n}}{x_{i}-x_{n}}}$ \n",
    "\n",
    "Для любого $ i=0,\\ldots ,22$ многочлен $l_{i}$ имеет степень $22$ и\n",
    "\n",
    "$ l_{i}(x_{j})=\\left\\{{\\begin{array}{rl}0,&j\\neq i,\\\\1,&j=i.\\end{array}}\\right.$\n",
    "\n",
    "Получаем, что $L(x_i) = y_i$, то есть среднеквадратичная ошибка будет равна нулю. Коэффициенты этого многочлена также являются решением системы уравнений:\n",
    "\n",
    "$ {\\begin{cases}a_{0}+a_{1}x_{0}+a_{2}x_{0}^{2}+\\dots +a_{22}x_{0}^{22}=y_{0},\\\\a_{0}+a_{1}x_{1}+a_{2}x_{1}^{2}+\\dots +a_{22}x_{1}^{22}=y_{1},\\\\\\dots \\dots \\dots \\dots \\dots \\dots \\dots \\dots \\dots \\dots \\dots \\dots ,\\\\a_{0}+a_{1}x_{n}+a_{2}x_{22}^{2}+\\dots +a_{22}x_{22}^{22}=y_{22}\\\\\\end{cases}}$\n",
    "\n",
    "или же: \n",
    "\n",
    "$\\begin{pmatrix}\n",
    "1 & x_{0} & \\ldots & x_{0}^{22}\\\\\n",
    "1 & x_{1} & \\ldots & x_{1}^{22}\\\\\n",
    "\\dots & \\dots & \\dots & \\dots\\\\\n",
    "1 & x_{22} & \\ldots & x_{22}^{22}\n",
    "\\end{pmatrix} \\cdot\n",
    "\\begin{pmatrix}\n",
    "a_0 \\\\ a_1 \\\\ \\vdots \\\\ a_{22}\n",
    "\\end{pmatrix} = \n",
    "\\begin{pmatrix}\n",
    "y_0 \\\\ y_1 \\\\ \\vdots \\\\ y_{22}\n",
    "\\end{pmatrix}$\n",
    "\n",
    "Эта система имеет единственное решение, поскольку все $x_i$ различны, и матрица $X$ является матрицей Вандермонда, а значит ее строки линейно независимы. Найдем решение этой системы:"
   ]
  },
  {
   "cell_type": "code",
   "execution_count": null,
   "metadata": {
    "colab": {
     "base_uri": "https://localhost:8080/"
    },
    "id": "PSywLPifAn7g",
    "outputId": "dabc6166-a8c5-4f45-da8f-86a8da8ddf73"
   },
   "outputs": [
    {
     "name": "stdout",
     "output_type": "stream",
     "text": [
      "[[-5.48926219e+02]\n",
      " [-6.14629656e+03]\n",
      " [ 1.39862270e+05]\n",
      " [-1.18645018e+05]\n",
      " [-5.21073358e+06]\n",
      " [ 1.05245157e+07]\n",
      " [ 8.93726632e+07]\n",
      " [-2.08484623e+08]\n",
      " [-8.92060401e+08]\n",
      " [ 2.06324677e+09]\n",
      " [ 5.70521560e+09]\n",
      " [-1.19453606e+10]\n",
      " [-2.43891612e+10]\n",
      " [ 4.27057847e+10]\n",
      " [ 7.04031451e+10]\n",
      " [-9.50454242e+10]\n",
      " [-1.35000421e+11]\n",
      " [ 1.27622133e+11]\n",
      " [ 1.63800285e+11]\n",
      " [-9.41575690e+10]\n",
      " [-1.12998792e+11]\n",
      " [ 2.91737727e+10]\n",
      " [ 3.35216740e+10]]\n"
     ]
    }
   ],
   "source": [
    "n = len(X_train)\n",
    "X = np.vander(X_train, N=(n), increasing=True)\n",
    "Y = np.array([y_train]).T\n",
    "poly_coef22 = np.dot(np.linalg.inv(X), Y)\n",
    "print(poly_coef22)"
   ]
  },
  {
   "cell_type": "markdown",
   "metadata": {
    "id": "bVlu8GtRAn7h"
   },
   "source": [
    "**4. [0,15 балла]** Нарисуйте его график на одном чертеже вместе с точками $(x_i, y_i)$ из обеих выборок. Удалось ли графику пройти через все точки из выборки? Попробуйте объяснить, почему?"
   ]
  },
  {
   "cell_type": "code",
   "execution_count": null,
   "metadata": {
    "colab": {
     "base_uri": "https://localhost:8080/",
     "height": 639
    },
    "id": "2EjDMWVQAn7i",
    "outputId": "bb6331bf-d564-44c1-c12a-b68467c69f2f"
   },
   "outputs": [
    {
     "data": {
      "text/plain": [
       "<matplotlib.legend.Legend at 0x7fa4dc1fb610>"
      ]
     },
     "execution_count": 8,
     "metadata": {},
     "output_type": "execute_result"
    },
    {
     "data": {
      "image/png": "[encoded data removed]",
      "text/plain": [
       "<Figure size 1080x720 with 1 Axes>"
      ]
     },
     "metadata": {
      "needs_background": "light"
     },
     "output_type": "display_data"
    }
   ],
   "source": [
    "lin = np.linspace(min(min(X_train), min(X_test)), max(max(X_train), max(X_test)), num=1000)\n",
    "new_x = np.vander(lin, N=(n), increasing=True)\n",
    "\n",
    "new_y = np.dot(new_x, poly_coef22)\n",
    "\n",
    "plt.figure(figsize=(15, 10))\n",
    "plt.scatter(X_train, y_train, color='blue', label='Обучающая выборка')\n",
    "plt.scatter(X_test, y_test, color='black', label='Тестовая выборка')\n",
    "plt.plot(lin, new_y, color='red', label='Найденный многочлен')\n",
    "plt.title('Обучающая выборка')\n",
    "plt.ylabel('y')\n",
    "plt.xlabel('x')\n",
    "plt.ylim(-30, 30)\n",
    "plt.legend()"
   ]
  },
  {
   "cell_type": "markdown",
   "metadata": {
    "id": "B37J52aAnjde"
   },
   "source": [
    "График проходит через все точки обучающей выборки, поскольку мы подобрали многочлен, значения которого в данных $x_i$ совпадают с $y_i$, однако именно потому, что многочлен подогнан к обучающей выборке, он не проходит через точки тестовой."
   ]
  },
  {
   "cell_type": "markdown",
   "metadata": {
    "id": "mlVLDqILAn7j"
   },
   "source": [
    "**5. [0,5 балла]** Для $k = 1,2,3,\\ldots,10$ найдите многочлен $\\hat{f}_k$ степени $k$, наилучшим образом приближающий неизвестную зависимость. Сохраните найденные коэффициенты многочленов в матрицу `poly_coefs` (коэффициенты многочлена степени $j$ должны быть сохранены в $j$-й строке матрицы от младшего члена к старшему)."
   ]
  },
  {
   "cell_type": "code",
   "execution_count": null,
   "metadata": {
    "colab": {
     "base_uri": "https://localhost:8080/"
    },
    "id": "_kz4i82kAn7j",
    "outputId": "40e0502e-c4cf-415f-8308-9010eeeaa4ee"
   },
   "outputs": [
    {
     "name": "stdout",
     "output_type": "stream",
     "text": [
      "[[   2.45393223    4.04835608    0.            0.            0.\n",
      "     0.            0.            0.            0.            0.\n",
      "     0.        ]\n",
      " [   2.5694219     4.01015943   -0.3551553     0.            0.\n",
      "     0.            0.            0.            0.            0.\n",
      "     0.        ]\n",
      " [   2.54688319    4.7869345    -0.41165762   -1.41634742    0.\n",
      "     0.            0.            0.            0.            0.\n",
      "     0.        ]\n",
      " [   3.25302411    4.49788737   -6.92753076   -0.76232916    7.97572932\n",
      "     0.            0.            0.            0.            0.\n",
      "     0.        ]\n",
      " [   3.11521784    6.42425264   -6.36050064  -11.18097856    7.592385\n",
      "    10.50504691    0.            0.            0.            0.\n",
      "     0.        ]\n",
      " [   3.07558089    6.47067818   -5.70379442  -11.41476149    5.49711076\n",
      "    10.73774703    1.6944096     0.            0.            0.\n",
      "     0.        ]\n",
      " [   3.14869778    5.21297457   -5.66934112    1.33536686    3.71785229\n",
      "   -21.42004699    3.83322656   22.823169      0.            0.\n",
      "     0.        ]\n",
      " [   3.24466754    5.18522939   -8.3014978     1.65948032   19.20270717\n",
      "   -22.7244493   -26.33288409   24.04926978   18.41614417    0.\n",
      "     0.        ]\n",
      " [   3.18389378    7.10148499   -9.04619474  -26.91426506   26.21711065\n",
      "    98.05747753  -42.24194401 -167.43171912   29.05451076  101.6283188\n",
      "     0.        ]\n",
      " [   3.0160899     7.24778438   -1.68504167  -31.53291275  -43.94152283\n",
      "   123.53146723  196.28709639 -213.90620488 -301.0532763   128.63909463\n",
      "   159.31729796]]\n"
     ]
    }
   ],
   "source": [
    "def tosize(a, n):\n",
    "  a = np.asarray(a)\n",
    "  x = np.zeros(n)\n",
    "  m = min(n, len(a))\n",
    "  x[:m] = a[:m]\n",
    "  return x\n",
    "\n",
    "poly_coefs = np.zeros((10, 11))\n",
    "Y = np.array([y_train]).T\n",
    "X = np.array([np.ones(n)]).T\n",
    "Xt = np.array([X_train]).T\n",
    "for k in range(1, 11):\n",
    "  X = np.vander(X_train, N = k + 1, increasing=True)\n",
    "  arr = np.dot(np.dot(np.linalg.inv(np.dot(X.T, X)), X.T), Y).T[0]\n",
    "  poly_coefs[k - 1, :] = tosize(arr, 11)\n",
    "\n",
    "\n",
    "assert poly_coefs.shape[0] == 10\n",
    "print(poly_coefs)"
   ]
  },
  {
   "cell_type": "markdown",
   "metadata": {
    "id": "XZm2UpUEAn7k"
   },
   "source": [
    "**6. [0,6 балл]** Для каждого из многочленов из задания 1.5, а также для многочлена из задания 1.4 найдите среднеквадратическую ошибку на обучающих данных и на тестовых данных: $\\frac1{n}\\sum_{i=1}^n\\left( \\hat{f}_k(x_i) - y_i \\right)^2$. Полученные значения ошибок сохраните в матрицу `errors` высоты 11 и ширины 2. В первом столбце матрицы должны стоять значения ошибок на тренировочных данных, во втором --- на тестовых. В первых 10 строках матрицы должны стоять значения ошибок для многочленов соответствующих степений из задания 1.5, в 11-й строке --- значение ошибки для многочлена из задания 1.4."
   ]
  },
  {
   "cell_type": "code",
   "execution_count": null,
   "metadata": {
    "colab": {
     "base_uri": "https://localhost:8080/"
    },
    "id": "byyH4arFAn7k",
    "outputId": "9fdde6d4-d9c9-4cda-8cbe-c8847edd8093"
   },
   "outputs": [
    {
     "name": "stdout",
     "output_type": "stream",
     "text": [
      "[[1.29246971e-26 2.26727104e+03]\n",
      " [9.08767763e-28 2.86441271e+03]\n",
      " [2.69264522e-28 1.89579784e+03]\n",
      " [8.53231955e-27 1.38757441e+03]\n",
      " [2.40463989e-24 1.25327562e+03]\n",
      " [1.06642214e-24 1.11980538e+03]\n",
      " [9.98821051e-22 9.66868659e+02]\n",
      " [1.84844272e-22 9.31579443e+02]\n",
      " [2.44473885e-21 8.60418397e+02]\n",
      " [1.13444560e-19 9.08089843e+02]\n",
      " [7.66123996e+02 0.00000000e+00]]\n"
     ]
    }
   ],
   "source": [
    "def error_train(n):\n",
    "  X = np.vander(X_train, N=n, increasing=True)\n",
    "  Y = np.array([y_train]).T\n",
    "  poly_coef = np.dot(np.dot(np.linalg.inv(np.dot(X.T, X)), X.T), Y)\n",
    "  dif_sq = np.dot(X, poly_coef) - y_train\n",
    "  return (np.sum(dif_sq)**2) / n\n",
    "\n",
    "def error_test(n):\n",
    "  X = np.vander(X_train, N=n, increasing=True)\n",
    "  new_X = np.vander(X_test, N=n, increasing=True)\n",
    "  Y = np.array([y_train]).T\n",
    "  poly_coef = np.dot(np.dot(np.linalg.inv(np.dot(X.T, X)), X.T), Y)\n",
    "  dif_sq = np.dot(new_X, poly_coef) - y_test\n",
    "  return np.sum((dif_sq)**2) / n\n",
    "\n",
    "\n",
    "v_train = np.vectorize(error_train)\n",
    "v_test = np.vectorize(error_test)\n",
    "errors = np.concatenate((np.array([v_train(np.arange(1, 11))]).T, np.array([v_test(np.arange(1, 11))]).T), axis=1)\n",
    "errors = np.concatenate((errors, np.array([[error_train(22), 0]])))\n",
    "\n",
    "print(errors)"
   ]
  },
  {
   "cell_type": "markdown",
   "metadata": {
    "id": "VKns2ndWAn7l"
   },
   "source": [
    "**7. [0,5 балла]** Для $k = 1,2,3,4,6$ нарисуйте графики полученных многочленов на одном чертеже вместе с точками $(x_i, y_i)$ из обеих выборок (возможно, график стоит сделать побольше; это делается командой `plt.figure(figsize=(width, height))`)."
   ]
  },
  {
   "cell_type": "code",
   "execution_count": null,
   "metadata": {
    "colab": {
     "base_uri": "https://localhost:8080/",
     "height": 639
    },
    "id": "Vwt574k1An7m",
    "outputId": "0532a5cf-5f82-47ec-efbe-372d56ba5bc0"
   },
   "outputs": [
    {
     "data": {
      "text/plain": [
       "<matplotlib.legend.Legend at 0x7fa4dc6a2c90>"
      ]
     },
     "execution_count": 23,
     "metadata": {},
     "output_type": "execute_result"
    },
    {
     "data": {
      "image/png": "[encoded data removed]",
      "text/plain": [
       "<Figure size 1080x720 with 1 Axes>"
      ]
     },
     "metadata": {
      "needs_background": "light"
     },
     "output_type": "display_data"
    }
   ],
   "source": [
    "def graph(n, col):\n",
    "  X = np.vander(X_train, N=n+1, increasing=True)\n",
    "  Y = np.array([y_train]).T\n",
    "  poly_coef = np.dot(np.dot(np.linalg.inv(np.dot(X.T, X)), X.T), Y)\n",
    "  lin = np.linspace(min(X_train), max(X_train), num=100).T\n",
    "  new_x = np.vander(lin, N=n+1, increasing=True)\n",
    "  new_y = np.dot(new_x, poly_coef)\n",
    "  plt.plot(lin, new_y, color=col, label='Многочлен степени ' + str(n))\n",
    "plt.figure(figsize=(15, 10))\n",
    "plt.scatter(X_train, y_train, color='blue', label='Обучающая выборка')\n",
    "plt.scatter(X_test, y_test, color='black', label='Тестовая выборка')\n",
    "graph(1, 'red')\n",
    "graph(2, 'yellow')\n",
    "graph(3, 'green')\n",
    "graph(4, 'orange')\n",
    "graph(6, 'purple')\n",
    "plt.title('Обучающая выборка')\n",
    "plt.ylabel('y')\n",
    "plt.xlabel('x')\n",
    "plt.legend()"
   ]
  },
  {
   "cell_type": "markdown",
   "metadata": {
    "id": "YXMClHOOAn7n"
   },
   "source": [
    "**8. [0,65 балла]** Что происходит с ошибкой на тестовых данных при росте степени многочлена? Казалось бы, чем больше степень, тем более сложным будет многочлен и тем лучше он будет приближать нашу функцию. Подтверждают ли это ваши наблюдения? Как вам кажется, чем объясняется поведение ошибки на тестовых данных при $k = 10$? Как называется наблюдаемый вами эффект?"
   ]
  },
  {
   "cell_type": "markdown",
   "metadata": {
    "id": "-6rGUQMqAn7n"
   },
   "source": [
    "**Ответ:** Ошибка увеличивается, наблюдения не подтверждают предположение из задания. При $k = 10$ ошибка больше, чем при меньших степенях. Многочлен подогнан под обучающую выборку, но данные тестовой выборки отличаются. Этот эффект называется переобучение. В обучающей выборке точки близки к прямой, а в тестовой есть дополнительные шумы, и точки более разбросаны по плоскости. Также при больших степенях матрица $X^TX$ может быть близка к вырожденной, и мы можем получить большое отклонение при взятии обратной. Многочлен может гарантировать идеальное совпадение, в то время как линейное приближение лучше генерализирует последовательность, поэтому ошибка меньше при меньших степенях."
   ]
  },
  {
   "cell_type": "markdown",
   "metadata": {
    "id": "iwhYglpqSgh1"
   },
   "source": [
    "## Часть 2: Обучаем машины"
   ]
  },
  {
   "cell_type": "markdown",
   "metadata": {
    "id": "KFN99QhUAn7o"
   },
   "source": [
    "### Задание 2. Линейная регрессия (3 балла)"
   ]
  },
  {
   "cell_type": "markdown",
   "metadata": {
    "id": "EIPGe5d0JSgq"
   },
   "source": [
    "В этом задании вам предстоит заняться предсказанием цен на алмазы. Скачайте файл `diamonds_features.csv`, содержащий данные, с которыми вам предстоит работать. Запустите следующую ячейку:"
   ]
  },
  {
   "cell_type": "code",
   "execution_count": 5,
   "metadata": {
    "colab": {
     "base_uri": "https://localhost:8080/"
    },
    "id": "8_G9QdO6PdP4",
    "outputId": "3853d69b-1b41-4cd6-f7d2-8544d3e73597"
   },
   "outputs": [
    {
     "name": "stdout",
     "output_type": "stream",
     "text": [
      "[['0.8' 'Ideal' 'F' 'VS1' '62.4' '55.0' '5.92' '5.88' '3.68' '3884']\n",
      " ['0.91' 'Premium' 'F' 'SI2' '61.4' '60.0' '6.23' '6.21' '3.82' '3618']\n",
      " ['1.28' 'Premium' 'I' 'VS2' '61.7' '60.0' '7.05' '6.95' '4.32' '6762']\n",
      " ['0.41' 'Very Good' 'F' 'SI1' '61.9' '55.0' '4.78' '4.81' '2.97' '769']\n",
      " ['1.07' 'Premium' 'F' 'SI2' '61.8' '59.0' '6.53' '6.57' '4.05' '4560']]\n"
     ]
    }
   ],
   "source": [
    "data = np.loadtxt(\"diamonds_features.csv\", delimiter=\",\", dtype=\"str\")[1:, :]\n",
    "print(data[:5, :])"
   ]
  },
  {
   "cell_type": "markdown",
   "metadata": {
    "id": "ghn2xvL5P8BK"
   },
   "source": [
    "Мы вывели для вас первые 5 строчек данных. Описания значений в колонках вы можете найти в файле `diamonds_descriptions.txt`.\n",
    "\n",
    "Глобально в этом задании вам предстоит научиться строить модель линейной регрессии для предсказания цены алмаза по его признакам. Данные устроены таким образом, что в каждой строчке располагаются признаки, описывающие объект (алмаз), а в каждой фиксированной колонке --- всевозможные значения конкретного признака для всех объектов в данных."
   ]
  },
  {
   "cell_type": "markdown",
   "metadata": {
    "id": "fJEFOEpJAn7p"
   },
   "source": [
    "**0. [0 баллов]** Разделите выборку на обучающую и тестовую. Делать это лучше случайным образом (ведь вы не знаете, как создатели датасета упорядочили объекты); рекомендуем вам для этого функцию [sklearn.model_selection.train_test_split](https://scikit-learn.org/stable/modules/generated/sklearn.model_selection.train_test_split.html) с параметром `test_size=0.3`. Обязательно зафиксируйте параметр `random_state`."
   ]
  },
  {
   "cell_type": "code",
   "execution_count": 61,
   "metadata": {
    "id": "RoFzvGRBAn7q"
   },
   "outputs": [],
   "source": [
    "from sklearn.model_selection import train_test_split\n",
    "data_train, data_test = train_test_split(data, test_size=0.3, random_state=18)"
   ]
  },
  {
   "cell_type": "markdown",
   "metadata": {
    "id": "dVO-0MsaTXXT"
   },
   "source": [
    "Теперь у вас есть две выборки, каждая из которых содержит случайное подмножество наших данных. Обучающую выборку мы в дальнейшем будем использовать для обучения модели линейной регрессии, а тестовую, соответственно, для теста.\n",
    "\n",
    "**ВАЖНО: за обучение модели на тестовой выборке будем ставить 0 за весь пункт!**"
   ]
  },
  {
   "cell_type": "markdown",
   "metadata": {
    "id": "JEQLiBg-_zfK"
   },
   "source": [
    "### Работаем с числовыми данными"
   ]
  },
  {
   "cell_type": "markdown",
   "metadata": {
    "id": "bHSfXGDeC0b1"
   },
   "source": [
    "Сейчас ваши данные содержат как привычные вам числовые признаки, описывающие объект, так и категориальные признаки, которые описывают принадлежность объекта к той или иной категории, и в данных представляются строками. Что делать с данными, которые представлены строками --- мы разберёмся чуть позже, а пока давайте забудем, что они у нас есть, и будем работать только с числовыми."
   ]
  },
  {
   "cell_type": "markdown",
   "metadata": {
    "id": "KGGUh0UBEHSG"
   },
   "source": [
    "**0,5. [0 баллов]** Заполните переменные `numeric_features` и `categorical_features` индексами столбцов в данных, содержащих числовые и категориальные признаки соответственно. После этого можно проверить, что массив `data[:, numeric_features]` содержит только числовые данные."
   ]
  },
  {
   "cell_type": "code",
   "execution_count": 7,
   "metadata": {
    "colab": {
     "base_uri": "https://localhost:8080/"
    },
    "id": "kZWCocxzE-dv",
    "outputId": "1e7b4d2a-76ac-4410-a560-108ef4b1ebed"
   },
   "outputs": [
    {
     "name": "stdout",
     "output_type": "stream",
     "text": [
      "[['0.8' '62.4' '55.0' '5.92' '5.88' '3.68']\n",
      " ['0.91' '61.4' '60.0' '6.23' '6.21' '3.82']\n",
      " ['1.28' '61.7' '60.0' '7.05' '6.95' '4.32']\n",
      " ...\n",
      " ['0.31' '61.4' '56.0' '4.38' '4.41' '2.7']\n",
      " ['0.36' '62.0' '59.0' '4.56' '4.51' '2.81']\n",
      " ['0.31' '59.0' '62.0' '4.41' '4.43' '2.61']]\n"
     ]
    }
   ],
   "source": [
    "# ╰( ͡° ͜ʖ ͡° )つ──☆*:・ﾟ\n",
    "numeric_features = [0, 4, 5, 6, 7, 8]\n",
    "categorical_features = [1, 2, 3]\n",
    "print(data[:, numeric_features])"
   ]
  },
  {
   "cell_type": "markdown",
   "metadata": {
    "id": "Fiqc6nBwFVpP"
   },
   "source": [
    "**1. [0,3 баллов]** Решите задачу линейной регрессии для предсказания цены алмаза по его числовым признакам (не забудьте, что линейная модель должна также содержать свободный от признаков член) и протестируйте ваше решение на тестовых данных. Выведите полученные регрессионные коэффициенты для каждого признака. Попробуйте проинтерпретировать полученные коэффициенты: сравните их друг с другом, посмотрите на их знаки и на абсолютную величину и попробуйте на основе этого придать им житейский смысл. Согласуется ли построенная интерпретация модели с вашими представлениями о жизни? \n",
    "\n",
    "*Примечание: обратите внимание, сейчас все данные у вас хранятся в строковом виде. Чтобы работать с ними как с числами, необоходимо явно привести их к типу float. В NumPy для этого есть специальная удобная команда astype.*"
   ]
  },
  {
   "cell_type": "code",
   "execution_count": 8,
   "metadata": {
    "colab": {
     "base_uri": "https://localhost:8080/"
    },
    "id": "Q-rpxCQLH1VY",
    "outputId": "0367ccb3-2775-474c-9524-40dd2d892a08"
   },
   "outputs": [
    {
     "name": "stdout",
     "output_type": "stream",
     "text": [
      "free:  21610.819355057993\n",
      "carat:  11038.31398255767\n",
      "depth:  -209.37867531729236\n",
      "table:  -99.67088432015674\n",
      "x:  -1411.0189739193206\n",
      "y:  26.85751028921308\n",
      "z:  29.348034498836586\n",
      "error:  2156069.2763383747\n"
     ]
    }
   ],
   "source": [
    "Ones = np.ones((len(data_train), 1))\n",
    "X_train = np.concatenate((Ones, data_train[:, numeric_features].astype('float')), axis = 1)\n",
    "Y_train = data_train[:, 9].astype('float')\n",
    "Ones = np.ones((len(data_test), 1))\n",
    "X_test = np.concatenate((Ones, data_test[:, numeric_features].astype('float')), axis = 1)\n",
    "Y_test = data_test[:, 9].astype('float')\n",
    "coef = np.dot(np.dot(np.linalg.inv(np.dot(X_train.T, X_train)), X_train.T), Y_train)\n",
    "new_price = np.dot(X_test, coef)\n",
    "error = np.sum((new_price - Y_test)**2) / len(Y_test)\n",
    "print('free: ', coef[0])\n",
    "print('carat: ', coef[1])\n",
    "print('depth: ', coef[2]) \n",
    "print('table: ', coef[3]) \n",
    "print('x: ', coef[4]) \n",
    "print('y: ', coef[5]) \n",
    "print('z: ', coef[6])\n",
    "print('error: ', error)"
   ]
  },
  {
   "cell_type": "markdown",
   "metadata": {
    "id": "Se87BnStIAOK"
   },
   "source": [
    "Интерпретация модели здесь: Как можно видеть из расчетов, самой ценной характеристикой является вес в каратах, что в общем логично. Но большая ширина вершины алмаза, большая длина и коэффициент глубины, как оказалось, понижают его цену. Возможно, конечно, такие алмазы хуже поддаются огранке, или что-то подобное, но вообще модель не очень правдоподобно выглядит, она не точная."
   ]
  },
  {
   "cell_type": "markdown",
   "metadata": {
    "id": "6uGLZR-0TxaP"
   },
   "source": [
    "Если вы всё сделали правильно, у вас должны были получиться довольно большие по абсолютной величине коэффициенты."
   ]
  },
  {
   "cell_type": "markdown",
   "metadata": {
    "id": "58iMlV0TUHHz"
   },
   "source": [
    "**2. [0,15 баллов]** Попробуйте объяснить, почему ситуация, когда модель имеет большие по модулю коэффиценты, нежелательна?\n",
    "\n",
    "Подсказка: Вы можете попытаться проиллюстрировать свои рассуждения, искусственно описав с помощью исследуемых признаков два алмаза, которые по вашему мнению должны иметь одинаковую цену, и проверить, выдаст ли построенная модель близкие предсказания на этих объектах."
   ]
  },
  {
   "cell_type": "markdown",
   "metadata": {
    "id": "a3oKgoUjWiem"
   },
   "source": [
    "Из-за больших коэффициентов значение функции от бриллиантов с близкими характеристиками будет сильно отличаться, поскольку эта небольшая разница увеличится во много раз.\n",
    "\n",
    "Например алмазы c наборами характеристик: $\\{0.23, 61.5, 55, 3.95, 3,98, 2.43\\}$ и $\\{0.24, 62.3, 57, 3.95, 3,98, 2.47\\}$ Практически не отличаются, и должны иметь примерно одинаковую цену, но модель выдает для первого цену около 400, а для второго 140. Для более дорогих алмазов эта разница менее заметна, но для недорогих разница относительно большая."
   ]
  },
  {
   "cell_type": "markdown",
   "metadata": {
    "id": "ycsEn6t9nwLB"
   },
   "source": [
    "**3. [0.2 баллов]** Нарисуйте гистограмму, характеризующую распределение объясняемой переменной в обучающей выборке. На такой диаграмме по оси `x` должны быть сгруппированные значения объясняемой переменной, а по оси `y` --- количество объектов выборки с таким значением. Столбцов на вашем графике должно быть не менее 50."
   ]
  },
  {
   "cell_type": "code",
   "execution_count": 9,
   "metadata": {
    "colab": {
     "base_uri": "https://localhost:8080/",
     "height": 312
    },
    "id": "itrJbGIl-I9Q",
    "outputId": "67a4b04a-9a1a-4362-a2cc-b6d100b29326"
   },
   "outputs": [
    {
     "data": {
      "text/plain": [
       "<matplotlib.legend.Legend at 0x7ff726112310>"
      ]
     },
     "execution_count": 9,
     "metadata": {},
     "output_type": "execute_result"
    },
    {
     "data": {
      "image/png": "[encoded data removed]",
      "text/plain": [
       "<Figure size 432x288 with 1 Axes>"
      ]
     },
     "metadata": {
      "needs_background": "light"
     },
     "output_type": "display_data"
    }
   ],
   "source": [
    "plt.hist(data[:,9].astype('int'), bins=50, color='blue', label='Распределение по цене')\n",
    "plt.title('Распределение по цене')\n",
    "plt.ylabel('Количество алмазов данной цены')\n",
    "plt.xlabel('Цена')\n",
    "plt.legend()"
   ]
  },
  {
   "cell_type": "markdown",
   "metadata": {
    "id": "SEvOIN0DQyhZ"
   },
   "source": [
    "В левой части гистограммы располагаются небольшие значения целевой переменной, и объектов с таким значением в выборке довольно много (не забываем, что у нас тут не абстрактная математика в вакууме, мы тут цену алмазов предсказываем!); с увеличением значения таргета (целевой переменной) количество соответствующих объектов в выборке убывает. Сначала число объектов убывает довольно стремительно, но с некоторого момента разница в высоте между соседними столбцами уже почти незаметна. Такое явление называется \"распределение с тяжёлым хвостом\", и оно не очень желательно при построении модели."
   ]
  },
  {
   "cell_type": "markdown",
   "metadata": {
    "id": "PO37Qg7BTyqw"
   },
   "source": [
    "Попробуем избавиться от тяжёлого хвоста. Для этого нужно применить к таргету какую-нибудь медленнорастущую биективную функцию, например логарифм. \n",
    "\n",
    "<!-- Однако вспомним, что мы намеренно отмасштабировали таргет таким образом, чтобы среди его значений был 0, поэтому нужно придумать ещё какое-то преобразование, чтобы все значения целевой переменной попали в область определения логарифма. -->"
   ]
  },
  {
   "cell_type": "markdown",
   "metadata": {
    "id": "nXb63LraZaCL"
   },
   "source": [
    "**4. [0,25 баллов]** Прологарифмируйте целевую переменную и нарисуйте график распределения логарифмированного таргета. Сильно ли он отличается от предыдущего графика? Попробуйте объяснить, почему явление \"распределения с тяжёлым хвостом\" нежелательно при построении модели."
   ]
  },
  {
   "cell_type": "code",
   "execution_count": null,
   "metadata": {
    "colab": {
     "base_uri": "https://localhost:8080/",
     "height": 312
    },
    "id": "AdgFVEebZwPT",
    "outputId": "789ff72e-d28a-4946-8cad-abe742ef6d51"
   },
   "outputs": [
    {
     "data": {
      "text/plain": [
       "<matplotlib.legend.Legend at 0x7f8855e4f390>"
      ]
     },
     "execution_count": 55,
     "metadata": {},
     "output_type": "execute_result"
    },
    {
     "data": {
      "image/png": "[encoded data removed]",
      "text/plain": [
       "<Figure size 432x288 with 1 Axes>"
      ]
     },
     "metadata": {
      "needs_background": "light"
     },
     "output_type": "display_data"
    }
   ],
   "source": [
    "plt.hist(np.log10(data[:,9].astype('int')), bins=50, color='blue', label='Распределение по цене')\n",
    "plt.title('Распределение по цене')\n",
    "plt.ylabel('Количество алмазов данной цены')\n",
    "plt.xlabel('Цена')\n",
    "plt.legend()"
   ]
  },
  {
   "cell_type": "markdown",
   "metadata": {
    "id": "jrlDuorpEiU8"
   },
   "source": [
    "Проблема в том, что модель может пренебречь редкими, но крупными событиями, и из-за ограниченной точности посчитать их вероятность близкой к нулю. То есть если модель предсказывает, например, сейсмическую активность, то она может пренебречь сильнейшими землетрясениями, которые случаются редко, однако все же случаются. А прогноз таких событий как раз наиболее важен, так как они наиболее опасны."
   ]
  },
  {
   "cell_type": "markdown",
   "metadata": {
    "id": "Ty0T3kk5EiZ-"
   },
   "source": [
    "Снова обучите линейную модель, считая целевой переменной логарифмированный таргет. Помните, что чтобы протестировать полученную линейную модель, важно взять экспоненту от полученных предсказаний."
   ]
  },
  {
   "cell_type": "code",
   "execution_count": 10,
   "metadata": {
    "colab": {
     "base_uri": "https://localhost:8080/"
    },
    "id": "NbWAprptKEt0",
    "outputId": "c333f99a-d11e-4aa7-8e18-fa6e34a5113f"
   },
   "outputs": [
    {
     "name": "stdout",
     "output_type": "stream",
     "text": [
      "error:  2366095.373541333\n"
     ]
    }
   ],
   "source": [
    "Ones = np.ones((len(data_train), 1))\n",
    "X_train = np.concatenate((Ones, data_train[:, numeric_features].astype('float')), axis = 1)\n",
    "Y_train = data_train[:, 9].astype('float')\n",
    "Ones = np.ones((len(data_test), 1))\n",
    "X_test = np.concatenate((Ones, data_test[:, numeric_features].astype('float')), axis = 1)\n",
    "Y_test = data_test[:, 9].astype('float')\n",
    "new_price = np.dot(X_test, np.dot(np.dot(np.linalg.inv(np.dot(X_train.T, X_train)), X_train.T), np.log(Y_train)))\n",
    "error = np.sum((np.exp(new_price) - Y_test)**2) / len(data_test)\n",
    "print('error: ', error)"
   ]
  },
  {
   "cell_type": "markdown",
   "metadata": {
    "id": "NTSiJAeYE4EM"
   },
   "source": [
    "Удалось ли добиться лучшего качества?"
   ]
  },
  {
   "cell_type": "markdown",
   "metadata": {
    "id": "zugn9a3fE8nb"
   },
   "source": [
    "Чет не удалось("
   ]
  },
  {
   "cell_type": "markdown",
   "metadata": {
    "id": "NHn1U5xJaPVH"
   },
   "source": [
    "### Работаем с категориальными признаками"
   ]
  },
  {
   "cell_type": "markdown",
   "metadata": {
    "id": "_CLrKbkJdK2b"
   },
   "source": [
    "До сих пор мы работали с данными, которые представляются числами. Однако часто в датасетах объекты описываются не только признаками, содержащими числа, но и строковыми признаками, определяющими принадлежность объекта к некоторой категории. Такие признаки называются категориальными. Важно не выкидывать их из модели, потому что часто они содержат довольно полезную информацию об объекте, которую хорошая модель должна обязательно учитывать.\n",
    "\n",
    "В этом разделе мы будем рассматривать только категориальные признаки, временно забыв про числовые.\n",
    "\n",
    "Естесственно, нам нужно придумать, как закодировать категориальные признаки числами. Есть довольно много подходов к такой кодировке, но мы рассмотрим два самых базовых. Первая мысль, которая приходит в голову такая: давайте занумеруем все категории фиксированного признака, и заменим их строковое представление соответствующим численным."
   ]
  },
  {
   "cell_type": "markdown",
   "metadata": {
    "collapsed": true,
    "id": "Zh1vygTdAn7u"
   },
   "source": [
    "**5. [0,3 баллов]** Реализуйте описанную выше процедуру кодирования для всех категориальных признаков в выборке. Вы можете сделать это самостоятельно, а можете разобраться в классе `OrdinalEncoder` библиотеки `sklearn`. Обучите линейную модель на закодированных категориальных признаках и протестируйте. "
   ]
  },
  {
   "cell_type": "code",
   "execution_count": 11,
   "metadata": {
    "colab": {
     "base_uri": "https://localhost:8080/"
    },
    "id": "FETTkQQGo_-P",
    "outputId": "fe50a239-dec2-4b50-dd33-d284f5dd3b6a"
   },
   "outputs": [
    {
     "name": "stdout",
     "output_type": "stream",
     "text": [
      "14657766.66364475\n"
     ]
    }
   ],
   "source": [
    "cut = {'Fair' : 1, 'Good' : 2, 'Very Good' : 3, 'Premium' : 4, 'Ideal' : 5}\n",
    "color = {'J' : 1, 'I' : 2, 'H' : 3, 'G' : 4, 'F' : 5, 'E' : 6, 'D' : 7}\n",
    "clarity = {'I1' : 1, 'SI2' : 2, 'SI1' : 3, 'VS2' : 4, 'VS1' : 5, 'VVS2' : 6, 'VVS1' : 7, 'IF' : 8}\n",
    "data_train_categorical = data_train[:, categorical_features]\n",
    "data_test_categorical = data_test[:, categorical_features]\n",
    "for i in range(len(data_train)):\n",
    "  data_train_categorical[i][0] = cut[data_train[i][1]]\n",
    "  data_train_categorical[i][1] = color[data_train[i][2]]\n",
    "  data_train_categorical[i][2] = clarity[data_train[i][3]]\n",
    "for i in range(len(data_test)):\n",
    "  data_test_categorical[i][0] = cut[data_test[i][1]]\n",
    "  data_test_categorical[i][1] = color[data_test[i][2]]\n",
    "  data_test_categorical[i][2] = clarity[data_test[i][3]]\n",
    "Ones = np.ones((len(data_train), 1))\n",
    "X_train = np.concatenate((Ones, data_train_categorical.astype('int')), axis = 1)\n",
    "Y_train = data_train[:, 9].astype('float')\n",
    "Ones = np.ones((len(data_test), 1))\n",
    "X_test = np.concatenate((Ones, data_test_categorical.astype('int')), axis = 1)\n",
    "Y_test = data_test[:, 9].astype('float')\n",
    "coef = np.dot(np.dot(np.linalg.inv(np.dot(X_train.T, X_train)), X_train.T), Y_train)\n",
    "new_price = np.dot(X_test, coef)\n",
    "error = np.sum((new_price - Y_test)**2) / len(data_test)\n",
    "print(error)"
   ]
  },
  {
   "cell_type": "markdown",
   "metadata": {
    "id": "9O9CmAifpAJK"
   },
   "source": [
    "Подумайте, в чём потенциальные проблемы такого кодирования? (Подсказка: пусть изначально мы закодировали категорию A числом 1, а категорию B числом 2, а потом решили сделать наоборот: A <-> 2, B <-> 1. Подумайте, может ли измениться качество модели? А должно ли?)"
   ]
  },
  {
   "cell_type": "markdown",
   "metadata": {
    "id": "ZBkiDk5qqtSk"
   },
   "source": [
    "У нас линейная модель, и если мы так поменяем значения характеристик, то они будут идти не по порядку. То есть мы изначально нумеровали категории по возрастанию, более хорошим присваивали большие номера. А если мы где-то в этой монотонной последовательности поменяем местами два значения, то это уже не будет описываться линейной моделью, и ее качество упадет.\n"
   ]
  },
  {
   "cell_type": "markdown",
   "metadata": {
    "id": "3NY2scS1rAuU"
   },
   "source": [
    "Теперь давайте попробуем исправить недочёты такого способа кодирования категориальных признаков, придумав другой метод. Пусть некоторый признак имеет 4 различные категории: {A, B, C, D}. Заменим этот признак на 4 бинарных признака. Каждый из новых признаков будет являться индикатором одной из этих четырёх категорий: если некоторый объект имел категорию A, то после нашего кодирования значение признака, соответствующего категории А у этого объекта будет равно $1$, а значения оставшихся трёх признаков будут $0$. Небольшая иллюстрация: пусть так выглядела выборка до кодирования\n",
    "\n",
    "| Объект | Признак |\n",
    "| :----------:|:-:|\n",
    "| X | \"B\" |\n",
    "| Y | \"D\" |\n",
    "\n",
    "А так будет выглядеть после кодирования:\n",
    "\n",
    "| Объект | Признак == \"A\" | Признак == \"B\" | Признак == \"C\" | Признак == \"D\" |\n",
    "| :----------:|:-:|:-:|:-:|:-:|\n",
    "| X | 0 | 1 | 0 | 0 |\n",
    "| Y | 0 | 0 | 0 | 1 |\n"
   ]
  },
  {
   "cell_type": "markdown",
   "metadata": {
    "id": "U_VHgVKjtpwr"
   },
   "source": [
    "**6. [0,3 баллов]** Реализуйте описанную выше процедуру кодирования для всех категориальных признаков в выборке. Вы можете сделать это самостоятельно, а можете разобраться в классе `OneHotEncoder` библиотеки `sklearn`. Обучите линейную модель на закодированных категориальных признаках и протестируйте. "
   ]
  },
  {
   "cell_type": "code",
   "execution_count": 12,
   "metadata": {
    "colab": {
     "base_uri": "https://localhost:8080/"
    },
    "id": "2Rrs69UxtyvR",
    "outputId": "7794a1f1-5880-4ea0-9627-91ae88ccafdc"
   },
   "outputs": [
    {
     "name": "stdout",
     "output_type": "stream",
     "text": [
      "1497258289.2299638\n"
     ]
    }
   ],
   "source": [
    "from sklearn.preprocessing import OneHotEncoder\n",
    "data_train_categorical = data_train[:, categorical_features]\n",
    "data_test_categorical = data_test[:, categorical_features]\n",
    "enc = OneHotEncoder()\n",
    "enc.fit(data_train_categorical)\n",
    "data_train_categorical = enc.transform(data_train_categorical).toarray()\n",
    "enc.fit(data_test_categorical)\n",
    "data_test_categorical = enc.transform(data_test_categorical).toarray()\n",
    "Ones = np.ones((len(data_train), 1), 'int')\n",
    "X_train = np.concatenate((Ones, data_train_categorical.astype('int')), axis = 1)\n",
    "Y_train = data_train[:, 9].astype('int')\n",
    "Ones = np.ones((len(data_test), 1), 'int')\n",
    "X_test = np.concatenate((Ones, data_test_categorical.astype('int')), axis = 1)\n",
    "Y_test = data_test[:, 9].astype('int')\n",
    "coef = np.dot(np.dot(np.linalg.inv(np.dot(X_train.T, X_train)), X_train.T), Y_train)\n",
    "new_price = np.dot(X_test, coef)\n",
    "error = np.sum((new_price - Y_test)**2) / len(data_test)\n",
    "print(error)"
   ]
  },
  {
   "cell_type": "markdown",
   "metadata": {
    "id": "rSOmE1iLty7n"
   },
   "source": [
    "Подумайте, в чём потенциальные проблемы такого кодирования? Какие недочёты прошлого метода кодирования исправляет предложенный способ? Какие недочёты есть у этого метода кодирования, которых нет у предыдущего? Который из двух методов выдаёт лучшее качество?"
   ]
  },
  {
   "cell_type": "markdown",
   "metadata": {
    "id": "8grwr0ZBuIgq"
   },
   "source": [
    "Эта модель исправляет проблему предыдущей, теперь порядок не важен, так как мы все умножаем на 1, и нет никаких возрастающих чисел. Однако качество может упасть просто потому что у нас стало в несколько раз больше характеристик, и линейная модель из 20 коэффициентов вместо 3-х подбирается менее точно. Этот метод выдает худшее качество на тестовой выборке."
   ]
  },
  {
   "cell_type": "markdown",
   "metadata": {
    "id": "IBEMSIfuzoGJ"
   },
   "source": [
    "**7. [0,5 баллов]** Обучите линейную модель на всех данных, выполнив все необходимые преобразования. Постарайтесь добиться меньшей ошибки модели, чем во всех предыдущих заданиях."
   ]
  },
  {
   "cell_type": "code",
   "execution_count": 13,
   "metadata": {
    "colab": {
     "base_uri": "https://localhost:8080/"
    },
    "id": "HiXPa1UcQYje",
    "outputId": "0791e482-99a7-4d1e-8547-635184142828"
   },
   "outputs": [
    {
     "name": "stdout",
     "output_type": "stream",
     "text": [
      "921412.931882507\n"
     ]
    }
   ],
   "source": [
    "cut = {'Fair' : 1, 'Good' : 2, 'Very Good' : 3, 'Premium' : 4, 'Ideal' : 5}\n",
    "color = {'J' : 1, 'I' : 2, 'H' : 3, 'G' : 4, 'F' : 5, 'E' : 6, 'D' : 7}\n",
    "clarity = {'I1' : 1, 'SI2' : 2, 'SI1' : 3, 'VS2' : 4, 'VS1' : 5, 'VVS2' : 6, 'VVS1' : 7, 'IF' : 8}\n",
    "data_train_categorical = data_train[:, categorical_features]\n",
    "data_test_categorical = data_test[:, categorical_features]\n",
    "for i in range(len(data_train)):\n",
    "  data_train_categorical[i][0] = cut[data_train[i][1]]\n",
    "  data_train_categorical[i][1] = color[data_train[i][2]]\n",
    "  data_train_categorical[i][2] = clarity[data_train[i][3]]\n",
    "for i in range(len(data_test)):\n",
    "  data_test_categorical[i][0] = cut[data_test[i][1]]\n",
    "  data_test_categorical[i][1] = color[data_test[i][2]]\n",
    "  data_test_categorical[i][2] = clarity[data_test[i][3]]\n",
    "Ones = np.ones((len(data_train), 1))\n",
    "X_train = np.concatenate((Ones, data_train_categorical.astype('float'), data_train[:, numeric_features].astype('float')), axis = 1)\n",
    "Y_train = data_train[:, 9].astype('float')\n",
    "Ones = np.ones((len(data_test), 1))\n",
    "X_test = np.concatenate((Ones, data_test_categorical.astype('float') , data_test[:, numeric_features].astype('float')), axis = 1)\n",
    "Y_test = data_test[:, 9].astype('float')\n",
    "res = np.dot(np.dot(np.linalg.inv(np.dot(X_train.T, X_train)), X_train.T), np.log(Y_train))\n",
    "new_price = np.dot(X_test, res)\n",
    "error = np.sum((np.exp(new_price) - Y_test)**2) / len(data_test)\n",
    "print(error)"
   ]
  },
  {
   "cell_type": "markdown",
   "metadata": {
    "id": "TOt1HIMMg0nu"
   },
   "source": [
    "### Feature engineering"
   ]
  },
  {
   "cell_type": "markdown",
   "metadata": {
    "id": "Ua8Hc_I2NdE8"
   },
   "source": [
    "#### Описание задания.\n",
    "\n",
    "В рамках этого задания вам предстоит улучшить модель и сделать предсказания на выборке из файла`diamonds_test.csv`, ответов к которой мы вам не дадим. Полученные предсказания вам нужно будет сдать в соревнование на сайте [kaggle.com](https://www.kaggle.com/c/hse-lab-linear-regression-21-22/overview). Подробнее о том, как сдавать предсказания, написано в конце раздела. Разумеется, чтобы иметь возможность сдать предсказания, вам нужно быть зарегистрированными на сайте. \n",
    "\n",
    "Оценка за задание рассчитывается исходя из ошибки полученных вами предсказаний и состоит из базовой части и бонусных баллов. Базовая часть оценки определяется следующими пороговыми значениями качества:\n",
    "\n",
    "*   MSE $\\leq 1950000$ ---- 0,25 балла\n",
    "*   MSE $\\leq 1370000$ ---- 0,5 балла\n",
    "*   MSE $\\leq 1280000$ ---- 0,75 балла\n",
    "*   MSE $\\leq 1170000$ ---- 1 балл\n",
    "\n",
    "Если ваша модель выдаёт качество сильно лучше, чем требуется в пороге на 1 балл, то вы можете претендовать на бонусные баллы, приняв участие в полноценном соревновании, смысл которого в том, чтобы получить качество как можно лучше (добиться наименьшей возможной ошибки). \n",
    "\n",
    "Если вы хотите поучаствовать, то просто продолжайте улучшать вашу модель и сдавать предсказания в соревнование. Бонусные баллы будут рассчитываться на основе ошибки полученных вами предсказаний и вашей позиции в лидерборде соревнования. Как именно будет рассчитываться оценка --- мы вам сообщим после завершения соревнования. Точно можем сказать, что наибольшее число баллов за задание получит только один студент --- тот, кто будет находиться на первой позиции в лидерборде на момент дедлайна. Человек на следующем месте уже получит немного меньше, следующий --- ещё меньше, и так далее. Каждый студент, качество предсказаний которого хоть немного лучше нашего порога на 1 балл, обязательно получит бонусные баллы.\n",
    "\n",
    "Чтобы подтвердить своё участие в соревновании, вам нужно будет сдать вашу модель вместе с лабораторной (лучше в отдельном файле, но можно её и прямо здесь написать).\n",
    "\n",
    "**Максимум бонусных баллов за задание: 3**"
   ]
  },
  {
   "cell_type": "code",
   "execution_count": 128,
   "metadata": {
    "colab": {
     "base_uri": "https://localhost:8080/"
    },
    "id": "We68_tSE4xjg",
    "outputId": "11552787-7c90-4085-e0a4-d896611156d8"
   },
   "outputs": [
    {
     "name": "stdout",
     "output_type": "stream",
     "text": [
      "170760858.47769648\n",
      "[ 5813.79193446  5810.62098199  5877.51655195 ... 11974.59937752\n",
      "   776.32402671  2896.88176804]\n"
     ]
    }
   ],
   "source": [
    "from sklearn.model_selection import train_test_split\n",
    "data_train, data_test = train_test_split(data, test_size=0.3, random_state=18)\n",
    "competition = np.loadtxt(\"diamonds_test.csv\", delimiter=\",\", dtype=\"str\")[1:, :]\n",
    "\n",
    "from itertools import combinations_with_replacement\n",
    "\n",
    "def add_polynomial_features(features, degree):\n",
    "  res = np.array([])\n",
    "  count = 0\n",
    "  for arr in combinations_with_replacement(features, degree):\n",
    "    t = np.prod(np.array([i for i in arr]), axis = 0)\n",
    "    if count == 0:\n",
    "      res = np.array([t])\n",
    "      count += 1\n",
    "    else:\n",
    "      res = np.concatenate((res, np.array([t])), axis=0)\n",
    "  return res\n",
    "\n",
    "cut = {'Fair' : 1, 'Good' : 2, 'Very Good' : 3, 'Premium' : 4, 'Ideal' : 5}\n",
    "color = {'J' : 1, 'I' : 2, 'H' : 3, 'G' : 4, 'F' : 5, 'E' : 6, 'D' : 7}\n",
    "clarity = {'I1' : 1, 'SI2' : 2, 'SI1' : 3, 'VS2' : 4, 'VS1' : 5, 'VVS2' : 6, 'VVS1' : 7, 'IF' : 8}\n",
    "not_useless = [0, 4, 6, 7, 8]\n",
    "\n",
    "def construct(data):\n",
    "  polinomial1 = add_polynomial_features(data[:, [0, 6, 7, 8]].astype('float').T, 3).T\n",
    "  polinomial2 = add_polynomial_features(data[:, [0, 4]].astype(np.float64).T, 4).T\n",
    "  exponential = np.exp(data[:, [0, 6, 7, 8]].astype('float'))\n",
    "  categorical = data[:, categorical_features]\n",
    "  for i in range(len(data)):\n",
    "    categorical[i][0] = cut[data[i][1]]\n",
    "    categorical[i][1] = color[data[i][2]]\n",
    "    categorical[i][2] = clarity[data[i][3]]\n",
    "  Ones = np.ones((len(data), 1))\n",
    "  X = np.concatenate((Ones, categorical.astype('float'), data[:, not_useless].astype('float'), polinomial1, polinomial2), axis = 1)\n",
    "  return X\n",
    "\n",
    "\n",
    "X_train = construct(data_train)\n",
    "X_test = construct(data_test)\n",
    "Y_train = data_train[:, 9].astype('float')\n",
    "Y_test = data_test[:, 9].astype('float')\n",
    "res = np.dot(np.dot(np.linalg.inv(np.dot(X_train.T, X_train)), X_train.T), np.log(Y_train))\n",
    "new_price = np.dot(X_test, res)\n",
    "error = np.sum((np.exp(new_price) - Y_test)**2) / len(data_test)\n",
    "print(error)\n",
    "\n",
    "\n",
    "X = construct(competition)\n",
    "\n",
    "submission = np.exp(np.dot(X, res))\n",
    "print(submission)\n"
   ]
  },
  {
   "cell_type": "markdown",
   "metadata": {
    "id": "esBQkVIY25zH"
   },
   "source": [
    "\n",
    "\n",
    "---\n",
    "\n"
   ]
  },
  {
   "cell_type": "markdown",
   "metadata": {
    "id": "ujFRVw0_focC"
   },
   "source": [
    "В оставшейся части данного раздела приводятся несколько заданий, за выполнение котороых вы не получите баллов. Эти задания даны специально, чтобы вы посмотрели, какие есть идеи для дальнейшего улучшения модели.  Разумеется, мы не требуем от вас, чтобы ваша финальная модель следовала указаниям из этих заданий --- вы можете вообще не выполнять ни одного задания отсюда, оцениваться будут только сданные вами предсказания.\n",
    "\n",
    "\n",
    "\n"
   ]
  },
  {
   "cell_type": "markdown",
   "metadata": {
    "id": "Qa714bBHg8_B"
   },
   "source": [
    "До сих пор мы только исследовали вопрос, как подготовить признаки из датасета, чтобы модель могла на их основе делать какие-то предсказания. При этом до сих пор мы никак не учитывали специфичность задачи: действительно, до этого момента нас интересовало только то, является ли признак числовым или категориальным, мы никак не учитывали физический смысл признаков. Однако часто датасеты предоставляют лишь самую общую информацию об объектах: признаки, которые легко измерить и запомнить. В таком случае при анализе данных нужно выдумывать собственные признаки, которые некоторым образом зависят от уже представленных в датасете признаков и **ни в коем случае не зависят от объясняемой переменной**.\n",
    "\n",
    "В общем случае процесс придумывания новых признаков довольно творческий. Есть, конечно, некоторые более-менее общие подходы, позволяющие улучшить качество модели путём добавления новых признаков, но часто аналитики придумывают признаки, основываясь не только на известных эвристиках, но и на собственном представлении о жизни.\n",
    "\n",
    "Давайте теперь поисследуем наши данные и подумаем, какие признаки можно добавить, чтобы улучшить модель."
   ]
  },
  {
   "cell_type": "markdown",
   "metadata": {
    "id": "bPhiy1IhiLow"
   },
   "source": [
    "**8.** Нарисуйте графики, отображающие зависимость цены алмаза от веса, длины, ширины и глубины (всего должно получиться 4 графика). Проинтерпретируйте наблюдаемую на них зависимость. Согласуется ли она с вашими представлениями о жизни?\n",
    "\n",
    "*Примечание: для изображения зависимости одной величины от другой лучше всего подходит график типа scatter.*"
   ]
  },
  {
   "cell_type": "code",
   "execution_count": null,
   "metadata": {
    "id": "nQzcpqqNkGYq"
   },
   "outputs": [],
   "source": [
    "# ╰( ͡° ͜ʖ ͡° )つ──☆*:・ﾟ"
   ]
  },
  {
   "cell_type": "markdown",
   "metadata": {
    "id": "jd6J9SQlkGwZ"
   },
   "source": [
    "Подумайте, какую функцию можно применить к признакам, чтобы зависимость целевой переменной от них больше напоминала линейную?"
   ]
  },
  {
   "cell_type": "markdown",
   "metadata": {
    "id": "hU63JZex0h_P"
   },
   "source": [
    "Ваше обоснование здесь: ╰( ͡° ͜ʖ ͡° )つ──☆*:・ﾟ"
   ]
  },
  {
   "cell_type": "markdown",
   "metadata": {
    "id": "1L7iSqah0mYd"
   },
   "source": [
    "**9.** На одном рисунке изобразите график зависимости целевой переменной от признака depth и график зависимости целевой переменной от признака table. Чтобы картинка получилась читаемой, сделайте графики полупрозрачными (параметр `alpha`). Что вы можете сказать о получившемся рисунке? Правда ли, что модели будет достаточно оставить только один из этих признаков? Убедитесь в этом, нарисовав аналогичные графики зависимости признаков depth и table от других числовых признаков.\n",
    "\n",
    "*Примечание: почитайте про plt.subplots, чтобы узнать, как красиво рисовать несколько графиков.*"
   ]
  },
  {
   "cell_type": "code",
   "execution_count": null,
   "metadata": {
    "id": "UqTp9xWY28Av"
   },
   "outputs": [],
   "source": [
    "# ╰( ͡° ͜ʖ ͡° )つ──☆*:・ﾟ"
   ]
  },
  {
   "cell_type": "markdown",
   "metadata": {
    "id": "6kZjZ2Ww3YF0"
   },
   "source": [
    "Казалось бы, мы тут пытаемся придумать новые признаки, чтобы улучшить модель, зачем нам выбрасывать уже имеющиеся признаки? Дело в том, что если в выборке есть \"похожие\" в некотором смысле признаки, то модель, обученная на таких данных, может выдавать худший результат, чем если бы похожих признаков в выборке не было. Продемонстрируем это явление на практике."
   ]
  },
  {
   "cell_type": "markdown",
   "metadata": {
    "id": "5x3TzT7V4gDP"
   },
   "source": [
    "**10.** Обучите линейную модель, предсказывающую цену алмазов на признаках x, y, z из наших данных. Замерьте качество полученной линейной модели на тестовой выборке, после чего добавьте признак $\\tau = \\frac{x}{2} + 4y - z + 1$, и снова обучите линейную модель. Которая из моделей добилась лучшего качества?"
   ]
  },
  {
   "cell_type": "code",
   "execution_count": null,
   "metadata": {
    "id": "ktbNFzsz5gt9"
   },
   "outputs": [],
   "source": [
    "# ╰( ͡° ͜ʖ ͡° )つ──☆*:・ﾟ"
   ]
  },
  {
   "cell_type": "markdown",
   "metadata": {
    "id": "RbZ4u40h_MyO"
   },
   "source": [
    "Объясните, почему наличие похожих признаков в выборке заметно ухудшает качество, выдаваемое линейной моделью?"
   ]
  },
  {
   "cell_type": "markdown",
   "metadata": {
    "id": "gEINdpQy_XcA"
   },
   "source": [
    "Ваше обоснование здесь: ╰( ͡° ͜ʖ ͡° )つ──☆*:・ﾟ"
   ]
  },
  {
   "cell_type": "markdown",
   "metadata": {
    "id": "argZX3YMCb6e"
   },
   "source": [
    "Итак, мы обсудили, исходя из каких соображений можно выбирать преобразования над имеющимися признаками и когда для модели может быть полезнее выкинуть некоторый признак из выборки, чем оставить его. Теперь давайте придумаем совсем новый признак. Для этого снова посмотрим на такие характеристики алмазов, как длина, ширина и глубина. Эти характеристики несомненно важны для предсказания цены алмазов, и все построенные нами модели находили какую-то закономерность, но теперь давайте мы попробуем их объединить в новом признаке `объём`. Для начала будем считать, что объём алмаза неплохо приближается объёмом параллелепипеда с такими же измерениями."
   ]
  },
  {
   "cell_type": "markdown",
   "metadata": {
    "id": "DtlMCLwEDhhG"
   },
   "source": [
    "**11.** Обучите линейную модель на 4 признаках: x, y, z, и объём параллелепипеда со сторонами (x, y, z). Сравните качество полученной модели с качеством, выдаваемым моделью, обученной на признаках x, y, z."
   ]
  },
  {
   "cell_type": "code",
   "execution_count": null,
   "metadata": {
    "id": "5fgSn6IZELmT"
   },
   "outputs": [],
   "source": [
    "# ╰( ͡° ͜ʖ ͡° )つ──☆*:・ﾟ"
   ]
  },
  {
   "cell_type": "markdown",
   "metadata": {
    "id": "6XuJr72iGBSy"
   },
   "source": [
    "Понятно, что алмазы редко выглядят как идеальные параллелепипеды (хотя, конечно, многое зависит от огранки), и чаще встречаются алмазы, форма которых скорее напоминает эллипсоид. Снова обучите линейную модель на 4 признаках: x, y, z и объём эллипсоида с осями (x, y, z). Сравните полученную модель с предыдущей. Сильно ли отличается качество у этих моделей? Объясните, почему так получилось?"
   ]
  },
  {
   "cell_type": "code",
   "execution_count": null,
   "metadata": {
    "id": "5ZzmZmNhIKDo"
   },
   "outputs": [],
   "source": [
    "# ╰( ͡° ͜ʖ ͡° )つ──☆*:・ﾟ"
   ]
  },
  {
   "cell_type": "markdown",
   "metadata": {
    "id": "c7r5Je0uI6pj"
   },
   "source": [
    "Если вам стало интересно, можете попробовать обучить модель, аппроксимируя объём алмаза объёмом тетраэдра. Впрочем, если вы ответили на предыдущий вопрос, вы уже наверняка представляете, что получится. В любом случае мы не настаиваем =)\n",
    "\n",
    "Следующий трюк, который мы обсудим, --- это бинаризация признаков. Суть заключается в том, что мы берём некоторый признак из выборки и делаем из него несколько бинарных признаков (т.е. таких признаков, значения которых могут быть либо $0$, либо $1$). Частный случай бинаризации признаков мы уже разбирали, когда занимались кодированием категориальных признаков: тогда мы брали признак $P$, описывающий принадлежность объекта к одной из $N$ категорий ${A_1, \\ldots, A_N}$, и делали из него $N$ признаков вида $[P = A_1], [P = A_2], \\ldots [P = A_N]$.\n",
    "\n",
    "Однако это не единственный способ бинаризовать признаки. Допустим $P$ --- числовой признак, тогда мы, например, можем выбрать $k$ порогов ${t_1, \\ldots, t_k}$ и превратить признак $P$ в $k$ бинарных признаков $[P \\leq t_1], [t_1 < P \\leq t_2], \\ldots, [t_{k-1} < P \\leq t_k]$.\n",
    "\n",
    "Если же у нас есть два признака $P$ и $F$, мы можем применять булевы операции к их бинаризациям, например $[P < t_1 \\vee F > h_1], [t_2 < P \\leq t_3 \\wedge h_2 \\leq F \\leq h_3], [(P = t_4 \\vee F = h_4) \\wedge P \\leq t_5]$, и т.д.\n",
    "\n",
    "Давайте с помощью бинаризации выделим объекты, цена которых скорее всего будет высокой, и объекты, цена которых скорее всего будет низкой. Делать мы это будем на основе категориальных признаков (закодированных любым способом, однако если вы предпочитаете кодирование бинаризацией, т.е. второй способ, то при выполнении задания не забывайте, что признаки должны быть линейно независимы). Чтобы вы понимали, как именно категориальные признаки характеризуют алмазы, мы приложили вам картинку `categorical_descriptions`.\n",
    "\n",
    "![](https://lh3.google.com/u/0/d/1xzqbnwyOazKNiiJxNo_AUh7iUsTONC-0=w1920-h1090-iv1)"
   ]
  },
  {
   "cell_type": "markdown",
   "metadata": {
    "id": "ADOr1ZH6Y1OQ"
   },
   "source": [
    "**12.** Обучите линейную модель, предсказывающую цену алмазов на категориальных признаках из наших данных. Замерьте качество полученной линейной модели на тестовой выборке, после чего добавьте признаки, которые явно выделят алмазы, цена на которые скорее всего будет высокой, и алмазы, цена которых скорее всего будет низкой, и снова обучите линейную модель. Вы можете также добавить и свои признаки и использовать не только категориальные признаки (например, если вам захочется добавить признак \"у алмаза лучшая чистота И алмаз совершенно бесцветный И объём алмаза не меньше $t$\"). Удалось ли добиться прироста в качестве?"
   ]
  },
  {
   "cell_type": "code",
   "execution_count": null,
   "metadata": {
    "id": "7sxhbqDPZyfH"
   },
   "outputs": [],
   "source": [
    "# ╰( ͡° ͜ʖ ͡° )つ──☆*:・ﾟ"
   ]
  },
  {
   "cell_type": "markdown",
   "metadata": {
    "id": "AbIbDwNci6Mf"
   },
   "source": [
    "#### Как сдавать предсказания?\n",
    "\n",
    "Передайте в написанную нами функцию `make_submission` ваши предсказания. Когда функция отработает, у вас в рабочей директории появится файл `submission.csv`, который вам и нужно сдать в соревнование."
   ]
  },
  {
   "cell_type": "code",
   "execution_count": 126,
   "metadata": {
    "id": "m4gv1RKjjtxA"
   },
   "outputs": [],
   "source": [
    "def make_submission(y_pred):\n",
    "  file = np.arange(1, len(y_pred) + 1)\n",
    "  file = file.reshape(-1, 1)\n",
    "  file = np.concatenate([file, y_pred.reshape(-1, 1).astype(float)], axis=1)\n",
    "  with open(\"submission.csv\", \"w\") as f:\n",
    "    f.write(\"id,price\\n\")\n",
    "    np.savetxt(f, file, delimiter=\",\", fmt=\"%d,%10.5f\")\n",
    "\n",
    "make_submission(submission)"
   ]
  },
  {
   "cell_type": "markdown",
   "metadata": {
    "id": "4aHgP-6qfl0D"
   },
   "source": [
    "### Задание 3. Регуляризация (3.9 баллов)\n",
    "\n"
   ]
  },
  {
   "cell_type": "markdown",
   "metadata": {
    "id": "6RcCzJLjm8a6"
   },
   "source": [
    "Конечно, никто не гарантирует, что объясняемая переменная зависит от остальных характеристик именно линейно, поэтому мы можем неслабо улучшить модель, добавляя в неё нелинейные признаки на основе уже имеющихся. Один из наиболее распространённых подходов заключается в добавлении в выборку полиномиальных признаков некоторой фиксированной степени на основе уже имеющихся. Т.е., скажем, у нас есть признаки {P, F, G} и наша задача состоит в том, чтобы добавить в выборку полиномиальные признаки степени $2$ на основе имеющихся. Тогда мы добавим в выборку признаки\n",
    "\n",
    "$$\n",
    "P^2, F^2, G^2, PF, PG, FG.\n",
    "$$\n",
    "\n",
    "Аналогично для большего числа признаков и больших степеней.\n",
    "\n",
    "**1. [0,4 баллов]** Реализуйте функцию `add_polynomial_features`, принимающую массив признаков, и степень, и возвращающую полиномиальные признаки заданной степени."
   ]
  },
  {
   "cell_type": "code",
   "execution_count": 15,
   "metadata": {
    "id": "_lnytPeGnEFP"
   },
   "outputs": [],
   "source": [
    "from itertools import combinations_with_replacement\n",
    "\n",
    "def add_polynomial_features(features, degree):\n",
    "  res = np.array([])\n",
    "  count = 0\n",
    "  for arr in combinations_with_replacement(features, degree):\n",
    "    t = np.prod(np.array([i for i in arr]), axis = 0)\n",
    "    if count == 0:\n",
    "      res = np.array([t])\n",
    "      count += 1\n",
    "    else:\n",
    "      res = np.concatenate((res, np.array([t])), axis=0)\n",
    "  return res\n",
    "\n",
    "# Пример: получаем полиномиальные признаки степени 2 на основе признаков x, y, z:\n",
    "poly_features = add_polynomial_features(data[:, [6, 7, 8]].astype(np.float64).T, 2)\n",
    "assert poly_features.shape[0] == 6 "
   ]
  },
  {
   "cell_type": "markdown",
   "metadata": {
    "id": "TqwGy6HEnX6W"
   },
   "source": [
    "Обучите линейную модель, добавив в выборку полиномиальные признаки степени $2$ от признаков carat и table. Сравните качество полученной модели с качеством модели из пункта 7 предыдущего задания."
   ]
  },
  {
   "cell_type": "code",
   "execution_count": 16,
   "metadata": {
    "colab": {
     "base_uri": "https://localhost:8080/"
    },
    "id": "MPI707WOn1op",
    "outputId": "ba560b3c-0da0-4e42-8d4b-92cc0071a322"
   },
   "outputs": [
    {
     "name": "stdout",
     "output_type": "stream",
     "text": [
      "753275.8211990746\n"
     ]
    }
   ],
   "source": [
    "data_train_polinomial = add_polynomial_features(data_train[:, [0, 4]].astype(np.float64).T, 2).T\n",
    "data_test_polinomial = add_polynomial_features(data_test[:, [0, 4]].astype(np.float64).T, 2).T\n",
    "cut = {'Fair' : 1, 'Good' : 2, 'Very Good' : 3, 'Premium' : 4, 'Ideal' : 5}\n",
    "color = {'J' : 1, 'I' : 2, 'H' : 3, 'G' : 4, 'F' : 5, 'E' : 6, 'D' : 7}\n",
    "clarity = {'I1' : 1, 'SI2' : 2, 'SI1' : 3, 'VS2' : 4, 'VS1' : 5, 'VVS2' : 6, 'VVS1' : 7, 'IF' : 8}\n",
    "data_categorical = data[:, categorical_features]\n",
    "for i in range(len(data_categorical)):\n",
    "  data_categorical[i][0] = cut[data[i][1]]\n",
    "  data_categorical[i][1] = color[data[i][2]]\n",
    "  data_categorical[i][2] = clarity[data[i][3]]\n",
    "Ones = np.ones((len(data_train), 1))\n",
    "X_train = np.concatenate((Ones, data_train_categorical.astype('float'), data_train[:, numeric_features].astype('float'), data_train_polinomial), axis = 1)\n",
    "Y_train = data_train[:, 9].astype('float')\n",
    "Ones = np.ones((len(data_test), 1))\n",
    "X_test = np.concatenate((Ones, data_test_categorical.astype('float') , data_test[:, numeric_features].astype('float'), data_test_polinomial), axis = 1)\n",
    "Y_test = data_test[:, 9].astype('float')\n",
    "res = np.dot(np.dot(np.linalg.inv(np.dot(X_train.T, X_train)), X_train.T), np.log(Y_train))\n",
    "new_price_train = np.dot(X_train, res)\n",
    "new_price_test = np.dot(X_test, res)\n",
    "error_train = np.sum((np.exp(new_price_train) - Y_train)**2) / len(data_train)\n",
    "error_test = np.sum((np.exp(new_price_test) - Y_test)**2) / len(data_test)\n",
    "print(error_test)\n",
    "errors_train = [error_train] * 6\n",
    "errors_test = [error_test] * 6"
   ]
  },
  {
   "cell_type": "markdown",
   "metadata": {
    "id": "vPL7vYhD-Tuk"
   },
   "source": [
    "Качество улучшилось, полиномиальные признаки помогли!"
   ]
  },
  {
   "cell_type": "markdown",
   "metadata": {
    "id": "_ihqwU4rvAKw"
   },
   "source": [
    "Итак, мы узнали, что в выборку можно добавлять полиномиальные признаки от уже имеющихся числовых признаков и, как правило, это приводит к существенному приросту качества. Возникает естественный вопрос: почему бы не свести задачу построения линейной модели к подбору степени полиномиальных признаков? Ведь наверняка можно найти такую степень, при которой модель будет выдавать наилучшее возможное качество? Давайте исследуем этот вопрос."
   ]
  },
  {
   "cell_type": "markdown",
   "metadata": {
    "id": "Ug11Yg52v5WU"
   },
   "source": [
    "**2. [0,3 баллов]** В этом задании вам нужно обучить 6 линейных моделей на полиномиальных признаках степеней от 1 до 6 от уже имеющихся признаков (carat, x, y, z). Нарисуйте график зависимости качества модели на обучающей и тестовой выборке от степени полиномиальных признаков в логарифмической шкале. Прокомментируйте полученный график: ожидали ли вы такого эффекта? "
   ]
  },
  {
   "cell_type": "code",
   "execution_count": 124,
   "metadata": {
    "colab": {
     "base_uri": "https://localhost:8080/",
     "height": 399
    },
    "id": "JGvdh2Wmwwh_",
    "outputId": "4244bc06-1da7-4c05-e7f5-202c17de9186"
   },
   "outputs": [
    {
     "name": "stdout",
     "output_type": "stream",
     "text": [
      "2033668.25431855 1960586.8423399418\n",
      "1970984.5990293925 4490244.087272166\n",
      "5202317.287365318 27863460.2294386\n",
      "48973942082.1916 50843030206.129555\n",
      "76808860302.74944 91559629031.95447\n"
     ]
    },
    {
     "data": {
      "text/plain": [
       "<matplotlib.legend.Legend at 0x7ff723ed0d50>"
      ]
     },
     "execution_count": 124,
     "metadata": {},
     "output_type": "execute_result"
    },
    {
     "data": {
      "image/png": "[encoded data removed]",
      "text/plain": [
       "<Figure size 432x288 with 1 Axes>"
      ]
     },
     "metadata": {
      "needs_background": "light"
     },
     "output_type": "display_data"
    }
   ],
   "source": [
    "from sklearn.model_selection import train_test_split\n",
    "data_train, data_test = train_test_split(data, test_size=0.3, random_state=42)\n",
    "def error_poly(n):\n",
    "  data_train_polinomial = add_polynomial_features(data_train[:, [0, 6, 7, 8]].astype('float').T, n).T\n",
    "  data_test_polinomial = add_polynomial_features(data_test[:, [0, 6, 7, 8]].astype('float').T, n).T\n",
    "  Ones = np.ones((len(data_train), 1))\n",
    "  X_train = np.concatenate((Ones, data_train_categorical.astype('float'), data_train[:, numeric_features].astype('float'), data_train_polinomial), axis = 1)\n",
    "  Y_train = data_train[:, 9].astype('float')\n",
    "  Ones = np.ones((len(data_test), 1))\n",
    "  X_test = np.concatenate((Ones, data_test_categorical.astype('float') , data_test[:, numeric_features].astype('float'), data_test_polinomial), axis = 1)\n",
    "  Y_test = data_test[:, 9].astype('float')\n",
    "  res = np.dot(np.dot(np.linalg.inv(np.dot(X_train.T, X_train)), X_train.T), Y_train)\n",
    "  new_price_train = np.dot(X_train, res)\n",
    "  new_price_test = np.dot(X_test, res)\n",
    "  error_train = np.sum((new_price_train - Y_train)**2) / len(data_train)\n",
    "  error_test = np.sum((new_price_test - Y_test)**2) / len(data_test)\n",
    "  return error_train, error_test\n",
    "for i in range(2, 7):\n",
    "  error_train, error_test = error_poly(i)\n",
    "  print(error_train, error_test)\n",
    "  errors_train[i - 1] = error_train\n",
    "  errors_test[i - 1] = error_test\n",
    "pow = [1, 2, 3, 4, 5, 6]\n",
    "plt.plot(pow, np.log10(errors_train), color='red', label='Обучающая выборка')\n",
    "plt.plot(pow, np.log10(errors_test), color='blue', label='Тестовая выборка')\n",
    "plt.title('Зависимость ошибки от степени')\n",
    "plt.ylabel('ошибка')\n",
    "plt.xlabel('степень')\n",
    "plt.legend()"
   ]
  },
  {
   "cell_type": "markdown",
   "metadata": {
    "id": "e6v-T1TX-hmX"
   },
   "source": [
    "Поначалу ошибка на тестовой выборке падала, но потом начала расти вместе с ошибкой на обучающей."
   ]
  },
  {
   "cell_type": "markdown",
   "metadata": {
    "id": "PKtmVN-Dww4h"
   },
   "source": [
    "Наблюдаемый вами эффект называется переобучением: ситуация, когда модель становится слишком зависимой от обучающей выборки. Действительно, в процессе обучения модели мы стараемся минимизировать ошибку именно на обучающей выборке, и совершенно неочевидно, почему обученная модель будет обобщаться на объекты, которых она раньше не видела.\n",
    "\n",
    "Когда мы начали добавлять в выборку полиномиальные признаки большой степени, модель стала настолько сложной, что обрела способность запомнить обучающую выборку вместо того, чтобы извлекать из неё какие-то закономерности. Как следствие, когда мы подали модели на вход выборку, отличную от обучающей, мы получили колоссальную ошибку.\n",
    "\n",
    "Ситуация, когда качество модели на обучающей выборке гораздо ниже качества на тестовой выборке, является самым явным симптомом переобучения, но не единственным. Часто в ситуации переобучения можно наблюдать необычайно большие по модулю коэффициенты модели.\n",
    "\n",
    "Есть много способов борьбы с этим злом. Один из них --- регуляризация. Сейчас мы рассмотрим одну из её разновидностей --- **L2-регуляризацию**. Идея в том, чтобы подправить матрицу $X^TX$, сделав её \"получше\". Например, это можно сделать, заменив её на $(X^TX + \\lambda E)$, где $\\lambda > 0$ --- некоторый скаляр. Пожертвовав точностью на обучающей выборке, мы тем не менее получаем численно более стабильное псевдорешение $a = (X^TX + \\lambda E)^{-1}X^Ty$ и снижаем эффект переобучения. *Гиперпараметр* $\\lambda$ нужно подбирать, и каких-то универсальных способов это делать нет, но зачастую можно его подобрать таким, чтобы ошибка на тестовой выборке падала.\n",
    "\n",
    "Однако есть некоторые правила, которых стоит придерживаться при подборе коэффициента регуляризации. Обычно в такой ситуации всю выборку делят на три части: обучающую, *валидационную* и тестовую. Сначала по валидационной подбирают значение гиперпараметра, потом по обучающей строят модель, а по тестовой оценивают её итоговое качество. Кроме того, подбирать $\\lambda$ нужно по логарифметической сетке, чтобы узнать оптимальный порядок величины."
   ]
  },
  {
   "cell_type": "markdown",
   "metadata": {
    "id": "KRr312xvz-Cx"
   },
   "source": [
    "**3. [0,1 балла]** Подумайте, почему не стоит подбирать коэффициент регуляризации по обучающей выборке? По тестовой выборке?"
   ]
  },
  {
   "cell_type": "markdown",
   "metadata": {
    "id": "PjYAT3i-0GGX"
   },
   "source": [
    "Если мы будем подбирать его по обучающей выборке, то оптимальный коэффициент будет равен нулю, поскольку положительный коэффициент будет ухудшать точность. Подбирая по тестовой выборке, мы подгоняем результат под ответ, что неправильно с точки зрения самой идеи регрессии."
   ]
  },
  {
   "cell_type": "markdown",
   "metadata": {
    "id": "nQlJbhvH0SBD"
   },
   "source": [
    "**4. [0,3 балла]** Рассмотрим линейную можель с полиномиальными признаками степени $4$ от признаков (carat, x, y, z). Качество такой модели на обучающей выборке уже заметно лучше, чем качество на тестовой. Попробуем исправить эту ситуацию, применив $L2$-регуляризацию. Поделите вашу обучающую выборку на две части в соотношении $8:2$. Большую часть вы вновь объявите обучающей выборкой, а меньшую --- валидационной. Подберите гиперпараметр $\\lambda$ по логарифмической сетке таким образом, чтобы линейная модель с \"подправленной\" матрицей Грама $X^TX$ выдавала лучшее качество на валидационной выборке. Обучите линейную модель с подобранным параметром $\\lambda$ на обучающей выборке и протестируйте её на тестовых данных. Сделайте вывод: помогла ли нам регуляризация?\n",
    "\n",
    "*Примечание: np.logspace вам в помощь.*"
   ]
  },
  {
   "cell_type": "code",
   "execution_count": 116,
   "metadata": {
    "colab": {
     "base_uri": "https://localhost:8080/"
    },
    "id": "g5rBhgI93MXd",
    "outputId": "0d361edf-74dc-498a-ce98-f95cd14f6f4d"
   },
   "outputs": [
    {
     "name": "stdout",
     "output_type": "stream",
     "text": [
      "1809945130.1464977 8232869.644537753\n"
     ]
    }
   ],
   "source": [
    "data_train, data_val = train_test_split(data_train, test_size=0.2, random_state=18)\n",
    "\n",
    "def construct(data, n):\n",
    "  polinomial = add_polynomial_features(data[:, [0, 6, 7, 8]].astype(np.float64).T, n).T\n",
    "  categorical = data[:, categorical_features]\n",
    "  for i in range(len(data)):\n",
    "    categorical[i][0] = cut[data[i][1]]\n",
    "    categorical[i][1] = color[data[i][2]]\n",
    "    categorical[i][2] = clarity[data[i][3]]\n",
    "  Ones = np.ones((len(data), 1))\n",
    "  X = np.concatenate((Ones, categorical.astype('float'), data[:, numeric_features].astype('float'), polinomial), axis = 1)\n",
    "  return X\n",
    "\n",
    "def err(data, l):\n",
    "  X = construct(data, 4)\n",
    "  Y = data[:, 9].astype('float')\n",
    "  E = np.eye(X.shape[1])\n",
    "  res = np.dot(np.dot(np.linalg.inv(np.dot(X.T, X) - l * E), X.T), Y)\n",
    "  new_price = np.dot(X, res)\n",
    "  error = np.sum((new_price - Y)**2) / len(X)\n",
    "  return error\n",
    "\n",
    "min_err = 10**20\n",
    "min_lam = 0\n",
    "for l in np.logspace(0, 20):\n",
    "  error = err(data_val, l)\n",
    "  if error < min_err:\n",
    "    min_err = error\n",
    "    min_lam = l\n",
    "\n",
    "X_train = construct(data_train, 4)\n",
    "X_test = construct(data_test, 4)\n",
    "Y_train = data_train[:, 9].astype('float')\n",
    "Y_test = data_test[:, 9].astype('float')\n",
    "E = np.eye(X_train.shape[1])\n",
    "res = np.dot(np.dot(np.linalg.inv(np.dot(X_train.T, X_train) - min_lam * E), X_train.T), Y_train)\n",
    "new_price = np.dot(X_test, res)\n",
    "error = np.sum((new_price - Y_test)**2) / len(data_test)\n",
    "new_price_train = np.dot(X_train, res)\n",
    "new_price_test = np.dot(X_test, res)\n",
    "error_train = np.sum((new_price_train - Y_train)**2) / len(data_train)\n",
    "error_test = np.sum((new_price_test - Y_test)**2) / len(data_test)\n",
    "print(error_test, error_train)\n",
    "errors_train = [error_train] * 6\n",
    "errors_test = [error_test] * 6"
   ]
  },
  {
   "cell_type": "markdown",
   "metadata": {
    "id": "1gaO3Ore_aN_"
   },
   "source": [
    "Регуляризация помогла, MSE на тестовой выборке сильно снизился."
   ]
  },
  {
   "cell_type": "markdown",
   "metadata": {
    "id": "wFeo516Z4ckd"
   },
   "source": [
    "**5. [0,5 балла]** Повторите первое задание, но вместо 6 обычных линейных моделей обучите 6 регуляризованных линейных моделей. Для каждой модели вам нужно будет подобрать свой гиперпараметр $\\lambda$. Сравните полученный график с графиком из первого задания: для всякой ли степени мы смогли улучшить ситуацию? Как выдумаете, почему?"
   ]
  },
  {
   "cell_type": "code",
   "execution_count": 123,
   "metadata": {
    "colab": {
     "base_uri": "https://localhost:8080/",
     "height": 521
    },
    "id": "fKPFiHrN4-xO",
    "outputId": "00c759bc-4f43-4410-f1fd-c33e2df4f76d"
   },
   "outputs": [
    {
     "name": "stdout",
     "output_type": "stream",
     "text": [
      "2033668.25431855 1960586.8423399418\n",
      "1970984.5990293925 4490244.087272166\n",
      "5202317.287365318 27863460.2294386\n",
      "48973942082.1916 50843030206.129555\n",
      "76808860302.74944 91559629031.95447\n",
      "\n",
      "1505192.0005903612 1391051.3660750045\n",
      "107943309.25724268 86221152.55212277\n",
      "1320795.525851746 2184784.7926774747\n",
      "1247475.880893952 1883629.239989118\n",
      "40000704.947626255 68680577.5500418\n",
      "250924709781280.56 253894675944848.8\n"
     ]
    },
    {
     "data": {
      "text/plain": [
       "<matplotlib.legend.Legend at 0x7ff7265d9b90>"
      ]
     },
     "execution_count": 123,
     "metadata": {},
     "output_type": "execute_result"
    },
    {
     "data": {
      "image/png": "[encoded data removed]",
      "text/plain": [
       "<Figure size 432x288 with 1 Axes>"
      ]
     },
     "metadata": {
      "needs_background": "light"
     },
     "output_type": "display_data"
    }
   ],
   "source": [
    "from sklearn.model_selection import train_test_split\n",
    "data_train, data_test = train_test_split(data, test_size=0.3, random_state=42)\n",
    "def error_poly(n):\n",
    "  data_train_polinomial = add_polynomial_features(data_train[:, [0, 6, 7, 8]].astype('float').T, n).T\n",
    "  data_test_polinomial = add_polynomial_features(data_test[:, [0, 6, 7, 8]].astype('float').T, n).T\n",
    "  Ones = np.ones((len(data_train), 1))\n",
    "  X_train = np.concatenate((Ones, data_train_categorical.astype('float'), data_train[:, numeric_features].astype('float'), data_train_polinomial), axis = 1)\n",
    "  Y_train = data_train[:, 9].astype('float')\n",
    "  Ones = np.ones((len(data_test), 1))\n",
    "  X_test = np.concatenate((Ones, data_test_categorical.astype('float') , data_test[:, numeric_features].astype('float'), data_test_polinomial), axis = 1)\n",
    "  Y_test = data_test[:, 9].astype('float')\n",
    "  res = np.dot(np.dot(np.linalg.inv(np.dot(X_train.T, X_train)), X_train.T), Y_train)\n",
    "  new_price_train = np.dot(X_train, res)\n",
    "  new_price_test = np.dot(X_test, res)\n",
    "  error_train = np.sum((new_price_train - Y_train)**2) / len(data_train)\n",
    "  error_test = np.sum((new_price_test - Y_test)**2) / len(data_test)\n",
    "  return error_train, error_test\n",
    "for i in range(2, 7):\n",
    "  error_train, error_test = error_poly(i)\n",
    "  print(error_train, error_test)\n",
    "  errors_train[i - 1] = error_train\n",
    "  errors_test[i - 1] = error_test\n",
    "pow = [1, 2, 3, 4, 5, 6]\n",
    "plt.plot(pow, np.log10(errors_train), color='red', label='Обучающая выборка, без регуляризации')\n",
    "plt.plot(pow, np.log10(errors_test), color='blue', label='Тестовая выборка, без регуляризации')\n",
    "plt.title('Зависимость ошибки от степени')\n",
    "plt.ylabel('ошибка')\n",
    "plt.xlabel('степень')\n",
    "\n",
    "\n",
    "def error_poly(n):\n",
    "  min_err = 10**20\n",
    "  min_lam = 0\n",
    "  for l in np.logspace(0, 20):\n",
    "    error = err(data_val, l)\n",
    "    if error < min_err:\n",
    "      min_err = error\n",
    "      min_lam = l\n",
    "\n",
    "  X_train = construct(data_train, n)\n",
    "  X_test = construct(data_test, n)\n",
    "  Y_train = data_train[:, 9].astype('float')\n",
    "  Y_test = data_test[:, 9].astype('float')\n",
    "  E = np.eye(X_train.shape[1])\n",
    "  res = np.dot(np.dot(np.linalg.inv(np.dot(X_train.T, X_train) - min_lam * E), X_train.T), Y_train)\n",
    "  new_price = np.dot(X_test, res)\n",
    "  error = np.sum((new_price - Y_test)**2) / len(data_test)\n",
    "  new_price_train = np.dot(X_train, res)\n",
    "  new_price_test = np.dot(X_test, res)\n",
    "  error_train = np.sum((new_price_train - Y_train)**2) / len(data_train)\n",
    "  error_test = np.sum((new_price_test - Y_test)**2) / len(data_test)\n",
    "  return error_train, error_test\n",
    "\n",
    "print()\n",
    "for i in range(1, 7):\n",
    "  error_train, error_test = error_poly(i)\n",
    "  print(error_train, error_test)\n",
    "  errors_train[i - 1] = error_train\n",
    "  errors_test[i - 1] = error_test\n",
    "pow = [1, 2, 3, 4, 5, 6]\n",
    "plt.plot(pow, np.log10(errors_train), color='green', label='Обучающая выборка, с регуляризацией')\n",
    "plt.plot(pow, np.log10(errors_test), color='orange', label='Тестовая выборка, с регуляризацией')\n",
    "plt.ylabel('ошибка')\n",
    "plt.xlabel('степень')\n",
    "plt.legend()"
   ]
  },
  {
   "cell_type": "markdown",
   "metadata": {
    "id": "jQQIxMZi_zwc"
   },
   "source": []
  },
  {
   "cell_type": "markdown",
   "metadata": {
    "id": "IwzU99F75DPx"
   },
   "source": [
    "**6. [1,15 балла]** Пусть заданы $X\\in \\text{Mat}_{n \\times k}(\\mathbb{R})$, $\\lambda \\geqslant 0$, а также известно, что $\\text{rk}~X = k \\leqslant n$. Решите следующую задачу оптимизации:\n",
    "$$|Xa - y|^2 + \\lambda|a|^2\\rightarrow\\min\\limits_{a \\in \\mathbb{R}^k}.$$\n",
    "\n",
    "Заметим, что первое слагаемое --- это значение mean-square error (с точностью до домножения на некоторую константу) модели с коэффициентами $a = (a_1, \\ldots, a_k)$. Типичной задачей линейной регрессии является минимизация первого слагаемого по всем векторам $a$. Однако в данном случае кроме минимизации среднеквадратичной ошибки мы также добавляем условие, что при этом и веса модели должны быть как можно меньше. Действительно, мы уже убедились, что чем сложнее модель, тем меньше будет ошибка на обучающей выборке (а именно это ошибку мы и минимизируем в процессе обучения) и тем вероятнее модель будет иметь большие по модулю коэффициенты, а значит, и большое значение $|a|$. Добавляя второе слагаемое в рассматриваемый выше функционал, мы как бы задаём ограничение на абсолютную величину коэффициентов модели. При этом параметр $\\lambda$ явно будет указывать, насколько сильно мы будем штрафовать модель за большие коэффициенты. Заметим, что если $\\lambda = 0$, то мы получаем классическую задачу линейной регресии без регуляризации."
   ]
  },
  {
   "cell_type": "markdown",
   "metadata": {
    "id": "m0l8CtbO7uxo"
   },
   "source": [
    "Возьмем производную у функционала $Q = |Xa - y|^2 + \\lambda|a|^2$:\n",
    "Чтобы матрицы при умножении согласовывались по размеру: $(|Xa - y|^2)' = 2|Xa - y|X^T$.\n",
    "Тогда $Q' = 2X^T|Xa - y| + 2\\lambda a$. Приравняем к нулю, чтобы найти точку минимума: \n",
    "$$2|Xa - y|X^T + 2\\lambda a = 0$$\n",
    "$$X^TXa + \\lambda a = X^Ty$$\n",
    "$$a = (X^TX - \\lambda E)^{-1}X^T y$$ \n",
    "У матриц $X^TX$ и $X^TX - \\lambda E$ собственные векторы совпадают, а собственные значения отличаются на $\\lambda$, значит если $X^TX$ невырождена, то это можно сказать и о  $X^TX - \\lambda E$."
   ]
  },
  {
   "cell_type": "markdown",
   "metadata": {
    "id": "GVmoHb9PAn75"
   },
   "source": [
    "**7. [0,25 балла]** При построении линейной модели у вас, как правило, есть также и свободный член, не зависящий от признаков из выборки. Подумайте, почему регуляризовать свободный член — плохая идея?"
   ]
  },
  {
   "cell_type": "markdown",
   "metadata": {
    "id": "Pz7uZUdjAn76"
   },
   "source": [
    "Целевая переменная может быть на несколько порядков больше признаков, которые обычно являются небольшими числами, а если мы применим регуляризатор, то ограничим коэффициенты, и линейная комбинация признаков тоже будет небольшим числом. Поэтому свободный член регуляризовывать плохо, так как он будет \"добавлять значения\". Иначе мы будем получать значения целевой переменной меньшие чем то, к чему мы стремимся. "
   ]
  },
  {
   "cell_type": "markdown",
   "metadata": {
    "id": "Gdffe8TCAn76"
   },
   "source": [
    "**8. [0,5 балла]** Пусть теперь $\\text{rk}~X < k$. Всегда ли в этом случае существует решение? Если существует, то является ли оно единственным? Ответ обоснуйте."
   ]
  },
  {
   "cell_type": "markdown",
   "metadata": {
    "id": "P1h46LL8An76"
   },
   "source": [
    "Если $\\lambda = 0$, то мы получим обычную систему уравнений, и решений будет бесконечно много. В случае, когда $\\lambda \\neq 0$ решение будет единственным, и выражаться по формуле АТАТА, как доказывалось на лекции."
   ]
  },
  {
   "cell_type": "markdown",
   "metadata": {
    "id": "m7gvthEgAn77"
   },
   "source": [
    "**9. [0,4 балла]** Покажите, что если решений бесконечно много, то среди них обязательно найдутся решения со сколь угодно большими по модулю компонентами вектора $a$."
   ]
  },
  {
   "cell_type": "markdown",
   "metadata": {
    "id": "gVPOHJuZAn77"
   },
   "source": [
    "Решений бесконечно много, значит некоторые переменные (компоненты вектора а) будут выражаться через другие, и при любых их значениях решение будет верным. Значит можно подобрать сколь угодно большие свободные переменные, и выразитьм через них главные."
   ]
  },
  {
   "cell_type": "markdown",
   "metadata": {
    "id": "l6hnfV4vAn7-"
   },
   "source": [
    "### Добавление. QR-разложение"
   ]
  },
  {
   "cell_type": "markdown",
   "metadata": {
    "id": "Al3Mv6w8An7-"
   },
   "source": [
    "**QR-разложением** матрицы $A$ (не обязательно квадратной) мы будем называть её представление в виде $A = QR$, где $Q$ — матрица с ортонормированными столбцами, а $R$ - верхнетреугольная матрица.\n",
    "\n",
    "Смысл QR-разложения следующий. Пусть $a_1,\\ldots,a_m$ — столбцы матрицы $A$, $q_1,\\ldots,q_t$ — столбцы матрицы $Q$. Тогда $q_1,\\ldots,q_t$ — это ортонормированный базис в подпространстве, являющемся линейной оболочкой векторов $a_1,\\ldots,a_m$, а в матрице $R$ записаны коэффициенты, с помощью которых $a_i$ выражаются через $q_1,\\ldots,q_t$.\n",
    "\n",
    "Находить QR-разложение заданной матрицы можно разными способами. Мы познакомим Вас не с самым лучшим из них, но по крайней мере с наиболее простым концептуально. Заметим, что ортогональный базис линейной оболочки можно найти с помощью ортогонализации Грама-Шмидта. При этом коэффициенты из матрицы $R$ получаются в качестве побочного продукта этого процесса:\n",
    "\n",
    "```python\n",
    "for j = 1...n:\n",
    "    q_j = a_j\n",
    "    for i = 1,...,j-1:\n",
    "        r_ij = (q_i, a_j)\n",
    "        q_j = q_j - r_ij * q_i\n",
    "    r_jj = |q_j|\n",
    "    if r_jj == 0: # a_j in <a_1,...,a_j-1>\n",
    "        # What would you do in this case?..\n",
    "    q_j = q_j / r_jj\n",
    "```\n",
    "\n",
    "Для нахождения QR-разложения Вы можете использовать библиотечную функцию `scipy.linalg.qr`."
   ]
  },
  {
   "cell_type": "markdown",
   "metadata": {
    "id": "UB3uxms8An7_"
   },
   "source": [
    "Поскольку лабораторная про линейную регрессию, не так-то просто замять вопрос о том, какое же отношение QR-разложение имеет к задаче регрессии. Упомянем одно из возможных применений.\n",
    "\n",
    "Допустим, мы нашли QR-разложение матрицы $X$, а именно: $X = QR$. Тогда\n",
    "$$X^TX = (QR)^T(QR) = R^TQ^TQR = R^TR$$"
   ]
  },
  {
   "cell_type": "markdown",
   "metadata": {
    "id": "2XfyZf8zAn7_"
   },
   "source": [
    "Поскольку в задаче регрессии матрица $X$ обычно полного ранга (то есть её столбцы линейно независимы), матрица $R$ будет квадратной. Благодаря этому нашу обычную формулу для набора регрессионных коэффициентов $\\hat{a}$ можно переписать в следующем виде:\n",
    "\n",
    "$$\\hat{a} = (X^TX)^{-1}X^Ty = (R^TR)^{-1}(QR)^Ty = R^{-1}(R^T)^{-1}R^TQ^Ty = R^{-1}Q^Ty$$\n",
    "\n",
    "Как видите, формула стала проще. Более того, зачастую обращение матрицы $R$ может быть численно более устойчиво, чем обращение матрицы $X^TX$."
   ]
  }
 ],
 "metadata": {
  "colab": {
   "collapsed_sections": [],
   "name": "HSE Lab (linear regression) 21-22.ipynb",
   "provenance": []
  },
  "kernelspec": {
   "display_name": "Python 3 (ipykernel)",
   "language": "python",
   "name": "python3"
  },
  "language_info": {
   "codemirror_mode": {
    "name": "ipython",
    "version": 3
   },
   "file_extension": ".py",
   "mimetype": "text/x-python",
   "name": "python",
   "nbconvert_exporter": "python",
   "pygments_lexer": "ipython3",
   "version": "3.10.3"
  }
 },
 "nbformat": 4,
 "nbformat_minor": 1
}
